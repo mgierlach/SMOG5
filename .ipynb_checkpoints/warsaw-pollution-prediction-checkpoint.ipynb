{
 "cells": [
  {
   "cell_type": "markdown",
   "metadata": {},
   "source": [
    "# Pollution prediction in Warsaw, Poland\n",
    "# Predykcja poziomu zapylenia powietrza w Warszawie"
   ]
  },
  {
   "cell_type": "markdown",
   "metadata": {},
   "source": [
    "## Zakres pracy:\n",
    "1. Opis problemu zapylenia powietrza w sezonie zimowym w obszarach zurbanizowanych.\n",
    "2. Przegląd literatury dotyczącej modeli służących do predykcji zapylenia powietrza .\n",
    "3. Zebranie i analiza dostępnych danych pogodowy i danych o jakości powietrza.\n",
    "4. Budowa modelu do predykcji zapylenia powietrza w Warszawie w sezonie zimowym.\n",
    "5. Testy otrzymanego modelu.\n",
    "6. Podsumowanie."
   ]
  },
  {
   "cell_type": "markdown",
   "metadata": {},
   "source": [
    "# Część techniczna - Jupyter Notebook\n",
    "# Eksploracyjna analiza danych + model uczenia maszynowego"
   ]
  },
  {
   "cell_type": "markdown",
   "metadata": {},
   "source": [
    "## 1. Obróbka wstępna"
   ]
  },
  {
   "cell_type": "markdown",
   "metadata": {},
   "source": [
    "### Biblioteki i ustawienia"
   ]
  },
  {
   "cell_type": "code",
   "execution_count": 161,
   "metadata": {
    "collapsed": true
   },
   "outputs": [],
   "source": [
    "import pandas as pd\n",
    "import numpy as np\n",
    "\n",
    "import seaborn as sns\n",
    "import matplotlib\n",
    "import matplotlib.pyplot as plt\n",
    "%matplotlib inline\n",
    "matplotlib.rcParams['figure.figsize'] = (10,10)\n",
    "\n",
    "import random as rnd\n",
    "import copy"
   ]
  },
  {
   "cell_type": "code",
   "execution_count": 162,
   "metadata": {
    "collapsed": true
   },
   "outputs": [],
   "source": [
    "import warnings\n",
    "\n",
    "def fxn():\n",
    "    warnings.warn(\"deprecated\", DeprecationWarning)\n",
    "\n",
    "with warnings.catch_warnings():\n",
    "    warnings.simplefilter(\"ignore\")\n",
    "    fxn()\n",
    "    \n",
    "pd.set_option('display.max_columns', 30)\n",
    "pd.set_option('display.max_rows', 150)"
   ]
  },
  {
   "cell_type": "markdown",
   "metadata": {},
   "source": [
    "### Dane pogodowe"
   ]
  },
  {
   "cell_type": "code",
   "execution_count": 42,
   "metadata": {
    "collapsed": true
   },
   "outputs": [],
   "source": [
    "df_pog1 = pd.read_csv(\"input_data/pogoda_s_d.txt\", header=None, sep=\",\")\n",
    "df_pog2 = pd.read_csv(\"input_data/pogoda_s_d_t.txt\", header=None, sep=\",\")"
   ]
  },
  {
   "cell_type": "code",
   "execution_count": 43,
   "metadata": {
    "collapsed": true
   },
   "outputs": [],
   "source": [
    "df_pog1 = df_pog1.iloc[:,:16]"
   ]
  },
  {
   "cell_type": "code",
   "execution_count": 44,
   "metadata": {
    "collapsed": true
   },
   "outputs": [],
   "source": [
    "df_pog1.columns = [\"kod_stacji\", \"nazwa_stacji\", \"rok\", \"miesiac\", \"dzien\", \"max_temp\", \"status_tmax\",\n",
    "                  \"min_temp\", \"status_tmin\", \"sr_temp\", \"status_tsr\", \"min_temp_grunt\", \"status_mtg\",\n",
    "                  \"suma_opad\", \"status_sopad\", \"rodz_opad\"]\n",
    "df_pog2.columns = [\"kod_stacji\", \"nazwa_stacji\", \"rok\", \"miesiac\", \"dzien\", \"sr_zachm\", \"status_sz\",\n",
    "                  \"sr_predk_wiatr\", \"status_spw\", \"sr_temp\", \"status_tsr\", \"sr_cisn\", \"status_sc\",\n",
    "                  \"sr_wilg\", \"status_swgg\", \"sr_cisn_stacja\", \"status_scs\", \"sr_cisn_morze\",\n",
    "                  \"status_scmm\", \"opad_dzien\", \"status_od\", \"opad_noc\", \"status_on\"]"
   ]
  },
  {
   "cell_type": "code",
   "execution_count": 45,
   "metadata": {
    "collapsed": true
   },
   "outputs": [],
   "source": [
    "df_pog1 = df_pog1.drop([\"kod_stacji\", \"nazwa_stacji\", \"status_tmax\", \"status_tmin\", \"status_tsr\", \"status_mtg\", \"status_sopad\"], \n",
    "                       axis=1)\n",
    "\n",
    "df_pog2 = df_pog2.drop([\"kod_stacji\", \"nazwa_stacji\", \"status_sz\", \"status_spw\", \"status_tsr\", \"status_sc\", \"status_swgg\",\n",
    "                        \"status_scs\", \"status_scmm\", \"status_od\", \"status_on\", \"sr_temp\"], axis=1)"
   ]
  },
  {
   "cell_type": "code",
   "execution_count": 46,
   "metadata": {
    "collapsed": true
   },
   "outputs": [],
   "source": [
    "# bo nie mam smogowych dla 2017\n",
    "df_pog1 = df_pog1[df_pog1.rok != 2017]\n",
    "df_pog2 = df_pog2[df_pog2.rok != 2017]"
   ]
  },
  {
   "cell_type": "code",
   "execution_count": 47,
   "metadata": {},
   "outputs": [
    {
     "data": {
      "text/html": [
       "<div>\n",
       "<style>\n",
       "    .dataframe thead tr:only-child th {\n",
       "        text-align: right;\n",
       "    }\n",
       "\n",
       "    .dataframe thead th {\n",
       "        text-align: left;\n",
       "    }\n",
       "\n",
       "    .dataframe tbody tr th {\n",
       "        vertical-align: top;\n",
       "    }\n",
       "</style>\n",
       "<table border=\"1\" class=\"dataframe\">\n",
       "  <thead>\n",
       "    <tr style=\"text-align: right;\">\n",
       "      <th></th>\n",
       "      <th>rok</th>\n",
       "      <th>miesiac</th>\n",
       "      <th>dzien</th>\n",
       "      <th>max_temp</th>\n",
       "      <th>min_temp</th>\n",
       "      <th>sr_temp</th>\n",
       "      <th>min_temp_grunt</th>\n",
       "      <th>suma_opad</th>\n",
       "      <th>rodz_opad</th>\n",
       "    </tr>\n",
       "  </thead>\n",
       "  <tbody>\n",
       "    <tr>\n",
       "      <th>0</th>\n",
       "      <td>2011</td>\n",
       "      <td>1</td>\n",
       "      <td>1</td>\n",
       "      <td>2.3</td>\n",
       "      <td>-2.1</td>\n",
       "      <td>0.9</td>\n",
       "      <td>-3.3</td>\n",
       "      <td>0.1</td>\n",
       "      <td>S</td>\n",
       "    </tr>\n",
       "    <tr>\n",
       "      <th>1</th>\n",
       "      <td>2011</td>\n",
       "      <td>1</td>\n",
       "      <td>2</td>\n",
       "      <td>1.7</td>\n",
       "      <td>-1.8</td>\n",
       "      <td>-1.1</td>\n",
       "      <td>-2.9</td>\n",
       "      <td>1.2</td>\n",
       "      <td>S</td>\n",
       "    </tr>\n",
       "    <tr>\n",
       "      <th>2</th>\n",
       "      <td>2011</td>\n",
       "      <td>1</td>\n",
       "      <td>3</td>\n",
       "      <td>-1.5</td>\n",
       "      <td>-3.6</td>\n",
       "      <td>-2.9</td>\n",
       "      <td>-4.9</td>\n",
       "      <td>0.3</td>\n",
       "      <td>S</td>\n",
       "    </tr>\n",
       "    <tr>\n",
       "      <th>3</th>\n",
       "      <td>2011</td>\n",
       "      <td>1</td>\n",
       "      <td>4</td>\n",
       "      <td>-2.0</td>\n",
       "      <td>-5.1</td>\n",
       "      <td>-4.6</td>\n",
       "      <td>-6.0</td>\n",
       "      <td>0.0</td>\n",
       "      <td>S</td>\n",
       "    </tr>\n",
       "    <tr>\n",
       "      <th>4</th>\n",
       "      <td>2011</td>\n",
       "      <td>1</td>\n",
       "      <td>5</td>\n",
       "      <td>-3.5</td>\n",
       "      <td>-12.4</td>\n",
       "      <td>-8.3</td>\n",
       "      <td>-15.5</td>\n",
       "      <td>0.0</td>\n",
       "      <td>NaN</td>\n",
       "    </tr>\n",
       "    <tr>\n",
       "      <th>5</th>\n",
       "      <td>2011</td>\n",
       "      <td>1</td>\n",
       "      <td>6</td>\n",
       "      <td>-0.2</td>\n",
       "      <td>-11.7</td>\n",
       "      <td>-5.4</td>\n",
       "      <td>-13.6</td>\n",
       "      <td>1.8</td>\n",
       "      <td>S</td>\n",
       "    </tr>\n",
       "  </tbody>\n",
       "</table>\n",
       "</div>"
      ],
      "text/plain": [
       "    rok  miesiac  dzien  max_temp  min_temp  sr_temp  min_temp_grunt  \\\n",
       "0  2011        1      1       2.3      -2.1      0.9            -3.3   \n",
       "1  2011        1      2       1.7      -1.8     -1.1            -2.9   \n",
       "2  2011        1      3      -1.5      -3.6     -2.9            -4.9   \n",
       "3  2011        1      4      -2.0      -5.1     -4.6            -6.0   \n",
       "4  2011        1      5      -3.5     -12.4     -8.3           -15.5   \n",
       "5  2011        1      6      -0.2     -11.7     -5.4           -13.6   \n",
       "\n",
       "   suma_opad rodz_opad  \n",
       "0        0.1         S  \n",
       "1        1.2         S  \n",
       "2        0.3         S  \n",
       "3        0.0         S  \n",
       "4        0.0       NaN  \n",
       "5        1.8         S  "
      ]
     },
     "execution_count": 47,
     "metadata": {},
     "output_type": "execute_result"
    }
   ],
   "source": [
    "df_pog1.head(6)"
   ]
  },
  {
   "cell_type": "code",
   "execution_count": 48,
   "metadata": {},
   "outputs": [
    {
     "data": {
      "text/html": [
       "<div>\n",
       "<style>\n",
       "    .dataframe thead tr:only-child th {\n",
       "        text-align: right;\n",
       "    }\n",
       "\n",
       "    .dataframe thead th {\n",
       "        text-align: left;\n",
       "    }\n",
       "\n",
       "    .dataframe tbody tr th {\n",
       "        vertical-align: top;\n",
       "    }\n",
       "</style>\n",
       "<table border=\"1\" class=\"dataframe\">\n",
       "  <thead>\n",
       "    <tr style=\"text-align: right;\">\n",
       "      <th></th>\n",
       "      <th>rok</th>\n",
       "      <th>miesiac</th>\n",
       "      <th>dzien</th>\n",
       "      <th>sr_zachm</th>\n",
       "      <th>sr_predk_wiatr</th>\n",
       "      <th>sr_cisn</th>\n",
       "      <th>sr_wilg</th>\n",
       "      <th>sr_cisn_stacja</th>\n",
       "      <th>sr_cisn_morze</th>\n",
       "      <th>opad_dzien</th>\n",
       "      <th>opad_noc</th>\n",
       "    </tr>\n",
       "  </thead>\n",
       "  <tbody>\n",
       "    <tr>\n",
       "      <th>0</th>\n",
       "      <td>2011</td>\n",
       "      <td>1</td>\n",
       "      <td>1</td>\n",
       "      <td>7.1</td>\n",
       "      <td>6.9</td>\n",
       "      <td>5.7</td>\n",
       "      <td>86.8</td>\n",
       "      <td>992.2</td>\n",
       "      <td>1005.5</td>\n",
       "      <td>0.1</td>\n",
       "      <td>0.0</td>\n",
       "    </tr>\n",
       "    <tr>\n",
       "      <th>1</th>\n",
       "      <td>2011</td>\n",
       "      <td>1</td>\n",
       "      <td>2</td>\n",
       "      <td>7.4</td>\n",
       "      <td>5.6</td>\n",
       "      <td>4.8</td>\n",
       "      <td>85.3</td>\n",
       "      <td>997.0</td>\n",
       "      <td>1010.4</td>\n",
       "      <td>0.8</td>\n",
       "      <td>0.4</td>\n",
       "    </tr>\n",
       "    <tr>\n",
       "      <th>2</th>\n",
       "      <td>2011</td>\n",
       "      <td>1</td>\n",
       "      <td>3</td>\n",
       "      <td>7.3</td>\n",
       "      <td>3.8</td>\n",
       "      <td>4.5</td>\n",
       "      <td>90.1</td>\n",
       "      <td>1004.0</td>\n",
       "      <td>1017.6</td>\n",
       "      <td>0.3</td>\n",
       "      <td>0.0</td>\n",
       "    </tr>\n",
       "    <tr>\n",
       "      <th>3</th>\n",
       "      <td>2011</td>\n",
       "      <td>1</td>\n",
       "      <td>4</td>\n",
       "      <td>6.0</td>\n",
       "      <td>2.1</td>\n",
       "      <td>3.7</td>\n",
       "      <td>84.0</td>\n",
       "      <td>1007.3</td>\n",
       "      <td>1021.0</td>\n",
       "      <td>0.0</td>\n",
       "      <td>0.0</td>\n",
       "    </tr>\n",
       "    <tr>\n",
       "      <th>4</th>\n",
       "      <td>2011</td>\n",
       "      <td>1</td>\n",
       "      <td>5</td>\n",
       "      <td>6.3</td>\n",
       "      <td>1.6</td>\n",
       "      <td>2.9</td>\n",
       "      <td>88.5</td>\n",
       "      <td>1007.8</td>\n",
       "      <td>1021.7</td>\n",
       "      <td>0.0</td>\n",
       "      <td>0.0</td>\n",
       "    </tr>\n",
       "    <tr>\n",
       "      <th>5</th>\n",
       "      <td>2011</td>\n",
       "      <td>1</td>\n",
       "      <td>6</td>\n",
       "      <td>4.6</td>\n",
       "      <td>3.6</td>\n",
       "      <td>3.4</td>\n",
       "      <td>80.5</td>\n",
       "      <td>1000.7</td>\n",
       "      <td>1014.4</td>\n",
       "      <td>0.0</td>\n",
       "      <td>1.8</td>\n",
       "    </tr>\n",
       "  </tbody>\n",
       "</table>\n",
       "</div>"
      ],
      "text/plain": [
       "    rok  miesiac  dzien  sr_zachm  sr_predk_wiatr  sr_cisn  sr_wilg  \\\n",
       "0  2011        1      1       7.1             6.9      5.7     86.8   \n",
       "1  2011        1      2       7.4             5.6      4.8     85.3   \n",
       "2  2011        1      3       7.3             3.8      4.5     90.1   \n",
       "3  2011        1      4       6.0             2.1      3.7     84.0   \n",
       "4  2011        1      5       6.3             1.6      2.9     88.5   \n",
       "5  2011        1      6       4.6             3.6      3.4     80.5   \n",
       "\n",
       "   sr_cisn_stacja  sr_cisn_morze  opad_dzien  opad_noc  \n",
       "0           992.2         1005.5         0.1       0.0  \n",
       "1           997.0         1010.4         0.8       0.4  \n",
       "2          1004.0         1017.6         0.3       0.0  \n",
       "3          1007.3         1021.0         0.0       0.0  \n",
       "4          1007.8         1021.7         0.0       0.0  \n",
       "5          1000.7         1014.4         0.0       1.8  "
      ]
     },
     "execution_count": 48,
     "metadata": {},
     "output_type": "execute_result"
    }
   ],
   "source": [
    "df_pog2.head(6)"
   ]
  },
  {
   "cell_type": "code",
   "execution_count": 49,
   "metadata": {},
   "outputs": [
    {
     "data": {
      "text/plain": [
       "True"
      ]
     },
     "execution_count": 49,
     "metadata": {},
     "output_type": "execute_result"
    }
   ],
   "source": [
    "df_pog1.iloc[:,0:3].equals(df_pog2.iloc[:,0:3])"
   ]
  },
  {
   "cell_type": "code",
   "execution_count": 50,
   "metadata": {
    "collapsed": true
   },
   "outputs": [],
   "source": [
    "df_pog = pd.concat([df_pog1, df_pog2.iloc[:,3:]], axis=1)"
   ]
  },
  {
   "cell_type": "code",
   "execution_count": 51,
   "metadata": {},
   "outputs": [
    {
     "data": {
      "text/html": [
       "<div>\n",
       "<style>\n",
       "    .dataframe thead tr:only-child th {\n",
       "        text-align: right;\n",
       "    }\n",
       "\n",
       "    .dataframe thead th {\n",
       "        text-align: left;\n",
       "    }\n",
       "\n",
       "    .dataframe tbody tr th {\n",
       "        vertical-align: top;\n",
       "    }\n",
       "</style>\n",
       "<table border=\"1\" class=\"dataframe\">\n",
       "  <thead>\n",
       "    <tr style=\"text-align: right;\">\n",
       "      <th></th>\n",
       "      <th>rok</th>\n",
       "      <th>miesiac</th>\n",
       "      <th>dzien</th>\n",
       "      <th>max_temp</th>\n",
       "      <th>min_temp</th>\n",
       "      <th>sr_temp</th>\n",
       "      <th>min_temp_grunt</th>\n",
       "      <th>suma_opad</th>\n",
       "      <th>rodz_opad</th>\n",
       "      <th>sr_zachm</th>\n",
       "      <th>sr_predk_wiatr</th>\n",
       "      <th>sr_cisn</th>\n",
       "      <th>sr_wilg</th>\n",
       "      <th>sr_cisn_stacja</th>\n",
       "      <th>sr_cisn_morze</th>\n",
       "      <th>opad_dzien</th>\n",
       "      <th>opad_noc</th>\n",
       "    </tr>\n",
       "  </thead>\n",
       "  <tbody>\n",
       "    <tr>\n",
       "      <th>0</th>\n",
       "      <td>2011</td>\n",
       "      <td>1</td>\n",
       "      <td>1</td>\n",
       "      <td>2.3</td>\n",
       "      <td>-2.1</td>\n",
       "      <td>0.9</td>\n",
       "      <td>-3.3</td>\n",
       "      <td>0.1</td>\n",
       "      <td>S</td>\n",
       "      <td>7.1</td>\n",
       "      <td>6.9</td>\n",
       "      <td>5.7</td>\n",
       "      <td>86.8</td>\n",
       "      <td>992.2</td>\n",
       "      <td>1005.5</td>\n",
       "      <td>0.1</td>\n",
       "      <td>0.0</td>\n",
       "    </tr>\n",
       "    <tr>\n",
       "      <th>1</th>\n",
       "      <td>2011</td>\n",
       "      <td>1</td>\n",
       "      <td>2</td>\n",
       "      <td>1.7</td>\n",
       "      <td>-1.8</td>\n",
       "      <td>-1.1</td>\n",
       "      <td>-2.9</td>\n",
       "      <td>1.2</td>\n",
       "      <td>S</td>\n",
       "      <td>7.4</td>\n",
       "      <td>5.6</td>\n",
       "      <td>4.8</td>\n",
       "      <td>85.3</td>\n",
       "      <td>997.0</td>\n",
       "      <td>1010.4</td>\n",
       "      <td>0.8</td>\n",
       "      <td>0.4</td>\n",
       "    </tr>\n",
       "    <tr>\n",
       "      <th>2</th>\n",
       "      <td>2011</td>\n",
       "      <td>1</td>\n",
       "      <td>3</td>\n",
       "      <td>-1.5</td>\n",
       "      <td>-3.6</td>\n",
       "      <td>-2.9</td>\n",
       "      <td>-4.9</td>\n",
       "      <td>0.3</td>\n",
       "      <td>S</td>\n",
       "      <td>7.3</td>\n",
       "      <td>3.8</td>\n",
       "      <td>4.5</td>\n",
       "      <td>90.1</td>\n",
       "      <td>1004.0</td>\n",
       "      <td>1017.6</td>\n",
       "      <td>0.3</td>\n",
       "      <td>0.0</td>\n",
       "    </tr>\n",
       "    <tr>\n",
       "      <th>3</th>\n",
       "      <td>2011</td>\n",
       "      <td>1</td>\n",
       "      <td>4</td>\n",
       "      <td>-2.0</td>\n",
       "      <td>-5.1</td>\n",
       "      <td>-4.6</td>\n",
       "      <td>-6.0</td>\n",
       "      <td>0.0</td>\n",
       "      <td>S</td>\n",
       "      <td>6.0</td>\n",
       "      <td>2.1</td>\n",
       "      <td>3.7</td>\n",
       "      <td>84.0</td>\n",
       "      <td>1007.3</td>\n",
       "      <td>1021.0</td>\n",
       "      <td>0.0</td>\n",
       "      <td>0.0</td>\n",
       "    </tr>\n",
       "    <tr>\n",
       "      <th>4</th>\n",
       "      <td>2011</td>\n",
       "      <td>1</td>\n",
       "      <td>5</td>\n",
       "      <td>-3.5</td>\n",
       "      <td>-12.4</td>\n",
       "      <td>-8.3</td>\n",
       "      <td>-15.5</td>\n",
       "      <td>0.0</td>\n",
       "      <td>NaN</td>\n",
       "      <td>6.3</td>\n",
       "      <td>1.6</td>\n",
       "      <td>2.9</td>\n",
       "      <td>88.5</td>\n",
       "      <td>1007.8</td>\n",
       "      <td>1021.7</td>\n",
       "      <td>0.0</td>\n",
       "      <td>0.0</td>\n",
       "    </tr>\n",
       "    <tr>\n",
       "      <th>5</th>\n",
       "      <td>2011</td>\n",
       "      <td>1</td>\n",
       "      <td>6</td>\n",
       "      <td>-0.2</td>\n",
       "      <td>-11.7</td>\n",
       "      <td>-5.4</td>\n",
       "      <td>-13.6</td>\n",
       "      <td>1.8</td>\n",
       "      <td>S</td>\n",
       "      <td>4.6</td>\n",
       "      <td>3.6</td>\n",
       "      <td>3.4</td>\n",
       "      <td>80.5</td>\n",
       "      <td>1000.7</td>\n",
       "      <td>1014.4</td>\n",
       "      <td>0.0</td>\n",
       "      <td>1.8</td>\n",
       "    </tr>\n",
       "  </tbody>\n",
       "</table>\n",
       "</div>"
      ],
      "text/plain": [
       "    rok  miesiac  dzien  max_temp  min_temp  sr_temp  min_temp_grunt  \\\n",
       "0  2011        1      1       2.3      -2.1      0.9            -3.3   \n",
       "1  2011        1      2       1.7      -1.8     -1.1            -2.9   \n",
       "2  2011        1      3      -1.5      -3.6     -2.9            -4.9   \n",
       "3  2011        1      4      -2.0      -5.1     -4.6            -6.0   \n",
       "4  2011        1      5      -3.5     -12.4     -8.3           -15.5   \n",
       "5  2011        1      6      -0.2     -11.7     -5.4           -13.6   \n",
       "\n",
       "   suma_opad rodz_opad  sr_zachm  sr_predk_wiatr  sr_cisn  sr_wilg  \\\n",
       "0        0.1         S       7.1             6.9      5.7     86.8   \n",
       "1        1.2         S       7.4             5.6      4.8     85.3   \n",
       "2        0.3         S       7.3             3.8      4.5     90.1   \n",
       "3        0.0         S       6.0             2.1      3.7     84.0   \n",
       "4        0.0       NaN       6.3             1.6      2.9     88.5   \n",
       "5        1.8         S       4.6             3.6      3.4     80.5   \n",
       "\n",
       "   sr_cisn_stacja  sr_cisn_morze  opad_dzien  opad_noc  \n",
       "0           992.2         1005.5         0.1       0.0  \n",
       "1           997.0         1010.4         0.8       0.4  \n",
       "2          1004.0         1017.6         0.3       0.0  \n",
       "3          1007.3         1021.0         0.0       0.0  \n",
       "4          1007.8         1021.7         0.0       0.0  \n",
       "5          1000.7         1014.4         0.0       1.8  "
      ]
     },
     "execution_count": 51,
     "metadata": {},
     "output_type": "execute_result"
    }
   ],
   "source": [
    "df_pog.head(6)"
   ]
  },
  {
   "cell_type": "markdown",
   "metadata": {},
   "source": [
    "### Dane smogowe"
   ]
  },
  {
   "cell_type": "code",
   "execution_count": 52,
   "metadata": {
    "collapsed": true
   },
   "outputs": [],
   "source": [
    "df_pm10 = pd.read_csv(\"input_data/pm10.csv\", sep=\";\", decimal=\",\")\n",
    "df_pm25 = pd.read_csv(\"input_data/pm25.csv\", sep=\";\", decimal=\",\")"
   ]
  },
  {
   "cell_type": "code",
   "execution_count": 53,
   "metadata": {
    "collapsed": true
   },
   "outputs": [],
   "source": [
    "df_pm10.godzina = df_pm10.godzina.str[0:2]\n",
    "df_pm25.godzina = df_pm25.godzina.str[0:2]"
   ]
  },
  {
   "cell_type": "code",
   "execution_count": 54,
   "metadata": {},
   "outputs": [
    {
     "name": "stdout",
     "output_type": "stream",
     "text": [
      "(52608, 4)\n",
      "(52608, 4)\n"
     ]
    }
   ],
   "source": [
    "print(df_pm10.shape)\n",
    "print(df_pm25.shape)"
   ]
  },
  {
   "cell_type": "code",
   "execution_count": 55,
   "metadata": {},
   "outputs": [
    {
     "data": {
      "text/html": [
       "<div>\n",
       "<style>\n",
       "    .dataframe thead tr:only-child th {\n",
       "        text-align: right;\n",
       "    }\n",
       "\n",
       "    .dataframe thead th {\n",
       "        text-align: left;\n",
       "    }\n",
       "\n",
       "    .dataframe tbody tr th {\n",
       "        vertical-align: top;\n",
       "    }\n",
       "</style>\n",
       "<table border=\"1\" class=\"dataframe\">\n",
       "  <thead>\n",
       "    <tr style=\"text-align: right;\">\n",
       "      <th></th>\n",
       "      <th>data</th>\n",
       "      <th>godzina</th>\n",
       "      <th>pm10_niepodleglosci</th>\n",
       "      <th>pm10_wokalna</th>\n",
       "    </tr>\n",
       "  </thead>\n",
       "  <tbody>\n",
       "    <tr>\n",
       "      <th>0</th>\n",
       "      <td>01.01.2011</td>\n",
       "      <td>01</td>\n",
       "      <td>67.5</td>\n",
       "      <td>41.0</td>\n",
       "    </tr>\n",
       "    <tr>\n",
       "      <th>1</th>\n",
       "      <td>01.01.2011</td>\n",
       "      <td>02</td>\n",
       "      <td>54.6</td>\n",
       "      <td>31.4</td>\n",
       "    </tr>\n",
       "    <tr>\n",
       "      <th>2</th>\n",
       "      <td>01.01.2011</td>\n",
       "      <td>03</td>\n",
       "      <td>46.5</td>\n",
       "      <td>21.8</td>\n",
       "    </tr>\n",
       "    <tr>\n",
       "      <th>3</th>\n",
       "      <td>01.01.2011</td>\n",
       "      <td>04</td>\n",
       "      <td>33.7</td>\n",
       "      <td>20.3</td>\n",
       "    </tr>\n",
       "    <tr>\n",
       "      <th>4</th>\n",
       "      <td>01.01.2011</td>\n",
       "      <td>05</td>\n",
       "      <td>30.3</td>\n",
       "      <td>19.2</td>\n",
       "    </tr>\n",
       "    <tr>\n",
       "      <th>5</th>\n",
       "      <td>01.01.2011</td>\n",
       "      <td>06</td>\n",
       "      <td>29.8</td>\n",
       "      <td>18.3</td>\n",
       "    </tr>\n",
       "  </tbody>\n",
       "</table>\n",
       "</div>"
      ],
      "text/plain": [
       "         data godzina  pm10_niepodleglosci  pm10_wokalna\n",
       "0  01.01.2011      01                 67.5          41.0\n",
       "1  01.01.2011      02                 54.6          31.4\n",
       "2  01.01.2011      03                 46.5          21.8\n",
       "3  01.01.2011      04                 33.7          20.3\n",
       "4  01.01.2011      05                 30.3          19.2\n",
       "5  01.01.2011      06                 29.8          18.3"
      ]
     },
     "execution_count": 55,
     "metadata": {},
     "output_type": "execute_result"
    }
   ],
   "source": [
    "df_pm10.head(6)"
   ]
  },
  {
   "cell_type": "code",
   "execution_count": 56,
   "metadata": {},
   "outputs": [
    {
     "data": {
      "text/html": [
       "<div>\n",
       "<style>\n",
       "    .dataframe thead tr:only-child th {\n",
       "        text-align: right;\n",
       "    }\n",
       "\n",
       "    .dataframe thead th {\n",
       "        text-align: left;\n",
       "    }\n",
       "\n",
       "    .dataframe tbody tr th {\n",
       "        vertical-align: top;\n",
       "    }\n",
       "</style>\n",
       "<table border=\"1\" class=\"dataframe\">\n",
       "  <thead>\n",
       "    <tr style=\"text-align: right;\">\n",
       "      <th></th>\n",
       "      <th>data</th>\n",
       "      <th>godzina</th>\n",
       "      <th>pm25_niepodleglosci</th>\n",
       "      <th>pm25_wokalna</th>\n",
       "    </tr>\n",
       "  </thead>\n",
       "  <tbody>\n",
       "    <tr>\n",
       "      <th>0</th>\n",
       "      <td>01.01.2011</td>\n",
       "      <td>01</td>\n",
       "      <td>56.4</td>\n",
       "      <td>33.4</td>\n",
       "    </tr>\n",
       "    <tr>\n",
       "      <th>1</th>\n",
       "      <td>01.01.2011</td>\n",
       "      <td>02</td>\n",
       "      <td>41.0</td>\n",
       "      <td>30.7</td>\n",
       "    </tr>\n",
       "    <tr>\n",
       "      <th>2</th>\n",
       "      <td>01.01.2011</td>\n",
       "      <td>03</td>\n",
       "      <td>31.9</td>\n",
       "      <td>25.5</td>\n",
       "    </tr>\n",
       "    <tr>\n",
       "      <th>3</th>\n",
       "      <td>01.01.2011</td>\n",
       "      <td>04</td>\n",
       "      <td>28.4</td>\n",
       "      <td>16.2</td>\n",
       "    </tr>\n",
       "    <tr>\n",
       "      <th>4</th>\n",
       "      <td>01.01.2011</td>\n",
       "      <td>05</td>\n",
       "      <td>27.9</td>\n",
       "      <td>14.9</td>\n",
       "    </tr>\n",
       "    <tr>\n",
       "      <th>5</th>\n",
       "      <td>01.01.2011</td>\n",
       "      <td>06</td>\n",
       "      <td>23.6</td>\n",
       "      <td>13.6</td>\n",
       "    </tr>\n",
       "  </tbody>\n",
       "</table>\n",
       "</div>"
      ],
      "text/plain": [
       "         data godzina  pm25_niepodleglosci  pm25_wokalna\n",
       "0  01.01.2011      01                 56.4          33.4\n",
       "1  01.01.2011      02                 41.0          30.7\n",
       "2  01.01.2011      03                 31.9          25.5\n",
       "3  01.01.2011      04                 28.4          16.2\n",
       "4  01.01.2011      05                 27.9          14.9\n",
       "5  01.01.2011      06                 23.6          13.6"
      ]
     },
     "execution_count": 56,
     "metadata": {},
     "output_type": "execute_result"
    }
   ],
   "source": [
    "df_pm25.head(6)"
   ]
  },
  {
   "cell_type": "code",
   "execution_count": 57,
   "metadata": {},
   "outputs": [
    {
     "data": {
      "text/plain": [
       "True"
      ]
     },
     "execution_count": 57,
     "metadata": {},
     "output_type": "execute_result"
    }
   ],
   "source": [
    "df_pm10.iloc[:,0:2].equals(df_pm25.iloc[:,0:2])"
   ]
  },
  {
   "cell_type": "code",
   "execution_count": 58,
   "metadata": {
    "collapsed": true
   },
   "outputs": [],
   "source": [
    "df_pm = pd.concat([df_pm10, df_pm25.iloc[:,2:]], axis=1)"
   ]
  },
  {
   "cell_type": "code",
   "execution_count": 59,
   "metadata": {},
   "outputs": [
    {
     "data": {
      "text/html": [
       "<div>\n",
       "<style>\n",
       "    .dataframe thead tr:only-child th {\n",
       "        text-align: right;\n",
       "    }\n",
       "\n",
       "    .dataframe thead th {\n",
       "        text-align: left;\n",
       "    }\n",
       "\n",
       "    .dataframe tbody tr th {\n",
       "        vertical-align: top;\n",
       "    }\n",
       "</style>\n",
       "<table border=\"1\" class=\"dataframe\">\n",
       "  <thead>\n",
       "    <tr style=\"text-align: right;\">\n",
       "      <th></th>\n",
       "      <th>data</th>\n",
       "      <th>godzina</th>\n",
       "      <th>pm10_niepodleglosci</th>\n",
       "      <th>pm10_wokalna</th>\n",
       "      <th>pm25_niepodleglosci</th>\n",
       "      <th>pm25_wokalna</th>\n",
       "    </tr>\n",
       "  </thead>\n",
       "  <tbody>\n",
       "    <tr>\n",
       "      <th>0</th>\n",
       "      <td>01.01.2011</td>\n",
       "      <td>01</td>\n",
       "      <td>67.5</td>\n",
       "      <td>41.0</td>\n",
       "      <td>56.4</td>\n",
       "      <td>33.4</td>\n",
       "    </tr>\n",
       "    <tr>\n",
       "      <th>1</th>\n",
       "      <td>01.01.2011</td>\n",
       "      <td>02</td>\n",
       "      <td>54.6</td>\n",
       "      <td>31.4</td>\n",
       "      <td>41.0</td>\n",
       "      <td>30.7</td>\n",
       "    </tr>\n",
       "    <tr>\n",
       "      <th>2</th>\n",
       "      <td>01.01.2011</td>\n",
       "      <td>03</td>\n",
       "      <td>46.5</td>\n",
       "      <td>21.8</td>\n",
       "      <td>31.9</td>\n",
       "      <td>25.5</td>\n",
       "    </tr>\n",
       "    <tr>\n",
       "      <th>3</th>\n",
       "      <td>01.01.2011</td>\n",
       "      <td>04</td>\n",
       "      <td>33.7</td>\n",
       "      <td>20.3</td>\n",
       "      <td>28.4</td>\n",
       "      <td>16.2</td>\n",
       "    </tr>\n",
       "    <tr>\n",
       "      <th>4</th>\n",
       "      <td>01.01.2011</td>\n",
       "      <td>05</td>\n",
       "      <td>30.3</td>\n",
       "      <td>19.2</td>\n",
       "      <td>27.9</td>\n",
       "      <td>14.9</td>\n",
       "    </tr>\n",
       "    <tr>\n",
       "      <th>5</th>\n",
       "      <td>01.01.2011</td>\n",
       "      <td>06</td>\n",
       "      <td>29.8</td>\n",
       "      <td>18.3</td>\n",
       "      <td>23.6</td>\n",
       "      <td>13.6</td>\n",
       "    </tr>\n",
       "    <tr>\n",
       "      <th>6</th>\n",
       "      <td>01.01.2011</td>\n",
       "      <td>07</td>\n",
       "      <td>26.7</td>\n",
       "      <td>14.4</td>\n",
       "      <td>21.1</td>\n",
       "      <td>12.9</td>\n",
       "    </tr>\n",
       "    <tr>\n",
       "      <th>7</th>\n",
       "      <td>01.01.2011</td>\n",
       "      <td>08</td>\n",
       "      <td>22.2</td>\n",
       "      <td>12.4</td>\n",
       "      <td>20.3</td>\n",
       "      <td>19.8</td>\n",
       "    </tr>\n",
       "    <tr>\n",
       "      <th>8</th>\n",
       "      <td>01.01.2011</td>\n",
       "      <td>09</td>\n",
       "      <td>23.9</td>\n",
       "      <td>10.3</td>\n",
       "      <td>20.5</td>\n",
       "      <td>15.2</td>\n",
       "    </tr>\n",
       "    <tr>\n",
       "      <th>9</th>\n",
       "      <td>01.01.2011</td>\n",
       "      <td>10</td>\n",
       "      <td>19.1</td>\n",
       "      <td>9.2</td>\n",
       "      <td>18.0</td>\n",
       "      <td>15.3</td>\n",
       "    </tr>\n",
       "  </tbody>\n",
       "</table>\n",
       "</div>"
      ],
      "text/plain": [
       "         data godzina  pm10_niepodleglosci  pm10_wokalna  pm25_niepodleglosci  \\\n",
       "0  01.01.2011      01                 67.5          41.0                 56.4   \n",
       "1  01.01.2011      02                 54.6          31.4                 41.0   \n",
       "2  01.01.2011      03                 46.5          21.8                 31.9   \n",
       "3  01.01.2011      04                 33.7          20.3                 28.4   \n",
       "4  01.01.2011      05                 30.3          19.2                 27.9   \n",
       "5  01.01.2011      06                 29.8          18.3                 23.6   \n",
       "6  01.01.2011      07                 26.7          14.4                 21.1   \n",
       "7  01.01.2011      08                 22.2          12.4                 20.3   \n",
       "8  01.01.2011      09                 23.9          10.3                 20.5   \n",
       "9  01.01.2011      10                 19.1           9.2                 18.0   \n",
       "\n",
       "   pm25_wokalna  \n",
       "0          33.4  \n",
       "1          30.7  \n",
       "2          25.5  \n",
       "3          16.2  \n",
       "4          14.9  \n",
       "5          13.6  \n",
       "6          12.9  \n",
       "7          19.8  \n",
       "8          15.2  \n",
       "9          15.3  "
      ]
     },
     "execution_count": 59,
     "metadata": {},
     "output_type": "execute_result"
    }
   ],
   "source": [
    "df_pm.head(10)"
   ]
  },
  {
   "cell_type": "code",
   "execution_count": 60,
   "metadata": {
    "collapsed": true
   },
   "outputs": [],
   "source": [
    "godziny = df_pm[\"godzina\"].unique()\n",
    "indeks_pm = df_pm.columns[2:]"
   ]
  },
  {
   "cell_type": "code",
   "execution_count": 61,
   "metadata": {
    "collapsed": true
   },
   "outputs": [],
   "source": [
    "# srednie dla godzin\n",
    "srednie_pm = pd.DataFrame(np.random.randn(4,24), index=indeks_pm, columns=godziny)\n",
    "for i in range(srednie_pm.shape[1]) :\n",
    "    sr = df_pm[df_pm[\"godzina\"].isin([srednie_pm.columns[i]])].mean()\n",
    "    for j in range(srednie_pm.shape[0]) :\n",
    "        srednie_pm.iloc[j,i] = sr[j]"
   ]
  },
  {
   "cell_type": "code",
   "execution_count": 62,
   "metadata": {},
   "outputs": [
    {
     "data": {
      "text/html": [
       "<div>\n",
       "<style>\n",
       "    .dataframe thead tr:only-child th {\n",
       "        text-align: right;\n",
       "    }\n",
       "\n",
       "    .dataframe thead th {\n",
       "        text-align: left;\n",
       "    }\n",
       "\n",
       "    .dataframe tbody tr th {\n",
       "        vertical-align: top;\n",
       "    }\n",
       "</style>\n",
       "<table border=\"1\" class=\"dataframe\">\n",
       "  <thead>\n",
       "    <tr style=\"text-align: right;\">\n",
       "      <th></th>\n",
       "      <th>pm10_niepodleglosci</th>\n",
       "      <th>pm10_wokalna</th>\n",
       "      <th>pm25_niepodleglosci</th>\n",
       "      <th>pm25_wokalna</th>\n",
       "    </tr>\n",
       "  </thead>\n",
       "  <tbody>\n",
       "    <tr>\n",
       "      <th>01</th>\n",
       "      <td>39.085410</td>\n",
       "      <td>36.213252</td>\n",
       "      <td>29.380517</td>\n",
       "      <td>28.503856</td>\n",
       "    </tr>\n",
       "    <tr>\n",
       "      <th>02</th>\n",
       "      <td>37.103934</td>\n",
       "      <td>35.262282</td>\n",
       "      <td>28.395094</td>\n",
       "      <td>27.994030</td>\n",
       "    </tr>\n",
       "    <tr>\n",
       "      <th>03</th>\n",
       "      <td>35.678677</td>\n",
       "      <td>34.256482</td>\n",
       "      <td>27.625678</td>\n",
       "      <td>27.461162</td>\n",
       "    </tr>\n",
       "    <tr>\n",
       "      <th>04</th>\n",
       "      <td>34.997884</td>\n",
       "      <td>33.289867</td>\n",
       "      <td>26.945694</td>\n",
       "      <td>26.777837</td>\n",
       "    </tr>\n",
       "    <tr>\n",
       "      <th>05</th>\n",
       "      <td>35.448649</td>\n",
       "      <td>32.690531</td>\n",
       "      <td>26.910224</td>\n",
       "      <td>26.061297</td>\n",
       "    </tr>\n",
       "    <tr>\n",
       "      <th>06</th>\n",
       "      <td>38.100741</td>\n",
       "      <td>32.467231</td>\n",
       "      <td>27.583019</td>\n",
       "      <td>25.427605</td>\n",
       "    </tr>\n",
       "    <tr>\n",
       "      <th>07</th>\n",
       "      <td>42.154118</td>\n",
       "      <td>32.949061</td>\n",
       "      <td>28.677171</td>\n",
       "      <td>24.784739</td>\n",
       "    </tr>\n",
       "    <tr>\n",
       "      <th>08</th>\n",
       "      <td>45.080730</td>\n",
       "      <td>33.200124</td>\n",
       "      <td>29.189621</td>\n",
       "      <td>24.172337</td>\n",
       "    </tr>\n",
       "  </tbody>\n",
       "</table>\n",
       "</div>"
      ],
      "text/plain": [
       "    pm10_niepodleglosci  pm10_wokalna  pm25_niepodleglosci  pm25_wokalna\n",
       "01            39.085410     36.213252            29.380517     28.503856\n",
       "02            37.103934     35.262282            28.395094     27.994030\n",
       "03            35.678677     34.256482            27.625678     27.461162\n",
       "04            34.997884     33.289867            26.945694     26.777837\n",
       "05            35.448649     32.690531            26.910224     26.061297\n",
       "06            38.100741     32.467231            27.583019     25.427605\n",
       "07            42.154118     32.949061            28.677171     24.784739\n",
       "08            45.080730     33.200124            29.189621     24.172337"
      ]
     },
     "execution_count": 62,
     "metadata": {},
     "output_type": "execute_result"
    }
   ],
   "source": [
    "srednie_pm_T = srednie_pm.T\n",
    "srednie_pm_T.head(8)"
   ]
  },
  {
   "cell_type": "code",
   "execution_count": 63,
   "metadata": {},
   "outputs": [
    {
     "data": {
      "text/plain": [
       "<matplotlib.axes._subplots.AxesSubplot at 0xd824c50>"
      ]
     },
     "execution_count": 63,
     "metadata": {},
     "output_type": "execute_result"
    },
    {
     "data": {
      "image/png": "[encoded data removed]",
      "text/plain": [
       "<matplotlib.figure.Figure at 0xd8347b8>"
      ]
     },
     "metadata": {},
     "output_type": "display_data"
    }
   ],
   "source": [
    "srednie_pm_T.plot(xticks=[1,2,3,4,5,6,7,8,9,10,11,12,13,14,15,16,17,18,19,20,21,22,23,0])"
   ]
  },
  {
   "cell_type": "markdown",
   "metadata": {},
   "source": [
    "Chcemy znać predykcję smogu dla całego dnia (uśrednioną) oraz konkretnie dla 8 rano."
   ]
  },
  {
   "cell_type": "code",
   "execution_count": 64,
   "metadata": {},
   "outputs": [
    {
     "name": "stderr",
     "output_type": "stream",
     "text": [
      "C:\\ProgramData\\Anaconda3\\lib\\site-packages\\ipykernel_launcher.py:4: SettingWithCopyWarning: \n",
      "A value is trying to be set on a copy of a slice from a DataFrame.\n",
      "Try using .loc[row_indexer,col_indexer] = value instead\n",
      "\n",
      "See the caveats in the documentation: http://pandas.pydata.org/pandas-docs/stable/indexing.html#indexing-view-versus-copy\n",
      "  after removing the cwd from sys.path.\n",
      "C:\\ProgramData\\Anaconda3\\lib\\site-packages\\ipykernel_launcher.py:5: SettingWithCopyWarning: \n",
      "A value is trying to be set on a copy of a slice from a DataFrame.\n",
      "Try using .loc[row_indexer,col_indexer] = value instead\n",
      "\n",
      "See the caveats in the documentation: http://pandas.pydata.org/pandas-docs/stable/indexing.html#indexing-view-versus-copy\n",
      "  \"\"\"\n",
      "C:\\ProgramData\\Anaconda3\\lib\\site-packages\\ipykernel_launcher.py:6: SettingWithCopyWarning: \n",
      "A value is trying to be set on a copy of a slice from a DataFrame.\n",
      "Try using .loc[row_indexer,col_indexer] = value instead\n",
      "\n",
      "See the caveats in the documentation: http://pandas.pydata.org/pandas-docs/stable/indexing.html#indexing-view-versus-copy\n",
      "  \n",
      "C:\\ProgramData\\Anaconda3\\lib\\site-packages\\ipykernel_launcher.py:7: SettingWithCopyWarning: \n",
      "A value is trying to be set on a copy of a slice from a DataFrame.\n",
      "Try using .loc[row_indexer,col_indexer] = value instead\n",
      "\n",
      "See the caveats in the documentation: http://pandas.pydata.org/pandas-docs/stable/indexing.html#indexing-view-versus-copy\n",
      "  import sys\n",
      "C:\\ProgramData\\Anaconda3\\lib\\site-packages\\ipykernel_launcher.py:21: UserWarning: Boolean Series key will be reindexed to match DataFrame index.\n",
      "C:\\ProgramData\\Anaconda3\\lib\\site-packages\\ipykernel_launcher.py:22: UserWarning: Boolean Series key will be reindexed to match DataFrame index.\n",
      "C:\\ProgramData\\Anaconda3\\lib\\site-packages\\ipykernel_launcher.py:23: UserWarning: Boolean Series key will be reindexed to match DataFrame index.\n",
      "C:\\ProgramData\\Anaconda3\\lib\\site-packages\\ipykernel_launcher.py:24: UserWarning: Boolean Series key will be reindexed to match DataFrame index.\n"
     ]
    }
   ],
   "source": [
    "df_pm_mala = df_pm.iloc[0:1,:]\n",
    "df_pm_mala.columns = [\"data\", \"godzina\",\"pm10_sr_niep\", \"pm10_sr_wok\", \"pm25_sr_niep\", \"pm25_sr_wok\"]\n",
    "\n",
    "df_pm_mala[\"pm10_8_niep\"] = 0\n",
    "df_pm_mala[\"pm10_8_wok\"] = 0\n",
    "df_pm_mala[\"pm25_8_niep\"] = 0\n",
    "df_pm_mala[\"pm25_8_wok\"] = 0\n",
    "\n",
    "df_pm_mala = df_pm_mala.drop('godzina', 1)\n",
    "\n",
    "df_pm_mala[:] = 0\n",
    "\n",
    "daty = df_pm[\"data\"].unique()\n",
    "\n",
    "for i in range(len(daty)-1):\n",
    "    df_pm_mala.loc[i,\"data\"] = daty[i]\n",
    "    df_pm_mala.loc[i,\"pm10_sr_niep\"] = df_pm[df_pm[\"data\"].isin([daty[i]])][\"pm10_niepodleglosci\"].mean()\n",
    "    df_pm_mala.loc[i,\"pm10_sr_wok\"] = df_pm[df_pm[\"data\"].isin([daty[i]])][\"pm10_wokalna\"].mean()\n",
    "    df_pm_mala.loc[i,\"pm25_sr_niep\"] = df_pm[df_pm[\"data\"].isin([daty[i]])][\"pm25_niepodleglosci\"].mean()\n",
    "    df_pm_mala.loc[i,\"pm25_sr_wok\"] = df_pm[df_pm[\"data\"].isin([daty[i]])][\"pm25_wokalna\"].mean()\n",
    "    df_pm_mala.loc[i,\"pm10_8_niep\"] = df_pm[df_pm[\"data\"].isin([daty[i]])][df_pm[\"godzina\"].isin([\"08\"])][\"pm10_niepodleglosci\"].values[0]\n",
    "    df_pm_mala.loc[i,\"pm10_8_wok\"] = df_pm[df_pm[\"data\"].isin([daty[i]])][df_pm[\"godzina\"].isin([\"08\"])][\"pm10_wokalna\"].values[0]\n",
    "    df_pm_mala.loc[i,\"pm25_8_niep\"] = df_pm[df_pm[\"data\"].isin([daty[i]])][df_pm[\"godzina\"].isin([\"08\"])][\"pm25_niepodleglosci\"].values[0]\n",
    "    df_pm_mala.loc[i,\"pm25_8_wok\"] = df_pm[df_pm[\"data\"].isin([daty[i]])][df_pm[\"godzina\"].isin([\"08\"])][\"pm25_wokalna\"].values[0]"
   ]
  },
  {
   "cell_type": "code",
   "execution_count": 65,
   "metadata": {},
   "outputs": [
    {
     "data": {
      "text/html": [
       "<div>\n",
       "<style>\n",
       "    .dataframe thead tr:only-child th {\n",
       "        text-align: right;\n",
       "    }\n",
       "\n",
       "    .dataframe thead th {\n",
       "        text-align: left;\n",
       "    }\n",
       "\n",
       "    .dataframe tbody tr th {\n",
       "        vertical-align: top;\n",
       "    }\n",
       "</style>\n",
       "<table border=\"1\" class=\"dataframe\">\n",
       "  <thead>\n",
       "    <tr style=\"text-align: right;\">\n",
       "      <th></th>\n",
       "      <th>data</th>\n",
       "      <th>pm10_sr_niep</th>\n",
       "      <th>pm10_sr_wok</th>\n",
       "      <th>pm25_sr_niep</th>\n",
       "      <th>pm25_sr_wok</th>\n",
       "      <th>pm10_8_niep</th>\n",
       "      <th>pm10_8_wok</th>\n",
       "      <th>pm25_8_niep</th>\n",
       "      <th>pm25_8_wok</th>\n",
       "    </tr>\n",
       "  </thead>\n",
       "  <tbody>\n",
       "    <tr>\n",
       "      <th>0</th>\n",
       "      <td>01.01.2011</td>\n",
       "      <td>25.395652</td>\n",
       "      <td>13.726087</td>\n",
       "      <td>21.182609</td>\n",
       "      <td>15.813043</td>\n",
       "      <td>22.2</td>\n",
       "      <td>12.4</td>\n",
       "      <td>20.3</td>\n",
       "      <td>19.8</td>\n",
       "    </tr>\n",
       "    <tr>\n",
       "      <th>1</th>\n",
       "      <td>02.01.2011</td>\n",
       "      <td>20.266667</td>\n",
       "      <td>17.508333</td>\n",
       "      <td>13.600000</td>\n",
       "      <td>14.312500</td>\n",
       "      <td>10.6</td>\n",
       "      <td>9.4</td>\n",
       "      <td>7.0</td>\n",
       "      <td>7.6</td>\n",
       "    </tr>\n",
       "    <tr>\n",
       "      <th>2</th>\n",
       "      <td>03.01.2011</td>\n",
       "      <td>33.333333</td>\n",
       "      <td>22.437500</td>\n",
       "      <td>27.470833</td>\n",
       "      <td>23.920833</td>\n",
       "      <td>40.7</td>\n",
       "      <td>26.6</td>\n",
       "      <td>29.9</td>\n",
       "      <td>23.3</td>\n",
       "    </tr>\n",
       "    <tr>\n",
       "      <th>3</th>\n",
       "      <td>04.01.2011</td>\n",
       "      <td>40.454167</td>\n",
       "      <td>29.191667</td>\n",
       "      <td>36.000000</td>\n",
       "      <td>28.591667</td>\n",
       "      <td>32.1</td>\n",
       "      <td>22.6</td>\n",
       "      <td>30.9</td>\n",
       "      <td>21.1</td>\n",
       "    </tr>\n",
       "    <tr>\n",
       "      <th>4</th>\n",
       "      <td>05.01.2011</td>\n",
       "      <td>88.383333</td>\n",
       "      <td>74.341667</td>\n",
       "      <td>79.829167</td>\n",
       "      <td>77.637500</td>\n",
       "      <td>93.3</td>\n",
       "      <td>79.0</td>\n",
       "      <td>87.4</td>\n",
       "      <td>87.8</td>\n",
       "    </tr>\n",
       "  </tbody>\n",
       "</table>\n",
       "</div>"
      ],
      "text/plain": [
       "         data  pm10_sr_niep  pm10_sr_wok  pm25_sr_niep  pm25_sr_wok  \\\n",
       "0  01.01.2011     25.395652    13.726087     21.182609    15.813043   \n",
       "1  02.01.2011     20.266667    17.508333     13.600000    14.312500   \n",
       "2  03.01.2011     33.333333    22.437500     27.470833    23.920833   \n",
       "3  04.01.2011     40.454167    29.191667     36.000000    28.591667   \n",
       "4  05.01.2011     88.383333    74.341667     79.829167    77.637500   \n",
       "\n",
       "   pm10_8_niep  pm10_8_wok  pm25_8_niep  pm25_8_wok  \n",
       "0         22.2        12.4         20.3        19.8  \n",
       "1         10.6         9.4          7.0         7.6  \n",
       "2         40.7        26.6         29.9        23.3  \n",
       "3         32.1        22.6         30.9        21.1  \n",
       "4         93.3        79.0         87.4        87.8  "
      ]
     },
     "execution_count": 65,
     "metadata": {},
     "output_type": "execute_result"
    }
   ],
   "source": [
    "df_pm_mala.head(5)"
   ]
  },
  {
   "cell_type": "code",
   "execution_count": 66,
   "metadata": {
    "collapsed": true
   },
   "outputs": [],
   "source": [
    "df_pm_mala[\"dzien\"] = df_pm_mala[\"data\"].str[0:2]\n",
    "df_pm_mala[\"miesiac\"] = df_pm_mala[\"data\"].str[3:5]\n",
    "df_pm_mala[\"rok\"] = df_pm_mala[\"data\"].str[6:]\n",
    "\n",
    "df_pm_mala = df_pm_mala.drop(\"data\", 1)\n",
    "\n",
    "df_pm_mala[\"rok\"] = pd.to_numeric(df_pm_mala[\"rok\"], errors='coerce')\n",
    "df_pm_mala[\"miesiac\"] = pd.to_numeric(df_pm_mala[\"miesiac\"], errors='coerce')\n",
    "df_pm_mala[\"dzien\"] = pd.to_numeric(df_pm_mala[\"dzien\"], errors='coerce')"
   ]
  },
  {
   "cell_type": "code",
   "execution_count": 67,
   "metadata": {
    "collapsed": true
   },
   "outputs": [],
   "source": [
    "kolumny_pm = ['rok', 'miesiac', 'dzien', 'pm10_sr_niep', 'pm10_sr_wok', 'pm25_sr_niep', 'pm25_sr_wok', 'pm10_8_niep',\n",
    "              'pm10_8_wok', 'pm25_8_niep', 'pm25_8_wok']\n",
    "\n",
    "df_pm_mala = df_pm_mala[kolumny_pm]"
   ]
  },
  {
   "cell_type": "markdown",
   "metadata": {},
   "source": [
    "### Przygotowanie do połączenia"
   ]
  },
  {
   "cell_type": "code",
   "execution_count": 68,
   "metadata": {},
   "outputs": [
    {
     "data": {
      "text/plain": [
       "True"
      ]
     },
     "execution_count": 68,
     "metadata": {},
     "output_type": "execute_result"
    }
   ],
   "source": [
    "df_pog.iloc[:,0:3].equals(df_pm_mala.iloc[:,0:3])"
   ]
  },
  {
   "cell_type": "code",
   "execution_count": 69,
   "metadata": {
    "collapsed": true
   },
   "outputs": [],
   "source": [
    "df_smog = df_pm_mala.iloc[:,3:]"
   ]
  },
  {
   "cell_type": "code",
   "execution_count": 70,
   "metadata": {
    "collapsed": true
   },
   "outputs": [],
   "source": [
    "df_pog.to_csv(\"data_OK/df_pog.csv\", index=False)\n",
    "df_smog.to_csv(\"data_OK/df_smog.csv\", index=False)"
   ]
  },
  {
   "cell_type": "markdown",
   "metadata": {},
   "source": [
    "## 2. Eksploracja danych i inżynieria cech"
   ]
  },
  {
   "cell_type": "markdown",
   "metadata": {},
   "source": [
    "### Połączenie danych"
   ]
  },
  {
   "cell_type": "code",
   "execution_count": 229,
   "metadata": {
    "collapsed": true
   },
   "outputs": [],
   "source": [
    "df_pog = pd.read_csv(\"data_OK/df_pog.csv\", sep=\",\")\n",
    "df_smog = pd.read_csv(\"data_OK/df_smog.csv\", sep=\",\")"
   ]
  },
  {
   "cell_type": "code",
   "execution_count": 118,
   "metadata": {},
   "outputs": [
    {
     "name": "stdout",
     "output_type": "stream",
     "text": [
      "(2192, 17)\n",
      "(2192, 8)\n"
     ]
    }
   ],
   "source": [
    "print(df_pog.shape)\n",
    "print(df_smog.shape)"
   ]
  },
  {
   "cell_type": "code",
   "execution_count": 230,
   "metadata": {},
   "outputs": [
    {
     "data": {
      "text/html": [
       "<div>\n",
       "<style>\n",
       "    .dataframe thead tr:only-child th {\n",
       "        text-align: right;\n",
       "    }\n",
       "\n",
       "    .dataframe thead th {\n",
       "        text-align: left;\n",
       "    }\n",
       "\n",
       "    .dataframe tbody tr th {\n",
       "        vertical-align: top;\n",
       "    }\n",
       "</style>\n",
       "<table border=\"1\" class=\"dataframe\">\n",
       "  <thead>\n",
       "    <tr style=\"text-align: right;\">\n",
       "      <th></th>\n",
       "      <th>rok</th>\n",
       "      <th>miesiac</th>\n",
       "      <th>dzien</th>\n",
       "      <th>max_temp</th>\n",
       "      <th>min_temp</th>\n",
       "      <th>sr_temp</th>\n",
       "      <th>min_temp_grunt</th>\n",
       "      <th>suma_opad</th>\n",
       "      <th>rodz_opad</th>\n",
       "      <th>sr_zachm</th>\n",
       "      <th>sr_predk_wiatr</th>\n",
       "      <th>sr_cisn</th>\n",
       "      <th>sr_wilg</th>\n",
       "      <th>sr_cisn_stacja</th>\n",
       "      <th>sr_cisn_morze</th>\n",
       "      <th>opad_dzien</th>\n",
       "      <th>opad_noc</th>\n",
       "      <th>pm10_sr_niep</th>\n",
       "      <th>pm10_sr_wok</th>\n",
       "      <th>pm25_sr_niep</th>\n",
       "      <th>pm25_sr_wok</th>\n",
       "      <th>pm10_8_niep</th>\n",
       "      <th>pm10_8_wok</th>\n",
       "      <th>pm25_8_niep</th>\n",
       "      <th>pm25_8_wok</th>\n",
       "    </tr>\n",
       "  </thead>\n",
       "  <tbody>\n",
       "    <tr>\n",
       "      <th>0</th>\n",
       "      <td>2011</td>\n",
       "      <td>1</td>\n",
       "      <td>1</td>\n",
       "      <td>2.3</td>\n",
       "      <td>-2.1</td>\n",
       "      <td>0.9</td>\n",
       "      <td>-3.3</td>\n",
       "      <td>0.1</td>\n",
       "      <td>S</td>\n",
       "      <td>7.1</td>\n",
       "      <td>6.9</td>\n",
       "      <td>5.7</td>\n",
       "      <td>86.8</td>\n",
       "      <td>992.2</td>\n",
       "      <td>1005.5</td>\n",
       "      <td>0.1</td>\n",
       "      <td>0.0</td>\n",
       "      <td>25.395652</td>\n",
       "      <td>13.726087</td>\n",
       "      <td>21.182609</td>\n",
       "      <td>15.813043</td>\n",
       "      <td>22.2</td>\n",
       "      <td>12.4</td>\n",
       "      <td>20.3</td>\n",
       "      <td>19.8</td>\n",
       "    </tr>\n",
       "    <tr>\n",
       "      <th>1</th>\n",
       "      <td>2011</td>\n",
       "      <td>1</td>\n",
       "      <td>2</td>\n",
       "      <td>1.7</td>\n",
       "      <td>-1.8</td>\n",
       "      <td>-1.1</td>\n",
       "      <td>-2.9</td>\n",
       "      <td>1.2</td>\n",
       "      <td>S</td>\n",
       "      <td>7.4</td>\n",
       "      <td>5.6</td>\n",
       "      <td>4.8</td>\n",
       "      <td>85.3</td>\n",
       "      <td>997.0</td>\n",
       "      <td>1010.4</td>\n",
       "      <td>0.8</td>\n",
       "      <td>0.4</td>\n",
       "      <td>20.266667</td>\n",
       "      <td>17.508333</td>\n",
       "      <td>13.600000</td>\n",
       "      <td>14.312500</td>\n",
       "      <td>10.6</td>\n",
       "      <td>9.4</td>\n",
       "      <td>7.0</td>\n",
       "      <td>7.6</td>\n",
       "    </tr>\n",
       "    <tr>\n",
       "      <th>2</th>\n",
       "      <td>2011</td>\n",
       "      <td>1</td>\n",
       "      <td>3</td>\n",
       "      <td>-1.5</td>\n",
       "      <td>-3.6</td>\n",
       "      <td>-2.9</td>\n",
       "      <td>-4.9</td>\n",
       "      <td>0.3</td>\n",
       "      <td>S</td>\n",
       "      <td>7.3</td>\n",
       "      <td>3.8</td>\n",
       "      <td>4.5</td>\n",
       "      <td>90.1</td>\n",
       "      <td>1004.0</td>\n",
       "      <td>1017.6</td>\n",
       "      <td>0.3</td>\n",
       "      <td>0.0</td>\n",
       "      <td>33.333333</td>\n",
       "      <td>22.437500</td>\n",
       "      <td>27.470833</td>\n",
       "      <td>23.920833</td>\n",
       "      <td>40.7</td>\n",
       "      <td>26.6</td>\n",
       "      <td>29.9</td>\n",
       "      <td>23.3</td>\n",
       "    </tr>\n",
       "    <tr>\n",
       "      <th>3</th>\n",
       "      <td>2011</td>\n",
       "      <td>1</td>\n",
       "      <td>4</td>\n",
       "      <td>-2.0</td>\n",
       "      <td>-5.1</td>\n",
       "      <td>-4.6</td>\n",
       "      <td>-6.0</td>\n",
       "      <td>0.0</td>\n",
       "      <td>S</td>\n",
       "      <td>6.0</td>\n",
       "      <td>2.1</td>\n",
       "      <td>3.7</td>\n",
       "      <td>84.0</td>\n",
       "      <td>1007.3</td>\n",
       "      <td>1021.0</td>\n",
       "      <td>0.0</td>\n",
       "      <td>0.0</td>\n",
       "      <td>40.454167</td>\n",
       "      <td>29.191667</td>\n",
       "      <td>36.000000</td>\n",
       "      <td>28.591667</td>\n",
       "      <td>32.1</td>\n",
       "      <td>22.6</td>\n",
       "      <td>30.9</td>\n",
       "      <td>21.1</td>\n",
       "    </tr>\n",
       "    <tr>\n",
       "      <th>4</th>\n",
       "      <td>2011</td>\n",
       "      <td>1</td>\n",
       "      <td>5</td>\n",
       "      <td>-3.5</td>\n",
       "      <td>-12.4</td>\n",
       "      <td>-8.3</td>\n",
       "      <td>-15.5</td>\n",
       "      <td>0.0</td>\n",
       "      <td>NaN</td>\n",
       "      <td>6.3</td>\n",
       "      <td>1.6</td>\n",
       "      <td>2.9</td>\n",
       "      <td>88.5</td>\n",
       "      <td>1007.8</td>\n",
       "      <td>1021.7</td>\n",
       "      <td>0.0</td>\n",
       "      <td>0.0</td>\n",
       "      <td>88.383333</td>\n",
       "      <td>74.341667</td>\n",
       "      <td>79.829167</td>\n",
       "      <td>77.637500</td>\n",
       "      <td>93.3</td>\n",
       "      <td>79.0</td>\n",
       "      <td>87.4</td>\n",
       "      <td>87.8</td>\n",
       "    </tr>\n",
       "    <tr>\n",
       "      <th>5</th>\n",
       "      <td>2011</td>\n",
       "      <td>1</td>\n",
       "      <td>6</td>\n",
       "      <td>-0.2</td>\n",
       "      <td>-11.7</td>\n",
       "      <td>-5.4</td>\n",
       "      <td>-13.6</td>\n",
       "      <td>1.8</td>\n",
       "      <td>S</td>\n",
       "      <td>4.6</td>\n",
       "      <td>3.6</td>\n",
       "      <td>3.4</td>\n",
       "      <td>80.5</td>\n",
       "      <td>1000.7</td>\n",
       "      <td>1014.4</td>\n",
       "      <td>0.0</td>\n",
       "      <td>1.8</td>\n",
       "      <td>56.837500</td>\n",
       "      <td>45.125000</td>\n",
       "      <td>50.995833</td>\n",
       "      <td>52.737500</td>\n",
       "      <td>59.9</td>\n",
       "      <td>47.8</td>\n",
       "      <td>57.2</td>\n",
       "      <td>61.5</td>\n",
       "    </tr>\n",
       "    <tr>\n",
       "      <th>6</th>\n",
       "      <td>2011</td>\n",
       "      <td>1</td>\n",
       "      <td>7</td>\n",
       "      <td>5.7</td>\n",
       "      <td>-0.2</td>\n",
       "      <td>3.2</td>\n",
       "      <td>-0.9</td>\n",
       "      <td>0.0</td>\n",
       "      <td>W</td>\n",
       "      <td>7.6</td>\n",
       "      <td>2.9</td>\n",
       "      <td>6.8</td>\n",
       "      <td>87.9</td>\n",
       "      <td>999.3</td>\n",
       "      <td>1012.6</td>\n",
       "      <td>0.0</td>\n",
       "      <td>0.0</td>\n",
       "      <td>56.412500</td>\n",
       "      <td>30.737500</td>\n",
       "      <td>43.612500</td>\n",
       "      <td>32.870000</td>\n",
       "      <td>49.0</td>\n",
       "      <td>18.6</td>\n",
       "      <td>33.4</td>\n",
       "      <td>19.3</td>\n",
       "    </tr>\n",
       "    <tr>\n",
       "      <th>7</th>\n",
       "      <td>2011</td>\n",
       "      <td>1</td>\n",
       "      <td>8</td>\n",
       "      <td>4.8</td>\n",
       "      <td>1.7</td>\n",
       "      <td>3.1</td>\n",
       "      <td>0.4</td>\n",
       "      <td>0.6</td>\n",
       "      <td>W</td>\n",
       "      <td>7.5</td>\n",
       "      <td>2.3</td>\n",
       "      <td>7.1</td>\n",
       "      <td>93.6</td>\n",
       "      <td>1000.9</td>\n",
       "      <td>1014.2</td>\n",
       "      <td>0.6</td>\n",
       "      <td>0.0</td>\n",
       "      <td>63.683333</td>\n",
       "      <td>42.462500</td>\n",
       "      <td>53.066667</td>\n",
       "      <td>45.254167</td>\n",
       "      <td>43.8</td>\n",
       "      <td>26.7</td>\n",
       "      <td>36.2</td>\n",
       "      <td>28.9</td>\n",
       "    </tr>\n",
       "    <tr>\n",
       "      <th>8</th>\n",
       "      <td>2011</td>\n",
       "      <td>1</td>\n",
       "      <td>9</td>\n",
       "      <td>4.2</td>\n",
       "      <td>1.1</td>\n",
       "      <td>2.6</td>\n",
       "      <td>-0.4</td>\n",
       "      <td>0.0</td>\n",
       "      <td>W</td>\n",
       "      <td>5.8</td>\n",
       "      <td>1.8</td>\n",
       "      <td>7.2</td>\n",
       "      <td>98.3</td>\n",
       "      <td>1001.1</td>\n",
       "      <td>1014.4</td>\n",
       "      <td>0.0</td>\n",
       "      <td>0.0</td>\n",
       "      <td>51.354167</td>\n",
       "      <td>33.587500</td>\n",
       "      <td>41.137500</td>\n",
       "      <td>38.762500</td>\n",
       "      <td>46.0</td>\n",
       "      <td>31.7</td>\n",
       "      <td>32.7</td>\n",
       "      <td>36.7</td>\n",
       "    </tr>\n",
       "    <tr>\n",
       "      <th>9</th>\n",
       "      <td>2011</td>\n",
       "      <td>1</td>\n",
       "      <td>10</td>\n",
       "      <td>4.0</td>\n",
       "      <td>-1.2</td>\n",
       "      <td>1.4</td>\n",
       "      <td>-4.5</td>\n",
       "      <td>1.6</td>\n",
       "      <td>W</td>\n",
       "      <td>7.0</td>\n",
       "      <td>1.5</td>\n",
       "      <td>6.6</td>\n",
       "      <td>98.1</td>\n",
       "      <td>1008.9</td>\n",
       "      <td>1022.3</td>\n",
       "      <td>1.6</td>\n",
       "      <td>0.0</td>\n",
       "      <td>66.262500</td>\n",
       "      <td>40.529167</td>\n",
       "      <td>49.200000</td>\n",
       "      <td>44.141667</td>\n",
       "      <td>59.4</td>\n",
       "      <td>34.0</td>\n",
       "      <td>48.1</td>\n",
       "      <td>41.6</td>\n",
       "    </tr>\n",
       "  </tbody>\n",
       "</table>\n",
       "</div>"
      ],
      "text/plain": [
       "    rok  miesiac  dzien  max_temp  min_temp  sr_temp  min_temp_grunt  \\\n",
       "0  2011        1      1       2.3      -2.1      0.9            -3.3   \n",
       "1  2011        1      2       1.7      -1.8     -1.1            -2.9   \n",
       "2  2011        1      3      -1.5      -3.6     -2.9            -4.9   \n",
       "3  2011        1      4      -2.0      -5.1     -4.6            -6.0   \n",
       "4  2011        1      5      -3.5     -12.4     -8.3           -15.5   \n",
       "5  2011        1      6      -0.2     -11.7     -5.4           -13.6   \n",
       "6  2011        1      7       5.7      -0.2      3.2            -0.9   \n",
       "7  2011        1      8       4.8       1.7      3.1             0.4   \n",
       "8  2011        1      9       4.2       1.1      2.6            -0.4   \n",
       "9  2011        1     10       4.0      -1.2      1.4            -4.5   \n",
       "\n",
       "   suma_opad rodz_opad  sr_zachm  sr_predk_wiatr  sr_cisn  sr_wilg  \\\n",
       "0        0.1         S       7.1             6.9      5.7     86.8   \n",
       "1        1.2         S       7.4             5.6      4.8     85.3   \n",
       "2        0.3         S       7.3             3.8      4.5     90.1   \n",
       "3        0.0         S       6.0             2.1      3.7     84.0   \n",
       "4        0.0       NaN       6.3             1.6      2.9     88.5   \n",
       "5        1.8         S       4.6             3.6      3.4     80.5   \n",
       "6        0.0         W       7.6             2.9      6.8     87.9   \n",
       "7        0.6         W       7.5             2.3      7.1     93.6   \n",
       "8        0.0         W       5.8             1.8      7.2     98.3   \n",
       "9        1.6         W       7.0             1.5      6.6     98.1   \n",
       "\n",
       "   sr_cisn_stacja  sr_cisn_morze  opad_dzien  opad_noc  pm10_sr_niep  \\\n",
       "0           992.2         1005.5         0.1       0.0     25.395652   \n",
       "1           997.0         1010.4         0.8       0.4     20.266667   \n",
       "2          1004.0         1017.6         0.3       0.0     33.333333   \n",
       "3          1007.3         1021.0         0.0       0.0     40.454167   \n",
       "4          1007.8         1021.7         0.0       0.0     88.383333   \n",
       "5          1000.7         1014.4         0.0       1.8     56.837500   \n",
       "6           999.3         1012.6         0.0       0.0     56.412500   \n",
       "7          1000.9         1014.2         0.6       0.0     63.683333   \n",
       "8          1001.1         1014.4         0.0       0.0     51.354167   \n",
       "9          1008.9         1022.3         1.6       0.0     66.262500   \n",
       "\n",
       "   pm10_sr_wok  pm25_sr_niep  pm25_sr_wok  pm10_8_niep  pm10_8_wok  \\\n",
       "0    13.726087     21.182609    15.813043         22.2        12.4   \n",
       "1    17.508333     13.600000    14.312500         10.6         9.4   \n",
       "2    22.437500     27.470833    23.920833         40.7        26.6   \n",
       "3    29.191667     36.000000    28.591667         32.1        22.6   \n",
       "4    74.341667     79.829167    77.637500         93.3        79.0   \n",
       "5    45.125000     50.995833    52.737500         59.9        47.8   \n",
       "6    30.737500     43.612500    32.870000         49.0        18.6   \n",
       "7    42.462500     53.066667    45.254167         43.8        26.7   \n",
       "8    33.587500     41.137500    38.762500         46.0        31.7   \n",
       "9    40.529167     49.200000    44.141667         59.4        34.0   \n",
       "\n",
       "   pm25_8_niep  pm25_8_wok  \n",
       "0         20.3        19.8  \n",
       "1          7.0         7.6  \n",
       "2         29.9        23.3  \n",
       "3         30.9        21.1  \n",
       "4         87.4        87.8  \n",
       "5         57.2        61.5  \n",
       "6         33.4        19.3  \n",
       "7         36.2        28.9  \n",
       "8         32.7        36.7  \n",
       "9         48.1        41.6  "
      ]
     },
     "execution_count": 230,
     "metadata": {},
     "output_type": "execute_result"
    }
   ],
   "source": [
    "df = pd.concat([df_pog, df_smog], axis=1)\n",
    "df.head(10)"
   ]
  },
  {
   "cell_type": "code",
   "execution_count": 120,
   "metadata": {},
   "outputs": [
    {
     "data": {
      "text/plain": [
       "(2192, 25)"
      ]
     },
     "execution_count": 120,
     "metadata": {},
     "output_type": "execute_result"
    }
   ],
   "source": [
    "df.shape"
   ]
  },
  {
   "cell_type": "code",
   "execution_count": 121,
   "metadata": {},
   "outputs": [
    {
     "name": "stdout",
     "output_type": "stream",
     "text": [
      "<class 'pandas.core.frame.DataFrame'>\n",
      "RangeIndex: 2192 entries, 0 to 2191\n",
      "Data columns (total 25 columns):\n",
      "rok               2192 non-null int64\n",
      "miesiac           2192 non-null int64\n",
      "dzien             2192 non-null int64\n",
      "max_temp          2192 non-null float64\n",
      "min_temp          2192 non-null float64\n",
      "sr_temp           2192 non-null float64\n",
      "min_temp_grunt    2192 non-null float64\n",
      "suma_opad         2192 non-null float64\n",
      "rodz_opad         1274 non-null object\n",
      "sr_zachm          2192 non-null float64\n",
      "sr_predk_wiatr    2192 non-null float64\n",
      "sr_cisn           2192 non-null float64\n",
      "sr_wilg           2192 non-null float64\n",
      "sr_cisn_stacja    2192 non-null float64\n",
      "sr_cisn_morze     2192 non-null float64\n",
      "opad_dzien        2192 non-null float64\n",
      "opad_noc          2192 non-null float64\n",
      "pm10_sr_niep      2078 non-null float64\n",
      "pm10_sr_wok       2175 non-null float64\n",
      "pm25_sr_niep      2083 non-null float64\n",
      "pm25_sr_wok       2176 non-null float64\n",
      "pm10_8_niep       2049 non-null float64\n",
      "pm10_8_wok        2144 non-null float64\n",
      "pm25_8_niep       2053 non-null float64\n",
      "pm25_8_wok        2148 non-null float64\n",
      "dtypes: float64(21), int64(3), object(1)\n",
      "memory usage: 428.2+ KB\n"
     ]
    }
   ],
   "source": [
    "df.info()"
   ]
  },
  {
   "cell_type": "markdown",
   "metadata": {},
   "source": [
    "Wnioski:\n",
    "* rodz_opad - zobacz jak stosunek values, jesli rozbieznosc- usuwam\n",
    "* NA - sprawdzic osobno kazdy PM i uzupelnic/usunac\n",
    "* typy - OK"
   ]
  },
  {
   "cell_type": "code",
   "execution_count": 122,
   "metadata": {},
   "outputs": [
    {
     "data": {
      "text/html": [
       "<div>\n",
       "<style>\n",
       "    .dataframe thead tr:only-child th {\n",
       "        text-align: right;\n",
       "    }\n",
       "\n",
       "    .dataframe thead th {\n",
       "        text-align: left;\n",
       "    }\n",
       "\n",
       "    .dataframe tbody tr th {\n",
       "        vertical-align: top;\n",
       "    }\n",
       "</style>\n",
       "<table border=\"1\" class=\"dataframe\">\n",
       "  <thead>\n",
       "    <tr style=\"text-align: right;\">\n",
       "      <th></th>\n",
       "      <th>rok</th>\n",
       "      <th>miesiac</th>\n",
       "      <th>dzien</th>\n",
       "      <th>max_temp</th>\n",
       "      <th>min_temp</th>\n",
       "      <th>sr_temp</th>\n",
       "      <th>min_temp_grunt</th>\n",
       "      <th>suma_opad</th>\n",
       "      <th>sr_zachm</th>\n",
       "      <th>sr_predk_wiatr</th>\n",
       "      <th>sr_cisn</th>\n",
       "      <th>sr_wilg</th>\n",
       "      <th>sr_cisn_stacja</th>\n",
       "      <th>sr_cisn_morze</th>\n",
       "      <th>opad_dzien</th>\n",
       "      <th>opad_noc</th>\n",
       "      <th>pm10_sr_niep</th>\n",
       "      <th>pm10_sr_wok</th>\n",
       "      <th>pm25_sr_niep</th>\n",
       "      <th>pm25_sr_wok</th>\n",
       "      <th>pm10_8_niep</th>\n",
       "      <th>pm10_8_wok</th>\n",
       "      <th>pm25_8_niep</th>\n",
       "      <th>pm25_8_wok</th>\n",
       "    </tr>\n",
       "  </thead>\n",
       "  <tbody>\n",
       "    <tr>\n",
       "      <th>count</th>\n",
       "      <td>2192.000000</td>\n",
       "      <td>2192.000000</td>\n",
       "      <td>2192.000000</td>\n",
       "      <td>2192.000000</td>\n",
       "      <td>2192.000000</td>\n",
       "      <td>2192.000000</td>\n",
       "      <td>2192.000000</td>\n",
       "      <td>2192.000000</td>\n",
       "      <td>2192.000000</td>\n",
       "      <td>2192.000000</td>\n",
       "      <td>2192.000000</td>\n",
       "      <td>2192.000000</td>\n",
       "      <td>2192.000000</td>\n",
       "      <td>2192.000000</td>\n",
       "      <td>2192.000000</td>\n",
       "      <td>2192.000000</td>\n",
       "      <td>2078.000000</td>\n",
       "      <td>2175.000000</td>\n",
       "      <td>2083.000000</td>\n",
       "      <td>2176.000000</td>\n",
       "      <td>2049.000000</td>\n",
       "      <td>2144.000000</td>\n",
       "      <td>2053.000000</td>\n",
       "      <td>2148.000000</td>\n",
       "    </tr>\n",
       "    <tr>\n",
       "      <th>mean</th>\n",
       "      <td>2013.500456</td>\n",
       "      <td>6.521898</td>\n",
       "      <td>15.732664</td>\n",
       "      <td>13.802555</td>\n",
       "      <td>5.529653</td>\n",
       "      <td>9.509261</td>\n",
       "      <td>3.731296</td>\n",
       "      <td>1.500502</td>\n",
       "      <td>5.132436</td>\n",
       "      <td>3.217062</td>\n",
       "      <td>9.625912</td>\n",
       "      <td>75.624133</td>\n",
       "      <td>1003.593020</td>\n",
       "      <td>1016.600730</td>\n",
       "      <td>0.767609</td>\n",
       "      <td>0.732892</td>\n",
       "      <td>42.072935</td>\n",
       "      <td>32.526207</td>\n",
       "      <td>27.941433</td>\n",
       "      <td>23.782513</td>\n",
       "      <td>45.080730</td>\n",
       "      <td>33.200124</td>\n",
       "      <td>29.189621</td>\n",
       "      <td>24.172337</td>\n",
       "    </tr>\n",
       "    <tr>\n",
       "      <th>std</th>\n",
       "      <td>1.708571</td>\n",
       "      <td>3.449773</td>\n",
       "      <td>8.803378</td>\n",
       "      <td>9.927203</td>\n",
       "      <td>7.836300</td>\n",
       "      <td>8.677988</td>\n",
       "      <td>7.973112</td>\n",
       "      <td>4.047243</td>\n",
       "      <td>2.064990</td>\n",
       "      <td>1.575590</td>\n",
       "      <td>4.482571</td>\n",
       "      <td>13.280940</td>\n",
       "      <td>8.029376</td>\n",
       "      <td>8.214315</td>\n",
       "      <td>2.769411</td>\n",
       "      <td>2.510494</td>\n",
       "      <td>19.863087</td>\n",
       "      <td>18.008447</td>\n",
       "      <td>16.281153</td>\n",
       "      <td>16.925524</td>\n",
       "      <td>26.684541</td>\n",
       "      <td>22.071730</td>\n",
       "      <td>19.405193</td>\n",
       "      <td>19.341690</td>\n",
       "    </tr>\n",
       "    <tr>\n",
       "      <th>min</th>\n",
       "      <td>2011.000000</td>\n",
       "      <td>1.000000</td>\n",
       "      <td>1.000000</td>\n",
       "      <td>-14.600000</td>\n",
       "      <td>-23.100000</td>\n",
       "      <td>-18.400000</td>\n",
       "      <td>-24.200000</td>\n",
       "      <td>0.000000</td>\n",
       "      <td>0.000000</td>\n",
       "      <td>0.000000</td>\n",
       "      <td>1.100000</td>\n",
       "      <td>37.400000</td>\n",
       "      <td>966.200000</td>\n",
       "      <td>979.200000</td>\n",
       "      <td>0.000000</td>\n",
       "      <td>0.000000</td>\n",
       "      <td>8.159604</td>\n",
       "      <td>5.276250</td>\n",
       "      <td>4.120675</td>\n",
       "      <td>3.189850</td>\n",
       "      <td>1.000000</td>\n",
       "      <td>1.900000</td>\n",
       "      <td>1.800000</td>\n",
       "      <td>0.500000</td>\n",
       "    </tr>\n",
       "    <tr>\n",
       "      <th>25%</th>\n",
       "      <td>2012.000000</td>\n",
       "      <td>4.000000</td>\n",
       "      <td>8.000000</td>\n",
       "      <td>6.100000</td>\n",
       "      <td>0.200000</td>\n",
       "      <td>3.000000</td>\n",
       "      <td>-1.400000</td>\n",
       "      <td>0.000000</td>\n",
       "      <td>3.800000</td>\n",
       "      <td>2.000000</td>\n",
       "      <td>6.200000</td>\n",
       "      <td>66.000000</td>\n",
       "      <td>998.600000</td>\n",
       "      <td>1011.400000</td>\n",
       "      <td>0.000000</td>\n",
       "      <td>0.000000</td>\n",
       "      <td>28.713542</td>\n",
       "      <td>20.347918</td>\n",
       "      <td>16.877962</td>\n",
       "      <td>12.462500</td>\n",
       "      <td>27.400000</td>\n",
       "      <td>19.300002</td>\n",
       "      <td>16.433103</td>\n",
       "      <td>12.287935</td>\n",
       "    </tr>\n",
       "    <tr>\n",
       "      <th>50%</th>\n",
       "      <td>2013.500000</td>\n",
       "      <td>7.000000</td>\n",
       "      <td>16.000000</td>\n",
       "      <td>14.000000</td>\n",
       "      <td>5.500000</td>\n",
       "      <td>9.400000</td>\n",
       "      <td>3.700000</td>\n",
       "      <td>0.000000</td>\n",
       "      <td>5.400000</td>\n",
       "      <td>2.900000</td>\n",
       "      <td>8.800000</td>\n",
       "      <td>77.000000</td>\n",
       "      <td>1003.500000</td>\n",
       "      <td>1016.400000</td>\n",
       "      <td>0.000000</td>\n",
       "      <td>0.000000</td>\n",
       "      <td>37.677083</td>\n",
       "      <td>28.095833</td>\n",
       "      <td>23.480374</td>\n",
       "      <td>18.299167</td>\n",
       "      <td>38.988800</td>\n",
       "      <td>28.150000</td>\n",
       "      <td>24.600000</td>\n",
       "      <td>19.300000</td>\n",
       "    </tr>\n",
       "    <tr>\n",
       "      <th>75%</th>\n",
       "      <td>2015.000000</td>\n",
       "      <td>10.000000</td>\n",
       "      <td>23.000000</td>\n",
       "      <td>22.025000</td>\n",
       "      <td>11.800000</td>\n",
       "      <td>16.700000</td>\n",
       "      <td>9.800000</td>\n",
       "      <td>1.200000</td>\n",
       "      <td>6.900000</td>\n",
       "      <td>4.000000</td>\n",
       "      <td>12.800000</td>\n",
       "      <td>86.400000</td>\n",
       "      <td>1008.500000</td>\n",
       "      <td>1021.600000</td>\n",
       "      <td>0.200000</td>\n",
       "      <td>0.200000</td>\n",
       "      <td>50.436458</td>\n",
       "      <td>39.741669</td>\n",
       "      <td>34.781250</td>\n",
       "      <td>29.771630</td>\n",
       "      <td>56.200000</td>\n",
       "      <td>41.406835</td>\n",
       "      <td>36.800000</td>\n",
       "      <td>29.733892</td>\n",
       "    </tr>\n",
       "    <tr>\n",
       "      <th>max</th>\n",
       "      <td>2016.000000</td>\n",
       "      <td>12.000000</td>\n",
       "      <td>31.000000</td>\n",
       "      <td>37.000000</td>\n",
       "      <td>22.800000</td>\n",
       "      <td>29.300000</td>\n",
       "      <td>21.800000</td>\n",
       "      <td>75.800000</td>\n",
       "      <td>8.000000</td>\n",
       "      <td>10.300000</td>\n",
       "      <td>22.700000</td>\n",
       "      <td>100.000000</td>\n",
       "      <td>1029.800000</td>\n",
       "      <td>1043.700000</td>\n",
       "      <td>75.200000</td>\n",
       "      <td>34.700000</td>\n",
       "      <td>165.437500</td>\n",
       "      <td>175.966667</td>\n",
       "      <td>145.554167</td>\n",
       "      <td>161.641667</td>\n",
       "      <td>305.939600</td>\n",
       "      <td>240.000000</td>\n",
       "      <td>252.800000</td>\n",
       "      <td>228.700000</td>\n",
       "    </tr>\n",
       "  </tbody>\n",
       "</table>\n",
       "</div>"
      ],
      "text/plain": [
       "               rok      miesiac        dzien     max_temp     min_temp  \\\n",
       "count  2192.000000  2192.000000  2192.000000  2192.000000  2192.000000   \n",
       "mean   2013.500456     6.521898    15.732664    13.802555     5.529653   \n",
       "std       1.708571     3.449773     8.803378     9.927203     7.836300   \n",
       "min    2011.000000     1.000000     1.000000   -14.600000   -23.100000   \n",
       "25%    2012.000000     4.000000     8.000000     6.100000     0.200000   \n",
       "50%    2013.500000     7.000000    16.000000    14.000000     5.500000   \n",
       "75%    2015.000000    10.000000    23.000000    22.025000    11.800000   \n",
       "max    2016.000000    12.000000    31.000000    37.000000    22.800000   \n",
       "\n",
       "           sr_temp  min_temp_grunt    suma_opad     sr_zachm  sr_predk_wiatr  \\\n",
       "count  2192.000000     2192.000000  2192.000000  2192.000000     2192.000000   \n",
       "mean      9.509261        3.731296     1.500502     5.132436        3.217062   \n",
       "std       8.677988        7.973112     4.047243     2.064990        1.575590   \n",
       "min     -18.400000      -24.200000     0.000000     0.000000        0.000000   \n",
       "25%       3.000000       -1.400000     0.000000     3.800000        2.000000   \n",
       "50%       9.400000        3.700000     0.000000     5.400000        2.900000   \n",
       "75%      16.700000        9.800000     1.200000     6.900000        4.000000   \n",
       "max      29.300000       21.800000    75.800000     8.000000       10.300000   \n",
       "\n",
       "           sr_cisn      sr_wilg  sr_cisn_stacja  sr_cisn_morze   opad_dzien  \\\n",
       "count  2192.000000  2192.000000     2192.000000    2192.000000  2192.000000   \n",
       "mean      9.625912    75.624133     1003.593020    1016.600730     0.767609   \n",
       "std       4.482571    13.280940        8.029376       8.214315     2.769411   \n",
       "min       1.100000    37.400000      966.200000     979.200000     0.000000   \n",
       "25%       6.200000    66.000000      998.600000    1011.400000     0.000000   \n",
       "50%       8.800000    77.000000     1003.500000    1016.400000     0.000000   \n",
       "75%      12.800000    86.400000     1008.500000    1021.600000     0.200000   \n",
       "max      22.700000   100.000000     1029.800000    1043.700000    75.200000   \n",
       "\n",
       "          opad_noc  pm10_sr_niep  pm10_sr_wok  pm25_sr_niep  pm25_sr_wok  \\\n",
       "count  2192.000000   2078.000000  2175.000000   2083.000000  2176.000000   \n",
       "mean      0.732892     42.072935    32.526207     27.941433    23.782513   \n",
       "std       2.510494     19.863087    18.008447     16.281153    16.925524   \n",
       "min       0.000000      8.159604     5.276250      4.120675     3.189850   \n",
       "25%       0.000000     28.713542    20.347918     16.877962    12.462500   \n",
       "50%       0.000000     37.677083    28.095833     23.480374    18.299167   \n",
       "75%       0.200000     50.436458    39.741669     34.781250    29.771630   \n",
       "max      34.700000    165.437500   175.966667    145.554167   161.641667   \n",
       "\n",
       "       pm10_8_niep   pm10_8_wok  pm25_8_niep   pm25_8_wok  \n",
       "count  2049.000000  2144.000000  2053.000000  2148.000000  \n",
       "mean     45.080730    33.200124    29.189621    24.172337  \n",
       "std      26.684541    22.071730    19.405193    19.341690  \n",
       "min       1.000000     1.900000     1.800000     0.500000  \n",
       "25%      27.400000    19.300002    16.433103    12.287935  \n",
       "50%      38.988800    28.150000    24.600000    19.300000  \n",
       "75%      56.200000    41.406835    36.800000    29.733892  \n",
       "max     305.939600   240.000000   252.800000   228.700000  "
      ]
     },
     "execution_count": 122,
     "metadata": {},
     "output_type": "execute_result"
    }
   ],
   "source": [
    "df.describe()"
   ]
  },
  {
   "cell_type": "markdown",
   "metadata": {},
   "source": [
    "Wnioski:\n",
    "* sprawdzic korelacje temp - moze sr wystarczy\n",
    "* spr kor temp z temp gruntu\n",
    "* jaki % wgl nie ma opadow -> dni z opadami czy cos specjalnego \n",
    "* opady noc/dzien a opady suma - korelacja\n",
    "* korelacje cisnien\n",
    "* uzupelnienie PM\n",
    "\n",
    "Nie widze tez wartosci odstajacych"
   ]
  },
  {
   "cell_type": "markdown",
   "metadata": {},
   "source": [
    "### Zmienna 'rodz_opad'"
   ]
  },
  {
   "cell_type": "code",
   "execution_count": 123,
   "metadata": {},
   "outputs": [
    {
     "name": "stdout",
     "output_type": "stream",
     "text": [
      "W    947\n",
      "S    327\n",
      "Name: rodz_opad, dtype: int64\n",
      "918\n"
     ]
    }
   ],
   "source": [
    "print(df[\"rodz_opad\"].value_counts())\n",
    "print(len(np.where(df['rodz_opad'].isnull())[0]))"
   ]
  },
  {
   "cell_type": "markdown",
   "metadata": {},
   "source": [
    "A więc mam dla rodz_opad:\n",
    "* 918 NaN\n",
    "* 947 deszcz\n",
    "* 327 snieg\n",
    "\n",
    "Nic mi nie mowi, wiec usuwam kolumne"
   ]
  },
  {
   "cell_type": "code",
   "execution_count": 231,
   "metadata": {
    "collapsed": true
   },
   "outputs": [],
   "source": [
    "df = df.drop([\"rodz_opad\"], axis=1)"
   ]
  },
  {
   "cell_type": "markdown",
   "metadata": {},
   "source": [
    "### Brakujące wartości"
   ]
  },
  {
   "cell_type": "markdown",
   "metadata": {},
   "source": [
    "Zobaczmy jak układają się brakujące wartości dla wskaźników smogowych dla 1 ze zmiennych objaśnianych: pm25_sr_niep"
   ]
  },
  {
   "cell_type": "code",
   "execution_count": 125,
   "metadata": {},
   "outputs": [
    {
     "data": {
      "text/plain": [
       "109"
      ]
     },
     "execution_count": 125,
     "metadata": {},
     "output_type": "execute_result"
    }
   ],
   "source": [
    "braki = df.pm25_sr_niep[df[\"pm25_sr_niep\"].isnull()].index.values\n",
    "len(braki)"
   ]
  },
  {
   "cell_type": "code",
   "execution_count": 126,
   "metadata": {},
   "outputs": [
    {
     "name": "stdout",
     "output_type": "stream",
     "text": [
      "163    17.679167\n",
      "164    26.408333\n",
      "165          NaN\n",
      "166    28.928571\n",
      "167    30.162500\n",
      "Name: pm25_sr_niep, dtype: float64\n",
      "------\n",
      "614    10.520000\n",
      "615    17.271429\n",
      "616          NaN\n",
      "617          NaN\n",
      "618          NaN\n",
      "Name: pm25_sr_niep, dtype: float64\n",
      "------\n",
      "615    17.271429\n",
      "616          NaN\n",
      "617          NaN\n",
      "618          NaN\n",
      "619    22.333333\n",
      "Name: pm25_sr_niep, dtype: float64\n",
      "------\n",
      "616          NaN\n",
      "617          NaN\n",
      "618          NaN\n",
      "619    22.333333\n",
      "620    22.579167\n",
      "Name: pm25_sr_niep, dtype: float64\n",
      "------\n",
      "673    21.254167\n",
      "674    19.410000\n",
      "675          NaN\n",
      "676          NaN\n",
      "677          NaN\n",
      "Name: pm25_sr_niep, dtype: float64\n",
      "------\n",
      "674    19.41\n",
      "675      NaN\n",
      "676      NaN\n",
      "677      NaN\n",
      "678      NaN\n",
      "Name: pm25_sr_niep, dtype: float64\n",
      "------\n",
      "675   NaN\n",
      "676   NaN\n",
      "677   NaN\n",
      "678   NaN\n",
      "679   NaN\n",
      "Name: pm25_sr_niep, dtype: float64\n",
      "------\n"
     ]
    }
   ],
   "source": [
    "for i in range(7):\n",
    "    print(df.pm25_sr_niep[braki[i] - 2 : braki[i] + 3])\n",
    "    print(\"------\")"
   ]
  },
  {
   "cell_type": "markdown",
   "metadata": {},
   "source": [
    "Daty dla których brakuje objaśnianej:"
   ]
  },
  {
   "cell_type": "code",
   "execution_count": 127,
   "metadata": {},
   "outputs": [
    {
     "data": {
      "text/html": [
       "<div>\n",
       "<style>\n",
       "    .dataframe thead tr:only-child th {\n",
       "        text-align: right;\n",
       "    }\n",
       "\n",
       "    .dataframe thead th {\n",
       "        text-align: left;\n",
       "    }\n",
       "\n",
       "    .dataframe tbody tr th {\n",
       "        vertical-align: top;\n",
       "    }\n",
       "</style>\n",
       "<table border=\"1\" class=\"dataframe\">\n",
       "  <thead>\n",
       "    <tr style=\"text-align: right;\">\n",
       "      <th></th>\n",
       "      <th>rok</th>\n",
       "      <th>miesiac</th>\n",
       "      <th>dzien</th>\n",
       "    </tr>\n",
       "  </thead>\n",
       "  <tbody>\n",
       "    <tr>\n",
       "      <th>165</th>\n",
       "      <td>2011</td>\n",
       "      <td>6</td>\n",
       "      <td>15</td>\n",
       "    </tr>\n",
       "    <tr>\n",
       "      <th>616</th>\n",
       "      <td>2012</td>\n",
       "      <td>9</td>\n",
       "      <td>8</td>\n",
       "    </tr>\n",
       "    <tr>\n",
       "      <th>617</th>\n",
       "      <td>2012</td>\n",
       "      <td>9</td>\n",
       "      <td>9</td>\n",
       "    </tr>\n",
       "    <tr>\n",
       "      <th>618</th>\n",
       "      <td>2012</td>\n",
       "      <td>9</td>\n",
       "      <td>10</td>\n",
       "    </tr>\n",
       "    <tr>\n",
       "      <th>675</th>\n",
       "      <td>2012</td>\n",
       "      <td>11</td>\n",
       "      <td>6</td>\n",
       "    </tr>\n",
       "    <tr>\n",
       "      <th>676</th>\n",
       "      <td>2012</td>\n",
       "      <td>11</td>\n",
       "      <td>7</td>\n",
       "    </tr>\n",
       "    <tr>\n",
       "      <th>677</th>\n",
       "      <td>2012</td>\n",
       "      <td>11</td>\n",
       "      <td>8</td>\n",
       "    </tr>\n",
       "    <tr>\n",
       "      <th>678</th>\n",
       "      <td>2012</td>\n",
       "      <td>11</td>\n",
       "      <td>9</td>\n",
       "    </tr>\n",
       "    <tr>\n",
       "      <th>679</th>\n",
       "      <td>2012</td>\n",
       "      <td>11</td>\n",
       "      <td>10</td>\n",
       "    </tr>\n",
       "    <tr>\n",
       "      <th>680</th>\n",
       "      <td>2012</td>\n",
       "      <td>11</td>\n",
       "      <td>11</td>\n",
       "    </tr>\n",
       "    <tr>\n",
       "      <th>681</th>\n",
       "      <td>2012</td>\n",
       "      <td>11</td>\n",
       "      <td>12</td>\n",
       "    </tr>\n",
       "    <tr>\n",
       "      <th>682</th>\n",
       "      <td>2012</td>\n",
       "      <td>11</td>\n",
       "      <td>13</td>\n",
       "    </tr>\n",
       "    <tr>\n",
       "      <th>683</th>\n",
       "      <td>2012</td>\n",
       "      <td>11</td>\n",
       "      <td>14</td>\n",
       "    </tr>\n",
       "    <tr>\n",
       "      <th>684</th>\n",
       "      <td>2012</td>\n",
       "      <td>11</td>\n",
       "      <td>15</td>\n",
       "    </tr>\n",
       "    <tr>\n",
       "      <th>685</th>\n",
       "      <td>2012</td>\n",
       "      <td>11</td>\n",
       "      <td>16</td>\n",
       "    </tr>\n",
       "    <tr>\n",
       "      <th>686</th>\n",
       "      <td>2012</td>\n",
       "      <td>11</td>\n",
       "      <td>17</td>\n",
       "    </tr>\n",
       "    <tr>\n",
       "      <th>687</th>\n",
       "      <td>2012</td>\n",
       "      <td>11</td>\n",
       "      <td>18</td>\n",
       "    </tr>\n",
       "    <tr>\n",
       "      <th>688</th>\n",
       "      <td>2012</td>\n",
       "      <td>11</td>\n",
       "      <td>19</td>\n",
       "    </tr>\n",
       "    <tr>\n",
       "      <th>689</th>\n",
       "      <td>2012</td>\n",
       "      <td>11</td>\n",
       "      <td>20</td>\n",
       "    </tr>\n",
       "    <tr>\n",
       "      <th>690</th>\n",
       "      <td>2012</td>\n",
       "      <td>11</td>\n",
       "      <td>21</td>\n",
       "    </tr>\n",
       "    <tr>\n",
       "      <th>691</th>\n",
       "      <td>2012</td>\n",
       "      <td>11</td>\n",
       "      <td>22</td>\n",
       "    </tr>\n",
       "    <tr>\n",
       "      <th>692</th>\n",
       "      <td>2012</td>\n",
       "      <td>11</td>\n",
       "      <td>23</td>\n",
       "    </tr>\n",
       "    <tr>\n",
       "      <th>693</th>\n",
       "      <td>2012</td>\n",
       "      <td>11</td>\n",
       "      <td>24</td>\n",
       "    </tr>\n",
       "    <tr>\n",
       "      <th>694</th>\n",
       "      <td>2012</td>\n",
       "      <td>11</td>\n",
       "      <td>25</td>\n",
       "    </tr>\n",
       "    <tr>\n",
       "      <th>695</th>\n",
       "      <td>2012</td>\n",
       "      <td>11</td>\n",
       "      <td>26</td>\n",
       "    </tr>\n",
       "    <tr>\n",
       "      <th>696</th>\n",
       "      <td>2012</td>\n",
       "      <td>11</td>\n",
       "      <td>27</td>\n",
       "    </tr>\n",
       "    <tr>\n",
       "      <th>697</th>\n",
       "      <td>2012</td>\n",
       "      <td>11</td>\n",
       "      <td>28</td>\n",
       "    </tr>\n",
       "    <tr>\n",
       "      <th>698</th>\n",
       "      <td>2012</td>\n",
       "      <td>11</td>\n",
       "      <td>29</td>\n",
       "    </tr>\n",
       "    <tr>\n",
       "      <th>699</th>\n",
       "      <td>2012</td>\n",
       "      <td>11</td>\n",
       "      <td>30</td>\n",
       "    </tr>\n",
       "    <tr>\n",
       "      <th>700</th>\n",
       "      <td>2012</td>\n",
       "      <td>12</td>\n",
       "      <td>1</td>\n",
       "    </tr>\n",
       "    <tr>\n",
       "      <th>701</th>\n",
       "      <td>2012</td>\n",
       "      <td>12</td>\n",
       "      <td>2</td>\n",
       "    </tr>\n",
       "    <tr>\n",
       "      <th>702</th>\n",
       "      <td>2012</td>\n",
       "      <td>12</td>\n",
       "      <td>3</td>\n",
       "    </tr>\n",
       "    <tr>\n",
       "      <th>703</th>\n",
       "      <td>2012</td>\n",
       "      <td>12</td>\n",
       "      <td>4</td>\n",
       "    </tr>\n",
       "    <tr>\n",
       "      <th>704</th>\n",
       "      <td>2012</td>\n",
       "      <td>12</td>\n",
       "      <td>5</td>\n",
       "    </tr>\n",
       "    <tr>\n",
       "      <th>705</th>\n",
       "      <td>2012</td>\n",
       "      <td>12</td>\n",
       "      <td>6</td>\n",
       "    </tr>\n",
       "    <tr>\n",
       "      <th>706</th>\n",
       "      <td>2012</td>\n",
       "      <td>12</td>\n",
       "      <td>7</td>\n",
       "    </tr>\n",
       "    <tr>\n",
       "      <th>707</th>\n",
       "      <td>2012</td>\n",
       "      <td>12</td>\n",
       "      <td>8</td>\n",
       "    </tr>\n",
       "    <tr>\n",
       "      <th>708</th>\n",
       "      <td>2012</td>\n",
       "      <td>12</td>\n",
       "      <td>9</td>\n",
       "    </tr>\n",
       "    <tr>\n",
       "      <th>709</th>\n",
       "      <td>2012</td>\n",
       "      <td>12</td>\n",
       "      <td>10</td>\n",
       "    </tr>\n",
       "    <tr>\n",
       "      <th>710</th>\n",
       "      <td>2012</td>\n",
       "      <td>12</td>\n",
       "      <td>11</td>\n",
       "    </tr>\n",
       "    <tr>\n",
       "      <th>711</th>\n",
       "      <td>2012</td>\n",
       "      <td>12</td>\n",
       "      <td>12</td>\n",
       "    </tr>\n",
       "    <tr>\n",
       "      <th>712</th>\n",
       "      <td>2012</td>\n",
       "      <td>12</td>\n",
       "      <td>13</td>\n",
       "    </tr>\n",
       "    <tr>\n",
       "      <th>713</th>\n",
       "      <td>2012</td>\n",
       "      <td>12</td>\n",
       "      <td>14</td>\n",
       "    </tr>\n",
       "    <tr>\n",
       "      <th>714</th>\n",
       "      <td>2012</td>\n",
       "      <td>12</td>\n",
       "      <td>15</td>\n",
       "    </tr>\n",
       "    <tr>\n",
       "      <th>715</th>\n",
       "      <td>2012</td>\n",
       "      <td>12</td>\n",
       "      <td>16</td>\n",
       "    </tr>\n",
       "    <tr>\n",
       "      <th>716</th>\n",
       "      <td>2012</td>\n",
       "      <td>12</td>\n",
       "      <td>17</td>\n",
       "    </tr>\n",
       "    <tr>\n",
       "      <th>717</th>\n",
       "      <td>2012</td>\n",
       "      <td>12</td>\n",
       "      <td>18</td>\n",
       "    </tr>\n",
       "    <tr>\n",
       "      <th>718</th>\n",
       "      <td>2012</td>\n",
       "      <td>12</td>\n",
       "      <td>19</td>\n",
       "    </tr>\n",
       "    <tr>\n",
       "      <th>719</th>\n",
       "      <td>2012</td>\n",
       "      <td>12</td>\n",
       "      <td>20</td>\n",
       "    </tr>\n",
       "    <tr>\n",
       "      <th>720</th>\n",
       "      <td>2012</td>\n",
       "      <td>12</td>\n",
       "      <td>21</td>\n",
       "    </tr>\n",
       "    <tr>\n",
       "      <th>721</th>\n",
       "      <td>2012</td>\n",
       "      <td>12</td>\n",
       "      <td>22</td>\n",
       "    </tr>\n",
       "    <tr>\n",
       "      <th>722</th>\n",
       "      <td>2012</td>\n",
       "      <td>12</td>\n",
       "      <td>23</td>\n",
       "    </tr>\n",
       "    <tr>\n",
       "      <th>723</th>\n",
       "      <td>2012</td>\n",
       "      <td>12</td>\n",
       "      <td>24</td>\n",
       "    </tr>\n",
       "    <tr>\n",
       "      <th>724</th>\n",
       "      <td>2012</td>\n",
       "      <td>12</td>\n",
       "      <td>25</td>\n",
       "    </tr>\n",
       "    <tr>\n",
       "      <th>725</th>\n",
       "      <td>2012</td>\n",
       "      <td>12</td>\n",
       "      <td>26</td>\n",
       "    </tr>\n",
       "    <tr>\n",
       "      <th>726</th>\n",
       "      <td>2012</td>\n",
       "      <td>12</td>\n",
       "      <td>27</td>\n",
       "    </tr>\n",
       "    <tr>\n",
       "      <th>727</th>\n",
       "      <td>2012</td>\n",
       "      <td>12</td>\n",
       "      <td>28</td>\n",
       "    </tr>\n",
       "    <tr>\n",
       "      <th>728</th>\n",
       "      <td>2012</td>\n",
       "      <td>12</td>\n",
       "      <td>29</td>\n",
       "    </tr>\n",
       "    <tr>\n",
       "      <th>729</th>\n",
       "      <td>2012</td>\n",
       "      <td>12</td>\n",
       "      <td>30</td>\n",
       "    </tr>\n",
       "    <tr>\n",
       "      <th>730</th>\n",
       "      <td>2012</td>\n",
       "      <td>12</td>\n",
       "      <td>31</td>\n",
       "    </tr>\n",
       "    <tr>\n",
       "      <th>731</th>\n",
       "      <td>2013</td>\n",
       "      <td>1</td>\n",
       "      <td>1</td>\n",
       "    </tr>\n",
       "    <tr>\n",
       "      <th>732</th>\n",
       "      <td>2013</td>\n",
       "      <td>1</td>\n",
       "      <td>2</td>\n",
       "    </tr>\n",
       "    <tr>\n",
       "      <th>733</th>\n",
       "      <td>2013</td>\n",
       "      <td>1</td>\n",
       "      <td>3</td>\n",
       "    </tr>\n",
       "    <tr>\n",
       "      <th>734</th>\n",
       "      <td>2013</td>\n",
       "      <td>1</td>\n",
       "      <td>4</td>\n",
       "    </tr>\n",
       "    <tr>\n",
       "      <th>735</th>\n",
       "      <td>2013</td>\n",
       "      <td>1</td>\n",
       "      <td>5</td>\n",
       "    </tr>\n",
       "    <tr>\n",
       "      <th>736</th>\n",
       "      <td>2013</td>\n",
       "      <td>1</td>\n",
       "      <td>6</td>\n",
       "    </tr>\n",
       "    <tr>\n",
       "      <th>737</th>\n",
       "      <td>2013</td>\n",
       "      <td>1</td>\n",
       "      <td>7</td>\n",
       "    </tr>\n",
       "    <tr>\n",
       "      <th>738</th>\n",
       "      <td>2013</td>\n",
       "      <td>1</td>\n",
       "      <td>8</td>\n",
       "    </tr>\n",
       "    <tr>\n",
       "      <th>739</th>\n",
       "      <td>2013</td>\n",
       "      <td>1</td>\n",
       "      <td>9</td>\n",
       "    </tr>\n",
       "    <tr>\n",
       "      <th>740</th>\n",
       "      <td>2013</td>\n",
       "      <td>1</td>\n",
       "      <td>10</td>\n",
       "    </tr>\n",
       "    <tr>\n",
       "      <th>741</th>\n",
       "      <td>2013</td>\n",
       "      <td>1</td>\n",
       "      <td>11</td>\n",
       "    </tr>\n",
       "    <tr>\n",
       "      <th>947</th>\n",
       "      <td>2013</td>\n",
       "      <td>8</td>\n",
       "      <td>5</td>\n",
       "    </tr>\n",
       "    <tr>\n",
       "      <th>948</th>\n",
       "      <td>2013</td>\n",
       "      <td>8</td>\n",
       "      <td>6</td>\n",
       "    </tr>\n",
       "    <tr>\n",
       "      <th>949</th>\n",
       "      <td>2013</td>\n",
       "      <td>8</td>\n",
       "      <td>7</td>\n",
       "    </tr>\n",
       "    <tr>\n",
       "      <th>950</th>\n",
       "      <td>2013</td>\n",
       "      <td>8</td>\n",
       "      <td>8</td>\n",
       "    </tr>\n",
       "    <tr>\n",
       "      <th>951</th>\n",
       "      <td>2013</td>\n",
       "      <td>8</td>\n",
       "      <td>9</td>\n",
       "    </tr>\n",
       "    <tr>\n",
       "      <th>952</th>\n",
       "      <td>2013</td>\n",
       "      <td>8</td>\n",
       "      <td>10</td>\n",
       "    </tr>\n",
       "    <tr>\n",
       "      <th>953</th>\n",
       "      <td>2013</td>\n",
       "      <td>8</td>\n",
       "      <td>11</td>\n",
       "    </tr>\n",
       "    <tr>\n",
       "      <th>954</th>\n",
       "      <td>2013</td>\n",
       "      <td>8</td>\n",
       "      <td>12</td>\n",
       "    </tr>\n",
       "    <tr>\n",
       "      <th>955</th>\n",
       "      <td>2013</td>\n",
       "      <td>8</td>\n",
       "      <td>13</td>\n",
       "    </tr>\n",
       "    <tr>\n",
       "      <th>1002</th>\n",
       "      <td>2013</td>\n",
       "      <td>9</td>\n",
       "      <td>29</td>\n",
       "    </tr>\n",
       "    <tr>\n",
       "      <th>1003</th>\n",
       "      <td>2013</td>\n",
       "      <td>9</td>\n",
       "      <td>30</td>\n",
       "    </tr>\n",
       "    <tr>\n",
       "      <th>1004</th>\n",
       "      <td>2013</td>\n",
       "      <td>10</td>\n",
       "      <td>1</td>\n",
       "    </tr>\n",
       "    <tr>\n",
       "      <th>1005</th>\n",
       "      <td>2013</td>\n",
       "      <td>10</td>\n",
       "      <td>2</td>\n",
       "    </tr>\n",
       "    <tr>\n",
       "      <th>1086</th>\n",
       "      <td>2013</td>\n",
       "      <td>12</td>\n",
       "      <td>22</td>\n",
       "    </tr>\n",
       "    <tr>\n",
       "      <th>1087</th>\n",
       "      <td>2013</td>\n",
       "      <td>12</td>\n",
       "      <td>23</td>\n",
       "    </tr>\n",
       "    <tr>\n",
       "      <th>1321</th>\n",
       "      <td>2014</td>\n",
       "      <td>8</td>\n",
       "      <td>14</td>\n",
       "    </tr>\n",
       "    <tr>\n",
       "      <th>1322</th>\n",
       "      <td>2014</td>\n",
       "      <td>8</td>\n",
       "      <td>15</td>\n",
       "    </tr>\n",
       "    <tr>\n",
       "      <th>1323</th>\n",
       "      <td>2014</td>\n",
       "      <td>8</td>\n",
       "      <td>16</td>\n",
       "    </tr>\n",
       "    <tr>\n",
       "      <th>1324</th>\n",
       "      <td>2014</td>\n",
       "      <td>8</td>\n",
       "      <td>17</td>\n",
       "    </tr>\n",
       "    <tr>\n",
       "      <th>1325</th>\n",
       "      <td>2014</td>\n",
       "      <td>8</td>\n",
       "      <td>18</td>\n",
       "    </tr>\n",
       "    <tr>\n",
       "      <th>1349</th>\n",
       "      <td>2014</td>\n",
       "      <td>9</td>\n",
       "      <td>11</td>\n",
       "    </tr>\n",
       "    <tr>\n",
       "      <th>1350</th>\n",
       "      <td>2014</td>\n",
       "      <td>9</td>\n",
       "      <td>12</td>\n",
       "    </tr>\n",
       "    <tr>\n",
       "      <th>1351</th>\n",
       "      <td>2014</td>\n",
       "      <td>9</td>\n",
       "      <td>13</td>\n",
       "    </tr>\n",
       "    <tr>\n",
       "      <th>1352</th>\n",
       "      <td>2014</td>\n",
       "      <td>9</td>\n",
       "      <td>14</td>\n",
       "    </tr>\n",
       "    <tr>\n",
       "      <th>1353</th>\n",
       "      <td>2014</td>\n",
       "      <td>9</td>\n",
       "      <td>15</td>\n",
       "    </tr>\n",
       "    <tr>\n",
       "      <th>1354</th>\n",
       "      <td>2014</td>\n",
       "      <td>9</td>\n",
       "      <td>16</td>\n",
       "    </tr>\n",
       "    <tr>\n",
       "      <th>1355</th>\n",
       "      <td>2014</td>\n",
       "      <td>9</td>\n",
       "      <td>17</td>\n",
       "    </tr>\n",
       "    <tr>\n",
       "      <th>1356</th>\n",
       "      <td>2014</td>\n",
       "      <td>9</td>\n",
       "      <td>18</td>\n",
       "    </tr>\n",
       "    <tr>\n",
       "      <th>1357</th>\n",
       "      <td>2014</td>\n",
       "      <td>9</td>\n",
       "      <td>19</td>\n",
       "    </tr>\n",
       "    <tr>\n",
       "      <th>1358</th>\n",
       "      <td>2014</td>\n",
       "      <td>9</td>\n",
       "      <td>20</td>\n",
       "    </tr>\n",
       "    <tr>\n",
       "      <th>1359</th>\n",
       "      <td>2014</td>\n",
       "      <td>9</td>\n",
       "      <td>21</td>\n",
       "    </tr>\n",
       "    <tr>\n",
       "      <th>1360</th>\n",
       "      <td>2014</td>\n",
       "      <td>9</td>\n",
       "      <td>22</td>\n",
       "    </tr>\n",
       "    <tr>\n",
       "      <th>1451</th>\n",
       "      <td>2014</td>\n",
       "      <td>12</td>\n",
       "      <td>22</td>\n",
       "    </tr>\n",
       "    <tr>\n",
       "      <th>1702</th>\n",
       "      <td>2015</td>\n",
       "      <td>8</td>\n",
       "      <td>30</td>\n",
       "    </tr>\n",
       "    <tr>\n",
       "      <th>1828</th>\n",
       "      <td>2016</td>\n",
       "      <td>1</td>\n",
       "      <td>3</td>\n",
       "    </tr>\n",
       "    <tr>\n",
       "      <th>1873</th>\n",
       "      <td>2016</td>\n",
       "      <td>2</td>\n",
       "      <td>17</td>\n",
       "    </tr>\n",
       "    <tr>\n",
       "      <th>1874</th>\n",
       "      <td>2016</td>\n",
       "      <td>2</td>\n",
       "      <td>18</td>\n",
       "    </tr>\n",
       "    <tr>\n",
       "      <th>1884</th>\n",
       "      <td>2016</td>\n",
       "      <td>2</td>\n",
       "      <td>28</td>\n",
       "    </tr>\n",
       "  </tbody>\n",
       "</table>\n",
       "</div>"
      ],
      "text/plain": [
       "       rok  miesiac  dzien\n",
       "165   2011        6     15\n",
       "616   2012        9      8\n",
       "617   2012        9      9\n",
       "618   2012        9     10\n",
       "675   2012       11      6\n",
       "676   2012       11      7\n",
       "677   2012       11      8\n",
       "678   2012       11      9\n",
       "679   2012       11     10\n",
       "680   2012       11     11\n",
       "681   2012       11     12\n",
       "682   2012       11     13\n",
       "683   2012       11     14\n",
       "684   2012       11     15\n",
       "685   2012       11     16\n",
       "686   2012       11     17\n",
       "687   2012       11     18\n",
       "688   2012       11     19\n",
       "689   2012       11     20\n",
       "690   2012       11     21\n",
       "691   2012       11     22\n",
       "692   2012       11     23\n",
       "693   2012       11     24\n",
       "694   2012       11     25\n",
       "695   2012       11     26\n",
       "696   2012       11     27\n",
       "697   2012       11     28\n",
       "698   2012       11     29\n",
       "699   2012       11     30\n",
       "700   2012       12      1\n",
       "701   2012       12      2\n",
       "702   2012       12      3\n",
       "703   2012       12      4\n",
       "704   2012       12      5\n",
       "705   2012       12      6\n",
       "706   2012       12      7\n",
       "707   2012       12      8\n",
       "708   2012       12      9\n",
       "709   2012       12     10\n",
       "710   2012       12     11\n",
       "711   2012       12     12\n",
       "712   2012       12     13\n",
       "713   2012       12     14\n",
       "714   2012       12     15\n",
       "715   2012       12     16\n",
       "716   2012       12     17\n",
       "717   2012       12     18\n",
       "718   2012       12     19\n",
       "719   2012       12     20\n",
       "720   2012       12     21\n",
       "721   2012       12     22\n",
       "722   2012       12     23\n",
       "723   2012       12     24\n",
       "724   2012       12     25\n",
       "725   2012       12     26\n",
       "726   2012       12     27\n",
       "727   2012       12     28\n",
       "728   2012       12     29\n",
       "729   2012       12     30\n",
       "730   2012       12     31\n",
       "731   2013        1      1\n",
       "732   2013        1      2\n",
       "733   2013        1      3\n",
       "734   2013        1      4\n",
       "735   2013        1      5\n",
       "736   2013        1      6\n",
       "737   2013        1      7\n",
       "738   2013        1      8\n",
       "739   2013        1      9\n",
       "740   2013        1     10\n",
       "741   2013        1     11\n",
       "947   2013        8      5\n",
       "948   2013        8      6\n",
       "949   2013        8      7\n",
       "950   2013        8      8\n",
       "951   2013        8      9\n",
       "952   2013        8     10\n",
       "953   2013        8     11\n",
       "954   2013        8     12\n",
       "955   2013        8     13\n",
       "1002  2013        9     29\n",
       "1003  2013        9     30\n",
       "1004  2013       10      1\n",
       "1005  2013       10      2\n",
       "1086  2013       12     22\n",
       "1087  2013       12     23\n",
       "1321  2014        8     14\n",
       "1322  2014        8     15\n",
       "1323  2014        8     16\n",
       "1324  2014        8     17\n",
       "1325  2014        8     18\n",
       "1349  2014        9     11\n",
       "1350  2014        9     12\n",
       "1351  2014        9     13\n",
       "1352  2014        9     14\n",
       "1353  2014        9     15\n",
       "1354  2014        9     16\n",
       "1355  2014        9     17\n",
       "1356  2014        9     18\n",
       "1357  2014        9     19\n",
       "1358  2014        9     20\n",
       "1359  2014        9     21\n",
       "1360  2014        9     22\n",
       "1451  2014       12     22\n",
       "1702  2015        8     30\n",
       "1828  2016        1      3\n",
       "1873  2016        2     17\n",
       "1874  2016        2     18\n",
       "1884  2016        2     28"
      ]
     },
     "execution_count": 127,
     "metadata": {},
     "output_type": "execute_result"
    }
   ],
   "source": [
    "df.iloc[braki,:3]"
   ]
  },
  {
   "cell_type": "code",
   "execution_count": 128,
   "metadata": {},
   "outputs": [
    {
     "data": {
      "text/plain": [
       "array([ 165,  616,  617,  618,  675,  676,  677,  678,  679,  680,  681,\n",
       "        682,  683,  684,  685,  686,  687,  688,  689,  690,  691,  692,\n",
       "        693,  694,  695,  696,  697,  698,  699,  700,  701,  702,  703,\n",
       "        704,  705,  706,  707,  708,  709,  710,  711,  712,  713,  714,\n",
       "        715,  716,  717,  718,  719,  720,  721,  722,  723,  724,  725,\n",
       "        726,  727,  728,  729,  730,  731,  732,  733,  734,  735,  736,\n",
       "        737,  738,  739,  740,  741,  947,  948,  949,  950,  951,  952,\n",
       "        953,  954,  955, 1002, 1003, 1004, 1005, 1086, 1087, 1321, 1322,\n",
       "       1323, 1324, 1325, 1349, 1350, 1351, 1352, 1353, 1354, 1355, 1356,\n",
       "       1357, 1358, 1359, 1360, 1451, 1702, 1828, 1873, 1874, 1884], dtype=int64)"
      ]
     },
     "execution_count": 128,
     "metadata": {},
     "output_type": "execute_result"
    }
   ],
   "source": [
    "df.pm25_sr_niep[df[\"pm25_sr_niep\"].isnull()].index.values"
   ]
  },
  {
   "cell_type": "markdown",
   "metadata": {},
   "source": [
    "Zauważmy:\n",
    "* dużo brakujących danych pod rząd - nie moge uzupelnic srednimi z okolicznych\n",
    "* dane brakujące dla kilku zmiennych objasnianych są często w tych samych rekordach\n",
    "* duża zmienność wskaźników smogu z dnia na dzień\n",
    "\n",
    "Z związku z tym: usuwam rekordy z brakującymi danymi."
   ]
  },
  {
   "cell_type": "code",
   "execution_count": 232,
   "metadata": {
    "collapsed": true
   },
   "outputs": [],
   "source": [
    "df = df.dropna(how='any')"
   ]
  },
  {
   "cell_type": "code",
   "execution_count": 130,
   "metadata": {},
   "outputs": [
    {
     "data": {
      "text/plain": [
       "(1983, 24)"
      ]
     },
     "execution_count": 130,
     "metadata": {},
     "output_type": "execute_result"
    }
   ],
   "source": [
    "df.shape"
   ]
  },
  {
   "cell_type": "code",
   "execution_count": 131,
   "metadata": {},
   "outputs": [
    {
     "data": {
      "text/plain": [
       "0.09534671532846715"
      ]
     },
     "execution_count": 131,
     "metadata": {},
     "output_type": "execute_result"
    }
   ],
   "source": [
    "(2192-1983)/2192"
   ]
  },
  {
   "cell_type": "markdown",
   "metadata": {},
   "source": [
    "Usunąłem niecałe 10% rekordów. Akceptowalne."
   ]
  },
  {
   "cell_type": "markdown",
   "metadata": {},
   "source": [
    "### Skorelowane zmienne objaśniające"
   ]
  },
  {
   "cell_type": "markdown",
   "metadata": {},
   "source": [
    "Temperatury:"
   ]
  },
  {
   "cell_type": "code",
   "execution_count": 132,
   "metadata": {},
   "outputs": [
    {
     "data": {
      "text/html": [
       "<div>\n",
       "<style>\n",
       "    .dataframe thead tr:only-child th {\n",
       "        text-align: right;\n",
       "    }\n",
       "\n",
       "    .dataframe thead th {\n",
       "        text-align: left;\n",
       "    }\n",
       "\n",
       "    .dataframe tbody tr th {\n",
       "        vertical-align: top;\n",
       "    }\n",
       "</style>\n",
       "<table border=\"1\" class=\"dataframe\">\n",
       "  <thead>\n",
       "    <tr style=\"text-align: right;\">\n",
       "      <th></th>\n",
       "      <th>max_temp</th>\n",
       "      <th>min_temp</th>\n",
       "      <th>sr_temp</th>\n",
       "      <th>min_temp_grunt</th>\n",
       "    </tr>\n",
       "  </thead>\n",
       "  <tbody>\n",
       "    <tr>\n",
       "      <th>max_temp</th>\n",
       "      <td>1.000000</td>\n",
       "      <td>0.918868</td>\n",
       "      <td>0.985219</td>\n",
       "      <td>0.871570</td>\n",
       "    </tr>\n",
       "    <tr>\n",
       "      <th>min_temp</th>\n",
       "      <td>0.918868</td>\n",
       "      <td>1.000000</td>\n",
       "      <td>0.962363</td>\n",
       "      <td>0.986598</td>\n",
       "    </tr>\n",
       "    <tr>\n",
       "      <th>sr_temp</th>\n",
       "      <td>0.985219</td>\n",
       "      <td>0.962363</td>\n",
       "      <td>1.000000</td>\n",
       "      <td>0.925086</td>\n",
       "    </tr>\n",
       "    <tr>\n",
       "      <th>min_temp_grunt</th>\n",
       "      <td>0.871570</td>\n",
       "      <td>0.986598</td>\n",
       "      <td>0.925086</td>\n",
       "      <td>1.000000</td>\n",
       "    </tr>\n",
       "  </tbody>\n",
       "</table>\n",
       "</div>"
      ],
      "text/plain": [
       "                max_temp  min_temp   sr_temp  min_temp_grunt\n",
       "max_temp        1.000000  0.918868  0.985219        0.871570\n",
       "min_temp        0.918868  1.000000  0.962363        0.986598\n",
       "sr_temp         0.985219  0.962363  1.000000        0.925086\n",
       "min_temp_grunt  0.871570  0.986598  0.925086        1.000000"
      ]
     },
     "execution_count": 132,
     "metadata": {},
     "output_type": "execute_result"
    }
   ],
   "source": [
    "df[[\"max_temp\", \"min_temp\", \"sr_temp\", \"min_temp_grunt\"]].corr(method='pearson')"
   ]
  },
  {
   "cell_type": "markdown",
   "metadata": {},
   "source": [
    "Opady:"
   ]
  },
  {
   "cell_type": "code",
   "execution_count": 87,
   "metadata": {},
   "outputs": [
    {
     "data": {
      "text/html": [
       "<div>\n",
       "<style>\n",
       "    .dataframe thead tr:only-child th {\n",
       "        text-align: right;\n",
       "    }\n",
       "\n",
       "    .dataframe thead th {\n",
       "        text-align: left;\n",
       "    }\n",
       "\n",
       "    .dataframe tbody tr th {\n",
       "        vertical-align: top;\n",
       "    }\n",
       "</style>\n",
       "<table border=\"1\" class=\"dataframe\">\n",
       "  <thead>\n",
       "    <tr style=\"text-align: right;\">\n",
       "      <th></th>\n",
       "      <th>suma_opad</th>\n",
       "      <th>opad_dzien</th>\n",
       "      <th>opad_noc</th>\n",
       "    </tr>\n",
       "  </thead>\n",
       "  <tbody>\n",
       "    <tr>\n",
       "      <th>suma_opad</th>\n",
       "      <td>1.000000</td>\n",
       "      <td>0.800668</td>\n",
       "      <td>0.729888</td>\n",
       "    </tr>\n",
       "    <tr>\n",
       "      <th>opad_dzien</th>\n",
       "      <td>0.800668</td>\n",
       "      <td>1.000000</td>\n",
       "      <td>0.174867</td>\n",
       "    </tr>\n",
       "    <tr>\n",
       "      <th>opad_noc</th>\n",
       "      <td>0.729888</td>\n",
       "      <td>0.174867</td>\n",
       "      <td>1.000000</td>\n",
       "    </tr>\n",
       "  </tbody>\n",
       "</table>\n",
       "</div>"
      ],
      "text/plain": [
       "            suma_opad  opad_dzien  opad_noc\n",
       "suma_opad    1.000000    0.800668  0.729888\n",
       "opad_dzien   0.800668    1.000000  0.174867\n",
       "opad_noc     0.729888    0.174867  1.000000"
      ]
     },
     "execution_count": 87,
     "metadata": {},
     "output_type": "execute_result"
    }
   ],
   "source": [
    "df[[\"suma_opad\", \"opad_dzien\", \"opad_noc\"]].corr(method='pearson')"
   ]
  },
  {
   "cell_type": "markdown",
   "metadata": {},
   "source": [
    "Ciśnienia:"
   ]
  },
  {
   "cell_type": "code",
   "execution_count": 88,
   "metadata": {},
   "outputs": [
    {
     "data": {
      "text/html": [
       "<div>\n",
       "<style>\n",
       "    .dataframe thead tr:only-child th {\n",
       "        text-align: right;\n",
       "    }\n",
       "\n",
       "    .dataframe thead th {\n",
       "        text-align: left;\n",
       "    }\n",
       "\n",
       "    .dataframe tbody tr th {\n",
       "        vertical-align: top;\n",
       "    }\n",
       "</style>\n",
       "<table border=\"1\" class=\"dataframe\">\n",
       "  <thead>\n",
       "    <tr style=\"text-align: right;\">\n",
       "      <th></th>\n",
       "      <th>sr_cisn</th>\n",
       "      <th>sr_cisn_stacja</th>\n",
       "      <th>sr_cisn_morze</th>\n",
       "    </tr>\n",
       "  </thead>\n",
       "  <tbody>\n",
       "    <tr>\n",
       "      <th>sr_cisn</th>\n",
       "      <td>1.000000</td>\n",
       "      <td>-0.197265</td>\n",
       "      <td>-0.238848</td>\n",
       "    </tr>\n",
       "    <tr>\n",
       "      <th>sr_cisn_stacja</th>\n",
       "      <td>-0.197265</td>\n",
       "      <td>1.000000</td>\n",
       "      <td>0.998831</td>\n",
       "    </tr>\n",
       "    <tr>\n",
       "      <th>sr_cisn_morze</th>\n",
       "      <td>-0.238848</td>\n",
       "      <td>0.998831</td>\n",
       "      <td>1.000000</td>\n",
       "    </tr>\n",
       "  </tbody>\n",
       "</table>\n",
       "</div>"
      ],
      "text/plain": [
       "                 sr_cisn  sr_cisn_stacja  sr_cisn_morze\n",
       "sr_cisn         1.000000       -0.197265      -0.238848\n",
       "sr_cisn_stacja -0.197265        1.000000       0.998831\n",
       "sr_cisn_morze  -0.238848        0.998831       1.000000"
      ]
     },
     "execution_count": 88,
     "metadata": {},
     "output_type": "execute_result"
    }
   ],
   "source": [
    "df[[\"sr_cisn\", \"sr_cisn_stacja\", \"sr_cisn_morze\"]].corr(method='pearson')"
   ]
  },
  {
   "cell_type": "markdown",
   "metadata": {},
   "source": [
    "Wilgotność, a opady:"
   ]
  },
  {
   "cell_type": "code",
   "execution_count": 89,
   "metadata": {},
   "outputs": [
    {
     "data": {
      "text/html": [
       "<div>\n",
       "<style>\n",
       "    .dataframe thead tr:only-child th {\n",
       "        text-align: right;\n",
       "    }\n",
       "\n",
       "    .dataframe thead th {\n",
       "        text-align: left;\n",
       "    }\n",
       "\n",
       "    .dataframe tbody tr th {\n",
       "        vertical-align: top;\n",
       "    }\n",
       "</style>\n",
       "<table border=\"1\" class=\"dataframe\">\n",
       "  <thead>\n",
       "    <tr style=\"text-align: right;\">\n",
       "      <th></th>\n",
       "      <th>suma_opad</th>\n",
       "      <th>sr_wilg</th>\n",
       "    </tr>\n",
       "  </thead>\n",
       "  <tbody>\n",
       "    <tr>\n",
       "      <th>suma_opad</th>\n",
       "      <td>1.000000</td>\n",
       "      <td>0.212625</td>\n",
       "    </tr>\n",
       "    <tr>\n",
       "      <th>sr_wilg</th>\n",
       "      <td>0.212625</td>\n",
       "      <td>1.000000</td>\n",
       "    </tr>\n",
       "  </tbody>\n",
       "</table>\n",
       "</div>"
      ],
      "text/plain": [
       "           suma_opad   sr_wilg\n",
       "suma_opad   1.000000  0.212625\n",
       "sr_wilg     0.212625  1.000000"
      ]
     },
     "execution_count": 89,
     "metadata": {},
     "output_type": "execute_result"
    }
   ],
   "source": [
    "df[[\"suma_opad\", \"sr_wilg\"]].corr(method='pearson')"
   ]
  },
  {
   "cell_type": "markdown",
   "metadata": {},
   "source": [
    "Zauważmy:\n",
    "* Temperatury mocno skorelowane ze sobą, zostawiam tylko temperaturę średnią\n",
    "* Opady w dzień i w nocy nieskorelowane, ale suma opadów dobrze określa całość zależność w opadach - tylko ją zostawiam\n",
    "* sr_cisn mówi o ciśnieniu pary wodnej, nie jest to interpretowalne z punktu widzenia prognozy pogody. Usuwam.\n",
    "* Ciśnienie na poziomie morza i na poziomie stacji są mocno skorelowane. Zostawiam na poziomie morza, bo takie informacje mamy z prognozy pogody, stąd lepsza interpretowalność\n",
    "* Opady i wilgotność nieskorelowane - zostawiam obie"
   ]
  },
  {
   "cell_type": "code",
   "execution_count": 233,
   "metadata": {
    "collapsed": true
   },
   "outputs": [],
   "source": [
    "df = df.drop([\"max_temp\", \"min_temp\", \"min_temp_grunt\"], axis=1)\n",
    "df = df.drop([\"opad_dzien\", \"opad_noc\"], axis=1)\n",
    "df = df.drop([\"sr_cisn_stacja\", \"sr_cisn\"], axis=1)"
   ]
  },
  {
   "cell_type": "markdown",
   "metadata": {
    "collapsed": true
   },
   "source": [
    "### Korelacje - zmienne objaśniane"
   ]
  },
  {
   "cell_type": "code",
   "execution_count": 91,
   "metadata": {},
   "outputs": [
    {
     "data": {
      "text/html": [
       "<div>\n",
       "<style>\n",
       "    .dataframe thead tr:only-child th {\n",
       "        text-align: right;\n",
       "    }\n",
       "\n",
       "    .dataframe thead th {\n",
       "        text-align: left;\n",
       "    }\n",
       "\n",
       "    .dataframe tbody tr th {\n",
       "        vertical-align: top;\n",
       "    }\n",
       "</style>\n",
       "<table border=\"1\" class=\"dataframe\">\n",
       "  <thead>\n",
       "    <tr style=\"text-align: right;\">\n",
       "      <th></th>\n",
       "      <th>pm10_sr_niep</th>\n",
       "      <th>pm10_sr_wok</th>\n",
       "      <th>pm25_sr_niep</th>\n",
       "      <th>pm25_sr_wok</th>\n",
       "      <th>pm10_8_niep</th>\n",
       "      <th>pm10_8_wok</th>\n",
       "      <th>pm25_8_niep</th>\n",
       "      <th>pm25_8_wok</th>\n",
       "    </tr>\n",
       "  </thead>\n",
       "  <tbody>\n",
       "    <tr>\n",
       "      <th>pm10_sr_niep</th>\n",
       "      <td>1.000000</td>\n",
       "      <td>0.830792</td>\n",
       "      <td>0.869079</td>\n",
       "      <td>0.777108</td>\n",
       "      <td>0.835002</td>\n",
       "      <td>0.749995</td>\n",
       "      <td>0.822356</td>\n",
       "      <td>0.740254</td>\n",
       "    </tr>\n",
       "    <tr>\n",
       "      <th>pm10_sr_wok</th>\n",
       "      <td>0.830792</td>\n",
       "      <td>1.000000</td>\n",
       "      <td>0.901357</td>\n",
       "      <td>0.938286</td>\n",
       "      <td>0.657073</td>\n",
       "      <td>0.880609</td>\n",
       "      <td>0.830645</td>\n",
       "      <td>0.884862</td>\n",
       "    </tr>\n",
       "    <tr>\n",
       "      <th>pm25_sr_niep</th>\n",
       "      <td>0.869079</td>\n",
       "      <td>0.901357</td>\n",
       "      <td>1.000000</td>\n",
       "      <td>0.926419</td>\n",
       "      <td>0.653508</td>\n",
       "      <td>0.770606</td>\n",
       "      <td>0.895331</td>\n",
       "      <td>0.836828</td>\n",
       "    </tr>\n",
       "    <tr>\n",
       "      <th>pm25_sr_wok</th>\n",
       "      <td>0.777108</td>\n",
       "      <td>0.938286</td>\n",
       "      <td>0.926419</td>\n",
       "      <td>1.000000</td>\n",
       "      <td>0.563977</td>\n",
       "      <td>0.803185</td>\n",
       "      <td>0.826347</td>\n",
       "      <td>0.912383</td>\n",
       "    </tr>\n",
       "    <tr>\n",
       "      <th>pm10_8_niep</th>\n",
       "      <td>0.835002</td>\n",
       "      <td>0.657073</td>\n",
       "      <td>0.653508</td>\n",
       "      <td>0.563977</td>\n",
       "      <td>1.000000</td>\n",
       "      <td>0.741019</td>\n",
       "      <td>0.803112</td>\n",
       "      <td>0.655416</td>\n",
       "    </tr>\n",
       "    <tr>\n",
       "      <th>pm10_8_wok</th>\n",
       "      <td>0.749995</td>\n",
       "      <td>0.880609</td>\n",
       "      <td>0.770606</td>\n",
       "      <td>0.803185</td>\n",
       "      <td>0.741019</td>\n",
       "      <td>1.000000</td>\n",
       "      <td>0.845231</td>\n",
       "      <td>0.908337</td>\n",
       "    </tr>\n",
       "    <tr>\n",
       "      <th>pm25_8_niep</th>\n",
       "      <td>0.822356</td>\n",
       "      <td>0.830645</td>\n",
       "      <td>0.895331</td>\n",
       "      <td>0.826347</td>\n",
       "      <td>0.803112</td>\n",
       "      <td>0.845231</td>\n",
       "      <td>1.000000</td>\n",
       "      <td>0.862118</td>\n",
       "    </tr>\n",
       "    <tr>\n",
       "      <th>pm25_8_wok</th>\n",
       "      <td>0.740254</td>\n",
       "      <td>0.884862</td>\n",
       "      <td>0.836828</td>\n",
       "      <td>0.912383</td>\n",
       "      <td>0.655416</td>\n",
       "      <td>0.908337</td>\n",
       "      <td>0.862118</td>\n",
       "      <td>1.000000</td>\n",
       "    </tr>\n",
       "  </tbody>\n",
       "</table>\n",
       "</div>"
      ],
      "text/plain": [
       "              pm10_sr_niep  pm10_sr_wok  pm25_sr_niep  pm25_sr_wok  \\\n",
       "pm10_sr_niep      1.000000     0.830792      0.869079     0.777108   \n",
       "pm10_sr_wok       0.830792     1.000000      0.901357     0.938286   \n",
       "pm25_sr_niep      0.869079     0.901357      1.000000     0.926419   \n",
       "pm25_sr_wok       0.777108     0.938286      0.926419     1.000000   \n",
       "pm10_8_niep       0.835002     0.657073      0.653508     0.563977   \n",
       "pm10_8_wok        0.749995     0.880609      0.770606     0.803185   \n",
       "pm25_8_niep       0.822356     0.830645      0.895331     0.826347   \n",
       "pm25_8_wok        0.740254     0.884862      0.836828     0.912383   \n",
       "\n",
       "              pm10_8_niep  pm10_8_wok  pm25_8_niep  pm25_8_wok  \n",
       "pm10_sr_niep     0.835002    0.749995     0.822356    0.740254  \n",
       "pm10_sr_wok      0.657073    0.880609     0.830645    0.884862  \n",
       "pm25_sr_niep     0.653508    0.770606     0.895331    0.836828  \n",
       "pm25_sr_wok      0.563977    0.803185     0.826347    0.912383  \n",
       "pm10_8_niep      1.000000    0.741019     0.803112    0.655416  \n",
       "pm10_8_wok       0.741019    1.000000     0.845231    0.908337  \n",
       "pm25_8_niep      0.803112    0.845231     1.000000    0.862118  \n",
       "pm25_8_wok       0.655416    0.908337     0.862118    1.000000  "
      ]
     },
     "execution_count": 91,
     "metadata": {},
     "output_type": "execute_result"
    }
   ],
   "source": [
    "df[[\"pm10_sr_niep\", \"pm10_sr_wok\", \"pm25_sr_niep\", \"pm25_sr_wok\", \"pm10_8_niep\", \"pm10_8_wok\", \n",
    "    \"pm25_8_niep\", \"pm25_8_wok\"]].corr(method='pearson')"
   ]
  },
  {
   "cell_type": "markdown",
   "metadata": {
    "collapsed": true
   },
   "source": [
    "Zauważmy:\n",
    "* pm10_8_niep i pm25_sr_wok - niska korelacja\n",
    "* pm25_8_niep najlepiej reprezentuje zapylenie\n",
    "\n",
    "A więc:\n",
    "* Robię 3 modele: dla pm25_8_niep (df1), pm10_8_niep(df2), pm25_sr_wok(df3)\n",
    "* Model główny: pm25_8_niep (df1)\n",
    "* Usuwam pozostałe zmienne"
   ]
  },
  {
   "cell_type": "code",
   "execution_count": 234,
   "metadata": {
    "collapsed": true
   },
   "outputs": [],
   "source": [
    "df = df.drop([\"pm10_sr_niep\", \"pm10_sr_wok\", \"pm25_sr_niep\", \"pm10_8_wok\", \"pm25_8_wok\",], axis=1)"
   ]
  },
  {
   "cell_type": "markdown",
   "metadata": {},
   "source": [
    "Korelacje, między objaśniającymi i objaśnianymi:"
   ]
  },
  {
   "cell_type": "code",
   "execution_count": 93,
   "metadata": {},
   "outputs": [
    {
     "data": {
      "text/html": [
       "<div>\n",
       "<style>\n",
       "    .dataframe thead tr:only-child th {\n",
       "        text-align: right;\n",
       "    }\n",
       "\n",
       "    .dataframe thead th {\n",
       "        text-align: left;\n",
       "    }\n",
       "\n",
       "    .dataframe tbody tr th {\n",
       "        vertical-align: top;\n",
       "    }\n",
       "</style>\n",
       "<table border=\"1\" class=\"dataframe\">\n",
       "  <thead>\n",
       "    <tr style=\"text-align: right;\">\n",
       "      <th></th>\n",
       "      <th>rok</th>\n",
       "      <th>miesiac</th>\n",
       "      <th>dzien</th>\n",
       "      <th>sr_temp</th>\n",
       "      <th>suma_opad</th>\n",
       "      <th>sr_zachm</th>\n",
       "      <th>sr_predk_wiatr</th>\n",
       "      <th>sr_wilg</th>\n",
       "      <th>sr_cisn_morze</th>\n",
       "      <th>pm25_sr_wok</th>\n",
       "      <th>pm10_8_niep</th>\n",
       "      <th>pm25_8_niep</th>\n",
       "    </tr>\n",
       "  </thead>\n",
       "  <tbody>\n",
       "    <tr>\n",
       "      <th>rok</th>\n",
       "      <td>1.000000</td>\n",
       "      <td>0.050332</td>\n",
       "      <td>-0.002563</td>\n",
       "      <td>0.037259</td>\n",
       "      <td>-0.024832</td>\n",
       "      <td>0.061222</td>\n",
       "      <td>0.084521</td>\n",
       "      <td>-0.080880</td>\n",
       "      <td>0.004813</td>\n",
       "      <td>-0.145155</td>\n",
       "      <td>-0.064872</td>\n",
       "      <td>-0.076359</td>\n",
       "    </tr>\n",
       "    <tr>\n",
       "      <th>miesiac</th>\n",
       "      <td>0.050332</td>\n",
       "      <td>1.000000</td>\n",
       "      <td>0.002733</td>\n",
       "      <td>0.243085</td>\n",
       "      <td>0.010789</td>\n",
       "      <td>-0.017521</td>\n",
       "      <td>-0.111594</td>\n",
       "      <td>0.143464</td>\n",
       "      <td>0.142424</td>\n",
       "      <td>-0.119790</td>\n",
       "      <td>-0.084702</td>\n",
       "      <td>-0.079982</td>\n",
       "    </tr>\n",
       "    <tr>\n",
       "      <th>dzien</th>\n",
       "      <td>-0.002563</td>\n",
       "      <td>0.002733</td>\n",
       "      <td>1.000000</td>\n",
       "      <td>-0.000154</td>\n",
       "      <td>0.009006</td>\n",
       "      <td>-0.009141</td>\n",
       "      <td>-0.011438</td>\n",
       "      <td>0.003424</td>\n",
       "      <td>0.039333</td>\n",
       "      <td>-0.005523</td>\n",
       "      <td>0.034981</td>\n",
       "      <td>0.009668</td>\n",
       "    </tr>\n",
       "    <tr>\n",
       "      <th>sr_temp</th>\n",
       "      <td>0.037259</td>\n",
       "      <td>0.243085</td>\n",
       "      <td>-0.000154</td>\n",
       "      <td>1.000000</td>\n",
       "      <td>0.108528</td>\n",
       "      <td>-0.301701</td>\n",
       "      <td>-0.164483</td>\n",
       "      <td>-0.482516</td>\n",
       "      <td>-0.209942</td>\n",
       "      <td>-0.532242</td>\n",
       "      <td>-0.043654</td>\n",
       "      <td>-0.314909</td>\n",
       "    </tr>\n",
       "    <tr>\n",
       "      <th>suma_opad</th>\n",
       "      <td>-0.024832</td>\n",
       "      <td>0.010789</td>\n",
       "      <td>0.009006</td>\n",
       "      <td>0.108528</td>\n",
       "      <td>1.000000</td>\n",
       "      <td>0.235446</td>\n",
       "      <td>0.049339</td>\n",
       "      <td>0.212625</td>\n",
       "      <td>-0.248030</td>\n",
       "      <td>-0.107226</td>\n",
       "      <td>-0.099082</td>\n",
       "      <td>-0.091782</td>\n",
       "    </tr>\n",
       "    <tr>\n",
       "      <th>sr_zachm</th>\n",
       "      <td>0.061222</td>\n",
       "      <td>-0.017521</td>\n",
       "      <td>-0.009141</td>\n",
       "      <td>-0.301701</td>\n",
       "      <td>0.235446</td>\n",
       "      <td>1.000000</td>\n",
       "      <td>0.164023</td>\n",
       "      <td>0.655288</td>\n",
       "      <td>-0.300667</td>\n",
       "      <td>0.022006</td>\n",
       "      <td>-0.227672</td>\n",
       "      <td>-0.041398</td>\n",
       "    </tr>\n",
       "    <tr>\n",
       "      <th>sr_predk_wiatr</th>\n",
       "      <td>0.084521</td>\n",
       "      <td>-0.111594</td>\n",
       "      <td>-0.011438</td>\n",
       "      <td>-0.164483</td>\n",
       "      <td>0.049339</td>\n",
       "      <td>0.164023</td>\n",
       "      <td>1.000000</td>\n",
       "      <td>-0.033300</td>\n",
       "      <td>-0.111853</td>\n",
       "      <td>-0.322860</td>\n",
       "      <td>-0.412297</td>\n",
       "      <td>-0.392832</td>\n",
       "    </tr>\n",
       "    <tr>\n",
       "      <th>sr_wilg</th>\n",
       "      <td>-0.080880</td>\n",
       "      <td>0.143464</td>\n",
       "      <td>0.003424</td>\n",
       "      <td>-0.482516</td>\n",
       "      <td>0.212625</td>\n",
       "      <td>0.655288</td>\n",
       "      <td>-0.033300</td>\n",
       "      <td>1.000000</td>\n",
       "      <td>-0.090265</td>\n",
       "      <td>0.312512</td>\n",
       "      <td>-0.114934</td>\n",
       "      <td>0.178478</td>\n",
       "    </tr>\n",
       "    <tr>\n",
       "      <th>sr_cisn_morze</th>\n",
       "      <td>0.004813</td>\n",
       "      <td>0.142424</td>\n",
       "      <td>0.039333</td>\n",
       "      <td>-0.209942</td>\n",
       "      <td>-0.248030</td>\n",
       "      <td>-0.300667</td>\n",
       "      <td>-0.111853</td>\n",
       "      <td>-0.090265</td>\n",
       "      <td>1.000000</td>\n",
       "      <td>0.253125</td>\n",
       "      <td>0.183625</td>\n",
       "      <td>0.192920</td>\n",
       "    </tr>\n",
       "    <tr>\n",
       "      <th>pm25_sr_wok</th>\n",
       "      <td>-0.145155</td>\n",
       "      <td>-0.119790</td>\n",
       "      <td>-0.005523</td>\n",
       "      <td>-0.532242</td>\n",
       "      <td>-0.107226</td>\n",
       "      <td>0.022006</td>\n",
       "      <td>-0.322860</td>\n",
       "      <td>0.312512</td>\n",
       "      <td>0.253125</td>\n",
       "      <td>1.000000</td>\n",
       "      <td>0.563977</td>\n",
       "      <td>0.826347</td>\n",
       "    </tr>\n",
       "    <tr>\n",
       "      <th>pm10_8_niep</th>\n",
       "      <td>-0.064872</td>\n",
       "      <td>-0.084702</td>\n",
       "      <td>0.034981</td>\n",
       "      <td>-0.043654</td>\n",
       "      <td>-0.099082</td>\n",
       "      <td>-0.227672</td>\n",
       "      <td>-0.412297</td>\n",
       "      <td>-0.114934</td>\n",
       "      <td>0.183625</td>\n",
       "      <td>0.563977</td>\n",
       "      <td>1.000000</td>\n",
       "      <td>0.803112</td>\n",
       "    </tr>\n",
       "    <tr>\n",
       "      <th>pm25_8_niep</th>\n",
       "      <td>-0.076359</td>\n",
       "      <td>-0.079982</td>\n",
       "      <td>0.009668</td>\n",
       "      <td>-0.314909</td>\n",
       "      <td>-0.091782</td>\n",
       "      <td>-0.041398</td>\n",
       "      <td>-0.392832</td>\n",
       "      <td>0.178478</td>\n",
       "      <td>0.192920</td>\n",
       "      <td>0.826347</td>\n",
       "      <td>0.803112</td>\n",
       "      <td>1.000000</td>\n",
       "    </tr>\n",
       "  </tbody>\n",
       "</table>\n",
       "</div>"
      ],
      "text/plain": [
       "                     rok   miesiac     dzien   sr_temp  suma_opad  sr_zachm  \\\n",
       "rok             1.000000  0.050332 -0.002563  0.037259  -0.024832  0.061222   \n",
       "miesiac         0.050332  1.000000  0.002733  0.243085   0.010789 -0.017521   \n",
       "dzien          -0.002563  0.002733  1.000000 -0.000154   0.009006 -0.009141   \n",
       "sr_temp         0.037259  0.243085 -0.000154  1.000000   0.108528 -0.301701   \n",
       "suma_opad      -0.024832  0.010789  0.009006  0.108528   1.000000  0.235446   \n",
       "sr_zachm        0.061222 -0.017521 -0.009141 -0.301701   0.235446  1.000000   \n",
       "sr_predk_wiatr  0.084521 -0.111594 -0.011438 -0.164483   0.049339  0.164023   \n",
       "sr_wilg        -0.080880  0.143464  0.003424 -0.482516   0.212625  0.655288   \n",
       "sr_cisn_morze   0.004813  0.142424  0.039333 -0.209942  -0.248030 -0.300667   \n",
       "pm25_sr_wok    -0.145155 -0.119790 -0.005523 -0.532242  -0.107226  0.022006   \n",
       "pm10_8_niep    -0.064872 -0.084702  0.034981 -0.043654  -0.099082 -0.227672   \n",
       "pm25_8_niep    -0.076359 -0.079982  0.009668 -0.314909  -0.091782 -0.041398   \n",
       "\n",
       "                sr_predk_wiatr   sr_wilg  sr_cisn_morze  pm25_sr_wok  \\\n",
       "rok                   0.084521 -0.080880       0.004813    -0.145155   \n",
       "miesiac              -0.111594  0.143464       0.142424    -0.119790   \n",
       "dzien                -0.011438  0.003424       0.039333    -0.005523   \n",
       "sr_temp              -0.164483 -0.482516      -0.209942    -0.532242   \n",
       "suma_opad             0.049339  0.212625      -0.248030    -0.107226   \n",
       "sr_zachm              0.164023  0.655288      -0.300667     0.022006   \n",
       "sr_predk_wiatr        1.000000 -0.033300      -0.111853    -0.322860   \n",
       "sr_wilg              -0.033300  1.000000      -0.090265     0.312512   \n",
       "sr_cisn_morze        -0.111853 -0.090265       1.000000     0.253125   \n",
       "pm25_sr_wok          -0.322860  0.312512       0.253125     1.000000   \n",
       "pm10_8_niep          -0.412297 -0.114934       0.183625     0.563977   \n",
       "pm25_8_niep          -0.392832  0.178478       0.192920     0.826347   \n",
       "\n",
       "                pm10_8_niep  pm25_8_niep  \n",
       "rok               -0.064872    -0.076359  \n",
       "miesiac           -0.084702    -0.079982  \n",
       "dzien              0.034981     0.009668  \n",
       "sr_temp           -0.043654    -0.314909  \n",
       "suma_opad         -0.099082    -0.091782  \n",
       "sr_zachm          -0.227672    -0.041398  \n",
       "sr_predk_wiatr    -0.412297    -0.392832  \n",
       "sr_wilg           -0.114934     0.178478  \n",
       "sr_cisn_morze      0.183625     0.192920  \n",
       "pm25_sr_wok        0.563977     0.826347  \n",
       "pm10_8_niep        1.000000     0.803112  \n",
       "pm25_8_niep        0.803112     1.000000  "
      ]
     },
     "execution_count": 93,
     "metadata": {},
     "output_type": "execute_result"
    }
   ],
   "source": [
    "df.corr(method='pearson')"
   ]
  },
  {
   "cell_type": "markdown",
   "metadata": {},
   "source": [
    "Zauważmy:\n",
    "* Brak korelacji między zmiennymi objaśniającymi i objaśnianymi"
   ]
  },
  {
   "cell_type": "markdown",
   "metadata": {},
   "source": [
    "### Wartości odstające"
   ]
  },
  {
   "cell_type": "code",
   "execution_count": 144,
   "metadata": {
    "scrolled": true
   },
   "outputs": [
    {
     "data": {
      "image/png": "[encoded data removed]",
      "text/plain": [
       "<matplotlib.figure.Figure at 0x11fa9780>"
      ]
     },
     "metadata": {},
     "output_type": "display_data"
    },
    {
     "data": {
      "text/plain": [
       "<matplotlib.figure.Figure at 0x1cf43da0>"
      ]
     },
     "metadata": {},
     "output_type": "display_data"
    }
   ],
   "source": [
    "plt.figure()\n",
    "\n",
    "plt.subplot(231)\n",
    "df.sr_temp.hist()\n",
    "plt.title(\"sr_temp\")\n",
    "\n",
    "plt.subplot(232)\n",
    "#plt.boxplot(df.suma_opad)\n",
    "df.suma_opad.hist()\n",
    "plt.title(\"suma_opad\")\n",
    "\n",
    "plt.subplot(233)\n",
    "df.sr_zachm.hist()\n",
    "plt.title(\"sr_zachm\")\n",
    "\n",
    "plt.subplot(234)\n",
    "df.sr_predk_wiatr.hist()\n",
    "plt.title(\"sr_predk_wiatr\")\n",
    "\n",
    "plt.subplot(235)\n",
    "df.sr_wilg.hist()\n",
    "plt.title(\"sr_wilg\")\n",
    "\n",
    "plt.subplot(236)\n",
    "df.sr_cisn_morze.hist()\n",
    "plt.title(\"sr_cisn_morze\")\n",
    "\n",
    "plt.show()\n",
    "\n",
    "#plt.savefig('sample.pdf')"
   ]
  },
  {
   "cell_type": "markdown",
   "metadata": {},
   "source": [
    "Usuwam rekordy zawierającymi wartości odstające:"
   ]
  },
  {
   "cell_type": "code",
   "execution_count": 235,
   "metadata": {
    "collapsed": true
   },
   "outputs": [],
   "source": [
    "df = df[df.suma_opad < 36]"
   ]
  },
  {
   "cell_type": "markdown",
   "metadata": {},
   "source": [
    "### Odstające dla smogu:"
   ]
  },
  {
   "cell_type": "code",
   "execution_count": null,
   "metadata": {
    "collapsed": true
   },
   "outputs": [],
   "source": []
  },
  {
   "cell_type": "markdown",
   "metadata": {},
   "source": [
    "## Inżynieria cech"
   ]
  },
  {
   "cell_type": "markdown",
   "metadata": {},
   "source": [
    "Poprzedni dzień też wpływa na to jak ludzie grzeją."
   ]
  },
  {
   "cell_type": "code",
   "execution_count": 236,
   "metadata": {
    "collapsed": true
   },
   "outputs": [],
   "source": [
    "# bool: brak/jest deszcz\n",
    "df[\"bez_deszczu\"] = False\n",
    "df.loc[df.suma_opad == 0, 'bez_deszczu'] = True\n",
    "\n",
    "#bool: brak/jest wiatr\n",
    "df[\"bez_wiatru\"] = False\n",
    "df.loc[df.sr_predk_wiatr == 0, 'bez_wiatru'] = True"
   ]
  },
  {
   "cell_type": "markdown",
   "metadata": {},
   "source": [
    "..."
   ]
  },
  {
   "cell_type": "code",
   "execution_count": 237,
   "metadata": {
    "collapsed": true
   },
   "outputs": [],
   "source": [
    "wektor_poprz = copy.deepcopy(df[\"sr_temp\"].values)\n",
    "wp = wektor_poprz\n",
    "wp[1:] = wektor_poprz[:-1]\n",
    "\n",
    "df[\"poprz_sr_temp\"] = wp"
   ]
  },
  {
   "cell_type": "markdown",
   "metadata": {},
   "source": [
    "Zmiany z dnia na dzien:\n",
    "* temp\n",
    "* opad\n",
    "* zachm\n",
    "* predk_wiatru\n",
    "* wilg\n",
    "* cisnienie"
   ]
  },
  {
   "cell_type": "code",
   "execution_count": 238,
   "metadata": {},
   "outputs": [],
   "source": [
    "# zmiana dniowa sredniej temperatury\n",
    "roznica = df.sr_temp - wp\n",
    "df[\"rozn_temp\"] = roznica"
   ]
  },
  {
   "cell_type": "code",
   "execution_count": 239,
   "metadata": {},
   "outputs": [],
   "source": [
    "# zmiana dniowa opadow \n",
    "\n",
    "wektor_poprz = copy.deepcopy(df[\"suma_opad\"].values)\n",
    "wp = wektor_poprz\n",
    "wp[1:] = wektor_poprz[:-1]\n",
    "\n",
    "roznica = df.suma_opad - wp\n",
    "df[\"rozn_opad\"] = roznica"
   ]
  },
  {
   "cell_type": "code",
   "execution_count": 240,
   "metadata": {
    "collapsed": true
   },
   "outputs": [],
   "source": [
    "# zmiana dniowa zachmurzenia\n",
    "\n",
    "wektor_poprz = copy.deepcopy(df[\"sr_zachm\"].values)\n",
    "wp = wektor_poprz\n",
    "wp[1:] = wektor_poprz[:-1]\n",
    "\n",
    "roznica = df.sr_zachm - wp\n",
    "df[\"rozn_zachm\"] = roznica"
   ]
  },
  {
   "cell_type": "code",
   "execution_count": 241,
   "metadata": {
    "collapsed": true
   },
   "outputs": [],
   "source": [
    "# zmiana dniowa predkosci wiatru\n",
    "\n",
    "wektor_poprz = copy.deepcopy(df[\"sr_predk_wiatr\"].values)\n",
    "wp = wektor_poprz\n",
    "wp[1:] = wektor_poprz[:-1]\n",
    "\n",
    "roznica = df.sr_predk_wiatr - wp\n",
    "df[\"rozn_pr_wiatru\"] = roznica"
   ]
  },
  {
   "cell_type": "code",
   "execution_count": 242,
   "metadata": {
    "collapsed": true
   },
   "outputs": [],
   "source": [
    "# zmiana dniowa wilgotnosci\n",
    "\n",
    "wektor_poprz = copy.deepcopy(df[\"sr_wilg\"].values)\n",
    "wp = wektor_poprz\n",
    "wp[1:] = wektor_poprz[:-1]\n",
    "\n",
    "roznica = df.sr_wilg - wp\n",
    "df[\"rozn_wilg\"] = roznica"
   ]
  },
  {
   "cell_type": "code",
   "execution_count": 243,
   "metadata": {
    "collapsed": true
   },
   "outputs": [],
   "source": [
    "# zmiana dniowa predkosci wiatru\n",
    "\n",
    "wektor_poprz = copy.deepcopy(df[\"sr_cisn_morze\"].values)\n",
    "wp = wektor_poprz\n",
    "wp[1:] = wektor_poprz[:-1]\n",
    "\n",
    "roznica = df.sr_cisn_morze - wp\n",
    "df[\"rozn_cisn\"] = roznica"
   ]
  },
  {
   "cell_type": "code",
   "execution_count": 247,
   "metadata": {},
   "outputs": [
    {
     "data": {
      "text/html": [
       "<div>\n",
       "<style>\n",
       "    .dataframe thead tr:only-child th {\n",
       "        text-align: right;\n",
       "    }\n",
       "\n",
       "    .dataframe thead th {\n",
       "        text-align: left;\n",
       "    }\n",
       "\n",
       "    .dataframe tbody tr th {\n",
       "        vertical-align: top;\n",
       "    }\n",
       "</style>\n",
       "<table border=\"1\" class=\"dataframe\">\n",
       "  <thead>\n",
       "    <tr style=\"text-align: right;\">\n",
       "      <th></th>\n",
       "      <th>rok</th>\n",
       "      <th>miesiac</th>\n",
       "      <th>dzien</th>\n",
       "      <th>sr_temp</th>\n",
       "      <th>suma_opad</th>\n",
       "      <th>sr_zachm</th>\n",
       "      <th>sr_predk_wiatr</th>\n",
       "      <th>sr_wilg</th>\n",
       "      <th>sr_cisn_morze</th>\n",
       "      <th>pm25_sr_wok</th>\n",
       "      <th>pm10_8_niep</th>\n",
       "      <th>pm25_8_niep</th>\n",
       "      <th>bez_deszczu</th>\n",
       "      <th>bez_wiatru</th>\n",
       "      <th>poprz_sr_temp</th>\n",
       "      <th>rozn_temp</th>\n",
       "      <th>rozn_opad</th>\n",
       "      <th>rozn_zachm</th>\n",
       "      <th>rozn_pr_wiatru</th>\n",
       "      <th>rozn_wilg</th>\n",
       "      <th>rozn_cisn</th>\n",
       "    </tr>\n",
       "  </thead>\n",
       "  <tbody>\n",
       "    <tr>\n",
       "      <th>2187</th>\n",
       "      <td>2016</td>\n",
       "      <td>12</td>\n",
       "      <td>27</td>\n",
       "      <td>3.7</td>\n",
       "      <td>3.6</td>\n",
       "      <td>7.0</td>\n",
       "      <td>8.9</td>\n",
       "      <td>79.4</td>\n",
       "      <td>1014.3</td>\n",
       "      <td>7.138497</td>\n",
       "      <td>10.6964</td>\n",
       "      <td>8.822050</td>\n",
       "      <td>False</td>\n",
       "      <td>False</td>\n",
       "      <td>7.7</td>\n",
       "      <td>-4.0</td>\n",
       "      <td>1.8</td>\n",
       "      <td>-0.4</td>\n",
       "      <td>3.5</td>\n",
       "      <td>-9.4</td>\n",
       "      <td>-0.5</td>\n",
       "    </tr>\n",
       "    <tr>\n",
       "      <th>2188</th>\n",
       "      <td>2016</td>\n",
       "      <td>12</td>\n",
       "      <td>28</td>\n",
       "      <td>1.8</td>\n",
       "      <td>0.0</td>\n",
       "      <td>6.1</td>\n",
       "      <td>6.6</td>\n",
       "      <td>73.9</td>\n",
       "      <td>1029.0</td>\n",
       "      <td>6.324377</td>\n",
       "      <td>11.4272</td>\n",
       "      <td>8.716341</td>\n",
       "      <td>True</td>\n",
       "      <td>False</td>\n",
       "      <td>3.7</td>\n",
       "      <td>-1.9</td>\n",
       "      <td>-3.6</td>\n",
       "      <td>-0.9</td>\n",
       "      <td>-2.3</td>\n",
       "      <td>-5.5</td>\n",
       "      <td>14.7</td>\n",
       "    </tr>\n",
       "    <tr>\n",
       "      <th>2189</th>\n",
       "      <td>2016</td>\n",
       "      <td>12</td>\n",
       "      <td>29</td>\n",
       "      <td>-0.6</td>\n",
       "      <td>0.0</td>\n",
       "      <td>4.4</td>\n",
       "      <td>2.8</td>\n",
       "      <td>87.9</td>\n",
       "      <td>1040.0</td>\n",
       "      <td>24.442114</td>\n",
       "      <td>30.8456</td>\n",
       "      <td>22.352811</td>\n",
       "      <td>True</td>\n",
       "      <td>False</td>\n",
       "      <td>1.8</td>\n",
       "      <td>-2.4</td>\n",
       "      <td>0.0</td>\n",
       "      <td>-1.7</td>\n",
       "      <td>-3.8</td>\n",
       "      <td>14.0</td>\n",
       "      <td>11.0</td>\n",
       "    </tr>\n",
       "    <tr>\n",
       "      <th>2190</th>\n",
       "      <td>2016</td>\n",
       "      <td>12</td>\n",
       "      <td>30</td>\n",
       "      <td>0.9</td>\n",
       "      <td>0.0</td>\n",
       "      <td>4.9</td>\n",
       "      <td>3.4</td>\n",
       "      <td>86.0</td>\n",
       "      <td>1036.2</td>\n",
       "      <td>38.403554</td>\n",
       "      <td>51.0992</td>\n",
       "      <td>44.657425</td>\n",
       "      <td>True</td>\n",
       "      <td>False</td>\n",
       "      <td>-0.6</td>\n",
       "      <td>1.5</td>\n",
       "      <td>0.0</td>\n",
       "      <td>0.5</td>\n",
       "      <td>0.6</td>\n",
       "      <td>-1.9</td>\n",
       "      <td>-3.8</td>\n",
       "    </tr>\n",
       "    <tr>\n",
       "      <th>2191</th>\n",
       "      <td>2016</td>\n",
       "      <td>12</td>\n",
       "      <td>31</td>\n",
       "      <td>0.8</td>\n",
       "      <td>0.0</td>\n",
       "      <td>1.4</td>\n",
       "      <td>3.6</td>\n",
       "      <td>75.3</td>\n",
       "      <td>1027.6</td>\n",
       "      <td>35.843362</td>\n",
       "      <td>47.7584</td>\n",
       "      <td>46.454479</td>\n",
       "      <td>True</td>\n",
       "      <td>False</td>\n",
       "      <td>0.9</td>\n",
       "      <td>-0.1</td>\n",
       "      <td>0.0</td>\n",
       "      <td>-3.5</td>\n",
       "      <td>0.2</td>\n",
       "      <td>-10.7</td>\n",
       "      <td>-8.6</td>\n",
       "    </tr>\n",
       "  </tbody>\n",
       "</table>\n",
       "</div>"
      ],
      "text/plain": [
       "       rok  miesiac  dzien  sr_temp  suma_opad  sr_zachm  sr_predk_wiatr  \\\n",
       "2187  2016       12     27      3.7        3.6       7.0             8.9   \n",
       "2188  2016       12     28      1.8        0.0       6.1             6.6   \n",
       "2189  2016       12     29     -0.6        0.0       4.4             2.8   \n",
       "2190  2016       12     30      0.9        0.0       4.9             3.4   \n",
       "2191  2016       12     31      0.8        0.0       1.4             3.6   \n",
       "\n",
       "      sr_wilg  sr_cisn_morze  pm25_sr_wok  pm10_8_niep  pm25_8_niep  \\\n",
       "2187     79.4         1014.3     7.138497      10.6964     8.822050   \n",
       "2188     73.9         1029.0     6.324377      11.4272     8.716341   \n",
       "2189     87.9         1040.0    24.442114      30.8456    22.352811   \n",
       "2190     86.0         1036.2    38.403554      51.0992    44.657425   \n",
       "2191     75.3         1027.6    35.843362      47.7584    46.454479   \n",
       "\n",
       "      bez_deszczu  bez_wiatru  poprz_sr_temp  rozn_temp  rozn_opad  \\\n",
       "2187        False       False            7.7       -4.0        1.8   \n",
       "2188         True       False            3.7       -1.9       -3.6   \n",
       "2189         True       False            1.8       -2.4        0.0   \n",
       "2190         True       False           -0.6        1.5        0.0   \n",
       "2191         True       False            0.9       -0.1        0.0   \n",
       "\n",
       "      rozn_zachm  rozn_pr_wiatru  rozn_wilg  rozn_cisn  \n",
       "2187        -0.4             3.5       -9.4       -0.5  \n",
       "2188        -0.9            -2.3       -5.5       14.7  \n",
       "2189        -1.7            -3.8       14.0       11.0  \n",
       "2190         0.5             0.6       -1.9       -3.8  \n",
       "2191        -3.5             0.2      -10.7       -8.6  "
      ]
     },
     "execution_count": 247,
     "metadata": {},
     "output_type": "execute_result"
    }
   ],
   "source": [
    "df.tail(5)"
   ]
  },
  {
   "cell_type": "code",
   "execution_count": 246,
   "metadata": {},
   "outputs": [
    {
     "data": {
      "text/plain": [
       "-8.600000000000136"
      ]
     },
     "execution_count": 246,
     "metadata": {},
     "output_type": "execute_result"
    }
   ],
   "source": []
  },
  {
   "cell_type": "code",
   "execution_count": null,
   "metadata": {
    "collapsed": true
   },
   "outputs": [],
   "source": []
  },
  {
   "cell_type": "code",
   "execution_count": null,
   "metadata": {
    "collapsed": true
   },
   "outputs": [],
   "source": []
  },
  {
   "cell_type": "markdown",
   "metadata": {},
   "source": [
    "### Typy zmiennych"
   ]
  },
  {
   "cell_type": "code",
   "execution_count": 255,
   "metadata": {},
   "outputs": [
    {
     "data": {
      "text/plain": [
       "rok               category\n",
       "miesiac           category\n",
       "dzien             category\n",
       "sr_temp            float64\n",
       "suma_opad          float64\n",
       "sr_zachm           float64\n",
       "sr_predk_wiatr     float64\n",
       "sr_wilg            float64\n",
       "sr_cisn_morze      float64\n",
       "pm25_sr_wok        float64\n",
       "pm10_8_niep        float64\n",
       "pm25_8_niep        float64\n",
       "bez_deszczu           bool\n",
       "bez_wiatru            bool\n",
       "poprz_sr_temp      float64\n",
       "rozn_temp          float64\n",
       "rozn_opad          float64\n",
       "rozn_zachm         float64\n",
       "rozn_pr_wiatru     float64\n",
       "rozn_wilg          float64\n",
       "rozn_cisn          float64\n",
       "dtype: object"
      ]
     },
     "execution_count": 255,
     "metadata": {},
     "output_type": "execute_result"
    }
   ],
   "source": [
    "df.dtypes"
   ]
  },
  {
   "cell_type": "code",
   "execution_count": 248,
   "metadata": {
    "collapsed": true
   },
   "outputs": [],
   "source": [
    "df.rok = df.rok.astype(\"category\")\n",
    "df.miesiac = df.miesiac.astype(\"category\")\n",
    "df.dzien = df.dzien.astype(\"category\")"
   ]
  },
  {
   "cell_type": "code",
   "execution_count": 101,
   "metadata": {},
   "outputs": [
    {
     "data": {
      "text/plain": [
       "rok               category\n",
       "miesiac           category\n",
       "dzien             category\n",
       "sr_temp            float64\n",
       "suma_opad          float64\n",
       "sr_zachm           float64\n",
       "sr_predk_wiatr     float64\n",
       "sr_wilg            float64\n",
       "sr_cisn_morze      float64\n",
       "pm25_sr_wok        float64\n",
       "pm10_8_niep        float64\n",
       "pm25_8_niep        float64\n",
       "bez_deszczu           bool\n",
       "bez_wiatru            bool\n",
       "poprz_sr_temp      float64\n",
       "dtype: object"
      ]
     },
     "execution_count": 101,
     "metadata": {},
     "output_type": "execute_result"
    }
   ],
   "source": [
    "df.dtypes"
   ]
  },
  {
   "cell_type": "code",
   "execution_count": null,
   "metadata": {
    "collapsed": true
   },
   "outputs": [],
   "source": []
  },
  {
   "cell_type": "code",
   "execution_count": null,
   "metadata": {
    "collapsed": true
   },
   "outputs": [],
   "source": []
  },
  {
   "cell_type": "code",
   "execution_count": null,
   "metadata": {
    "collapsed": true
   },
   "outputs": [],
   "source": []
  },
  {
   "cell_type": "code",
   "execution_count": null,
   "metadata": {
    "scrolled": true
   },
   "outputs": [],
   "source": []
  },
  {
   "cell_type": "markdown",
   "metadata": {},
   "source": [
    "## Zależności między zmiennymi"
   ]
  },
  {
   "cell_type": "code",
   "execution_count": 165,
   "metadata": {
    "scrolled": true
   },
   "outputs": [
    {
     "data": {
      "text/plain": [
       "Index(['rok', 'miesiac', 'dzien', 'sr_temp', 'suma_opad', 'sr_zachm',\n",
       "       'sr_predk_wiatr', 'sr_wilg', 'sr_cisn_morze', 'pm25_sr_wok',\n",
       "       'pm10_8_niep', 'pm25_8_niep', 'bez_deszczu', 'bez_wiatru'],\n",
       "      dtype='object')"
      ]
     },
     "execution_count": 165,
     "metadata": {},
     "output_type": "execute_result"
    }
   ],
   "source": [
    "df.columns"
   ]
  },
  {
   "cell_type": "code",
   "execution_count": 166,
   "metadata": {},
   "outputs": [
    {
     "data": {
      "text/html": [
       "<div>\n",
       "<style>\n",
       "    .dataframe thead tr:only-child th {\n",
       "        text-align: right;\n",
       "    }\n",
       "\n",
       "    .dataframe thead th {\n",
       "        text-align: left;\n",
       "    }\n",
       "\n",
       "    .dataframe tbody tr th {\n",
       "        vertical-align: top;\n",
       "    }\n",
       "</style>\n",
       "<table border=\"1\" class=\"dataframe\">\n",
       "  <thead>\n",
       "    <tr style=\"text-align: right;\">\n",
       "      <th></th>\n",
       "      <th>sr_temp</th>\n",
       "      <th>suma_opad</th>\n",
       "      <th>sr_zachm</th>\n",
       "      <th>sr_predk_wiatr</th>\n",
       "      <th>sr_wilg</th>\n",
       "      <th>sr_cisn_morze</th>\n",
       "      <th>pm25_sr_wok</th>\n",
       "      <th>pm10_8_niep</th>\n",
       "      <th>pm25_8_niep</th>\n",
       "      <th>bez_deszczu</th>\n",
       "      <th>bez_wiatru</th>\n",
       "    </tr>\n",
       "  </thead>\n",
       "  <tbody>\n",
       "    <tr>\n",
       "      <th>sr_temp</th>\n",
       "      <td>1.000000</td>\n",
       "      <td>0.113144</td>\n",
       "      <td>-0.314749</td>\n",
       "      <td>-0.155645</td>\n",
       "      <td>-0.500556</td>\n",
       "      <td>-0.212812</td>\n",
       "      <td>-0.539742</td>\n",
       "      <td>-0.050707</td>\n",
       "      <td>-0.308747</td>\n",
       "      <td>0.050500</td>\n",
       "      <td>-0.023903</td>\n",
       "    </tr>\n",
       "    <tr>\n",
       "      <th>suma_opad</th>\n",
       "      <td>0.113144</td>\n",
       "      <td>1.000000</td>\n",
       "      <td>0.240086</td>\n",
       "      <td>0.074603</td>\n",
       "      <td>0.203718</td>\n",
       "      <td>-0.260428</td>\n",
       "      <td>-0.116432</td>\n",
       "      <td>-0.107952</td>\n",
       "      <td>-0.100908</td>\n",
       "      <td>-0.488552</td>\n",
       "      <td>-0.008591</td>\n",
       "    </tr>\n",
       "    <tr>\n",
       "      <th>sr_zachm</th>\n",
       "      <td>-0.314749</td>\n",
       "      <td>0.240086</td>\n",
       "      <td>1.000000</td>\n",
       "      <td>0.158219</td>\n",
       "      <td>0.656848</td>\n",
       "      <td>-0.281895</td>\n",
       "      <td>0.055648</td>\n",
       "      <td>-0.218632</td>\n",
       "      <td>-0.039169</td>\n",
       "      <td>-0.462476</td>\n",
       "      <td>-0.017916</td>\n",
       "    </tr>\n",
       "    <tr>\n",
       "      <th>sr_predk_wiatr</th>\n",
       "      <td>-0.155645</td>\n",
       "      <td>0.074603</td>\n",
       "      <td>0.158219</td>\n",
       "      <td>1.000000</td>\n",
       "      <td>-0.040703</td>\n",
       "      <td>-0.110061</td>\n",
       "      <td>-0.324923</td>\n",
       "      <td>-0.408689</td>\n",
       "      <td>-0.379765</td>\n",
       "      <td>-0.137280</td>\n",
       "      <td>-0.043632</td>\n",
       "    </tr>\n",
       "    <tr>\n",
       "      <th>sr_wilg</th>\n",
       "      <td>-0.500556</td>\n",
       "      <td>0.203718</td>\n",
       "      <td>0.656848</td>\n",
       "      <td>-0.040703</td>\n",
       "      <td>1.000000</td>\n",
       "      <td>-0.080086</td>\n",
       "      <td>0.344458</td>\n",
       "      <td>-0.104179</td>\n",
       "      <td>0.176341</td>\n",
       "      <td>-0.341458</td>\n",
       "      <td>0.019152</td>\n",
       "    </tr>\n",
       "    <tr>\n",
       "      <th>sr_cisn_morze</th>\n",
       "      <td>-0.212812</td>\n",
       "      <td>-0.260428</td>\n",
       "      <td>-0.281895</td>\n",
       "      <td>-0.110061</td>\n",
       "      <td>-0.080086</td>\n",
       "      <td>1.000000</td>\n",
       "      <td>0.249383</td>\n",
       "      <td>0.188780</td>\n",
       "      <td>0.194411</td>\n",
       "      <td>0.364492</td>\n",
       "      <td>0.026527</td>\n",
       "    </tr>\n",
       "    <tr>\n",
       "      <th>pm25_sr_wok</th>\n",
       "      <td>-0.539742</td>\n",
       "      <td>-0.116432</td>\n",
       "      <td>0.055648</td>\n",
       "      <td>-0.324923</td>\n",
       "      <td>0.344458</td>\n",
       "      <td>0.249383</td>\n",
       "      <td>1.000000</td>\n",
       "      <td>0.565322</td>\n",
       "      <td>0.807848</td>\n",
       "      <td>0.093458</td>\n",
       "      <td>0.050373</td>\n",
       "    </tr>\n",
       "    <tr>\n",
       "      <th>pm10_8_niep</th>\n",
       "      <td>-0.050707</td>\n",
       "      <td>-0.107952</td>\n",
       "      <td>-0.218632</td>\n",
       "      <td>-0.408689</td>\n",
       "      <td>-0.104179</td>\n",
       "      <td>0.188780</td>\n",
       "      <td>0.565322</td>\n",
       "      <td>1.000000</td>\n",
       "      <td>0.804659</td>\n",
       "      <td>0.129972</td>\n",
       "      <td>0.028340</td>\n",
       "    </tr>\n",
       "    <tr>\n",
       "      <th>pm25_8_niep</th>\n",
       "      <td>-0.308747</td>\n",
       "      <td>-0.100908</td>\n",
       "      <td>-0.039169</td>\n",
       "      <td>-0.379765</td>\n",
       "      <td>0.176341</td>\n",
       "      <td>0.194411</td>\n",
       "      <td>0.807848</td>\n",
       "      <td>0.804659</td>\n",
       "      <td>1.000000</td>\n",
       "      <td>0.082471</td>\n",
       "      <td>0.040857</td>\n",
       "    </tr>\n",
       "    <tr>\n",
       "      <th>bez_deszczu</th>\n",
       "      <td>0.050500</td>\n",
       "      <td>-0.488552</td>\n",
       "      <td>-0.462476</td>\n",
       "      <td>-0.137280</td>\n",
       "      <td>-0.341458</td>\n",
       "      <td>0.364492</td>\n",
       "      <td>0.093458</td>\n",
       "      <td>0.129972</td>\n",
       "      <td>0.082471</td>\n",
       "      <td>1.000000</td>\n",
       "      <td>0.017585</td>\n",
       "    </tr>\n",
       "    <tr>\n",
       "      <th>bez_wiatru</th>\n",
       "      <td>-0.023903</td>\n",
       "      <td>-0.008591</td>\n",
       "      <td>-0.017916</td>\n",
       "      <td>-0.043632</td>\n",
       "      <td>0.019152</td>\n",
       "      <td>0.026527</td>\n",
       "      <td>0.050373</td>\n",
       "      <td>0.028340</td>\n",
       "      <td>0.040857</td>\n",
       "      <td>0.017585</td>\n",
       "      <td>1.000000</td>\n",
       "    </tr>\n",
       "  </tbody>\n",
       "</table>\n",
       "</div>"
      ],
      "text/plain": [
       "                 sr_temp  suma_opad  sr_zachm  sr_predk_wiatr   sr_wilg  \\\n",
       "sr_temp         1.000000   0.113144 -0.314749       -0.155645 -0.500556   \n",
       "suma_opad       0.113144   1.000000  0.240086        0.074603  0.203718   \n",
       "sr_zachm       -0.314749   0.240086  1.000000        0.158219  0.656848   \n",
       "sr_predk_wiatr -0.155645   0.074603  0.158219        1.000000 -0.040703   \n",
       "sr_wilg        -0.500556   0.203718  0.656848       -0.040703  1.000000   \n",
       "sr_cisn_morze  -0.212812  -0.260428 -0.281895       -0.110061 -0.080086   \n",
       "pm25_sr_wok    -0.539742  -0.116432  0.055648       -0.324923  0.344458   \n",
       "pm10_8_niep    -0.050707  -0.107952 -0.218632       -0.408689 -0.104179   \n",
       "pm25_8_niep    -0.308747  -0.100908 -0.039169       -0.379765  0.176341   \n",
       "bez_deszczu     0.050500  -0.488552 -0.462476       -0.137280 -0.341458   \n",
       "bez_wiatru     -0.023903  -0.008591 -0.017916       -0.043632  0.019152   \n",
       "\n",
       "                sr_cisn_morze  pm25_sr_wok  pm10_8_niep  pm25_8_niep  \\\n",
       "sr_temp             -0.212812    -0.539742    -0.050707    -0.308747   \n",
       "suma_opad           -0.260428    -0.116432    -0.107952    -0.100908   \n",
       "sr_zachm            -0.281895     0.055648    -0.218632    -0.039169   \n",
       "sr_predk_wiatr      -0.110061    -0.324923    -0.408689    -0.379765   \n",
       "sr_wilg             -0.080086     0.344458    -0.104179     0.176341   \n",
       "sr_cisn_morze        1.000000     0.249383     0.188780     0.194411   \n",
       "pm25_sr_wok          0.249383     1.000000     0.565322     0.807848   \n",
       "pm10_8_niep          0.188780     0.565322     1.000000     0.804659   \n",
       "pm25_8_niep          0.194411     0.807848     0.804659     1.000000   \n",
       "bez_deszczu          0.364492     0.093458     0.129972     0.082471   \n",
       "bez_wiatru           0.026527     0.050373     0.028340     0.040857   \n",
       "\n",
       "                bez_deszczu  bez_wiatru  \n",
       "sr_temp            0.050500   -0.023903  \n",
       "suma_opad         -0.488552   -0.008591  \n",
       "sr_zachm          -0.462476   -0.017916  \n",
       "sr_predk_wiatr    -0.137280   -0.043632  \n",
       "sr_wilg           -0.341458    0.019152  \n",
       "sr_cisn_morze      0.364492    0.026527  \n",
       "pm25_sr_wok        0.093458    0.050373  \n",
       "pm10_8_niep        0.129972    0.028340  \n",
       "pm25_8_niep        0.082471    0.040857  \n",
       "bez_deszczu        1.000000    0.017585  \n",
       "bez_wiatru         0.017585    1.000000  "
      ]
     },
     "execution_count": 166,
     "metadata": {},
     "output_type": "execute_result"
    }
   ],
   "source": [
    "df.corr(method=\"pearson\")"
   ]
  },
  {
   "cell_type": "markdown",
   "metadata": {},
   "source": [
    "Skorelowane:\n",
    "zachmurzenie ~ wilgotnosc\n"
   ]
  },
  {
   "cell_type": "markdown",
   "metadata": {},
   "source": [
    "### Scatter ploty"
   ]
  },
  {
   "cell_type": "code",
   "execution_count": 170,
   "metadata": {},
   "outputs": [
    {
     "data": {
      "text/plain": [
       "<matplotlib.text.Text at 0x1cd2e668>"
      ]
     },
     "execution_count": 170,
     "metadata": {},
     "output_type": "execute_result"
    },
    {
     "data": {
      "image/png": "[encoded data removed]",
      "text/plain": [
       "<matplotlib.figure.Figure at 0x1ce530b8>"
      ]
     },
     "metadata": {},
     "output_type": "display_data"
    }
   ],
   "source": [
    "plt.scatter(x=df.sr_zachm, y=df.sr_wilg, s=6)\n",
    "plt.xlabel(\"zachmurzenie\")\n",
    "plt.ylabel(\"wilgotnosc\")\n",
    "plt.title(\"Zachmurzenie ~ wilgotnosc\")"
   ]
  },
  {
   "cell_type": "code",
   "execution_count": 173,
   "metadata": {},
   "outputs": [
    {
     "data": {
      "text/plain": [
       "<matplotlib.text.Text at 0x1cedde80>"
      ]
     },
     "execution_count": 173,
     "metadata": {},
     "output_type": "execute_result"
    },
    {
     "data": {
      "image/png": "[encoded data removed]",
      "text/plain": [
       "<matplotlib.figure.Figure at 0x1d745eb8>"
      ]
     },
     "metadata": {},
     "output_type": "display_data"
    }
   ],
   "source": [
    "plt.scatter(x=df.sr_temp, y=df.suma_opad, s=6)\n",
    "plt.xlabel(\"Temperatura\")\n",
    "plt.ylabel(\"opady\")\n",
    "plt.title(\"Temperatura ~ opady\")"
   ]
  },
  {
   "cell_type": "code",
   "execution_count": null,
   "metadata": {
    "collapsed": true
   },
   "outputs": [],
   "source": []
  },
  {
   "cell_type": "code",
   "execution_count": null,
   "metadata": {
    "collapsed": true
   },
   "outputs": [],
   "source": []
  },
  {
   "cell_type": "code",
   "execution_count": null,
   "metadata": {
    "collapsed": true
   },
   "outputs": [],
   "source": []
  },
  {
   "cell_type": "markdown",
   "metadata": {},
   "source": [
    "### pm, a rok - czy mam trend ?"
   ]
  },
  {
   "cell_type": "code",
   "execution_count": 171,
   "metadata": {},
   "outputs": [
    {
     "name": "stdout",
     "output_type": "stream",
     "text": [
      "      pm25_sr_wok  pm10_8_niep  pm25_8_niep\n",
      "rok                                        \n",
      "2011    26.362285    53.536695    31.247500\n",
      "2012    28.799394    42.023588    27.386379\n",
      "2013    23.526730    40.921231    32.667584\n",
      "2014    23.795082    44.017631    31.507231\n",
      "2015    21.346362    43.879204    25.469095\n",
      "2016    18.849535    45.264723    27.086752\n"
     ]
    },
    {
     "data": {
      "text/plain": [
       "<matplotlib.axes._subplots.AxesSubplot at 0x1ca660f0>"
      ]
     },
     "execution_count": 171,
     "metadata": {},
     "output_type": "execute_result"
    },
    {
     "data": {
      "image/png": "[encoded data removed]",
      "text/plain": [
       "<matplotlib.figure.Figure at 0x1ca53e80>"
      ]
     },
     "metadata": {},
     "output_type": "display_data"
    }
   ],
   "source": [
    "pm25_8_niep_rok = df.groupby(\"rok\").pm25_8_niep.mean()\n",
    "pm25_sr_wok_rok = df.groupby(\"rok\").pm25_sr_wok.mean()\n",
    "pm10_8_niep_rok = df.groupby(\"rok\").pm10_8_niep.mean()\n",
    "\n",
    "obj_rok = pd.concat([pm25_sr_wok_rok, pm10_8_niep_rok, pm25_8_niep_rok], axis=1)\n",
    "print(obj_rok)\n",
    "\n",
    "obj_rok_df = pd.DataFrame(obj_rok)\n",
    "obj_rok_df.plot( ylim = ( 0, obj_rok_df.max().max()+5 ) )"
   ]
  },
  {
   "cell_type": "markdown",
   "metadata": {},
   "source": [
    "Wniosek:\n",
    "* nie ma trendu wzrostowego"
   ]
  },
  {
   "cell_type": "markdown",
   "metadata": {},
   "source": [
    "## Smogi"
   ]
  },
  {
   "cell_type": "markdown",
   "metadata": {
    "collapsed": true
   },
   "source": [
    "### Smog w różnych miesiącach"
   ]
  },
  {
   "cell_type": "markdown",
   "metadata": {},
   "source": [
    "Zobaczmy srednie wartosci wskaźników smogowych dla miesięcy:"
   ]
  },
  {
   "cell_type": "code",
   "execution_count": 159,
   "metadata": {},
   "outputs": [
    {
     "name": "stdout",
     "output_type": "stream",
     "text": [
      "         pm25_sr_wok  pm10_8_niep  pm25_8_niep\n",
      "miesiac                                       \n",
      "1          30.665797    39.548676    31.718422\n",
      "2          39.820449    50.991991    42.239232\n",
      "3          31.591882    58.180998    37.812197\n",
      "4          21.365219    52.080557    30.588832\n",
      "5          15.468057    43.994940    23.509325\n",
      "6          13.118497    39.848901    20.167353\n",
      "7          12.129136    36.579924    19.790898\n",
      "8          12.747208    42.926736    21.546302\n",
      "9          16.378970    49.085478    25.307981\n",
      "10         27.759568    43.999040    31.905635\n",
      "11         35.537691    44.044708    35.895113\n",
      "12         30.532419    39.187800    31.496994\n"
     ]
    }
   ],
   "source": [
    "pm25_sr_wok_mies = df.groupby(\"miesiac\").pm25_sr_wok.mean()\n",
    "pm10_8_niep_mies = df.groupby(\"miesiac\").pm10_8_niep.mean()\n",
    "pm25_8_niep_mies = df.groupby(\"miesiac\").pm25_8_niep.mean()\n",
    "\n",
    "obj_mies = pd.concat([pm25_sr_wok_mies, pm10_8_niep_mies, pm25_8_niep_mies], axis=1)\n",
    "\n",
    "print(obj_mies)"
   ]
  },
  {
   "cell_type": "code",
   "execution_count": 160,
   "metadata": {
    "scrolled": true
   },
   "outputs": [
    {
     "data": {
      "text/plain": [
       "<matplotlib.axes._subplots.AxesSubplot at 0x1c1a9ac8>"
      ]
     },
     "execution_count": 160,
     "metadata": {},
     "output_type": "execute_result"
    },
    {
     "data": {
      "image/png": "[encoded data removed]",
      "text/plain": [
       "<matplotlib.figure.Figure at 0x12cd2d68>"
      ]
     },
     "metadata": {},
     "output_type": "display_data"
    }
   ],
   "source": [
    "obj_mies_df = pd.DataFrame(obj_mies)\n",
    "obj_mies_df.plot( ylim = ( 0, obj_mies_df.max().max()+5 ) )\n",
    "#plt.savefig('sample.png')"
   ]
  },
  {
   "cell_type": "code",
   "execution_count": 175,
   "metadata": {},
   "outputs": [
    {
     "data": {
      "text/plain": [
       "Index(['rok', 'miesiac', 'dzien', 'sr_temp', 'suma_opad', 'sr_zachm',\n",
       "       'sr_predk_wiatr', 'sr_wilg', 'sr_cisn_morze', 'pm25_sr_wok',\n",
       "       'pm10_8_niep', 'pm25_8_niep', 'bez_deszczu', 'bez_wiatru'],\n",
       "      dtype='object')"
      ]
     },
     "execution_count": 175,
     "metadata": {},
     "output_type": "execute_result"
    }
   ],
   "source": [
    "df.columns"
   ]
  },
  {
   "cell_type": "markdown",
   "metadata": {},
   "source": [
    "## Zaleznosci z pm25_8_niep"
   ]
  },
  {
   "cell_type": "markdown",
   "metadata": {},
   "source": [
    "### Smog, a temperatura"
   ]
  },
  {
   "cell_type": "code",
   "execution_count": 185,
   "metadata": {},
   "outputs": [
    {
     "data": {
      "text/plain": [
       "<matplotlib.text.Text at 0x1cea2588>"
      ]
     },
     "execution_count": 185,
     "metadata": {},
     "output_type": "execute_result"
    },
    {
     "data": {
      "image/png": "[encoded data removed]",
      "text/plain": [
       "<matplotlib.figure.Figure at 0x1cda35c0>"
      ]
     },
     "metadata": {},
     "output_type": "display_data"
    }
   ],
   "source": [
    "plt.scatter(x=df.pm25_8_niep, y=df.sr_temp, s=6)\n",
    "plt.xlabel(\"Smog: pm25_8_niep\")\n",
    "plt.ylabel(\"temperatura\")\n",
    "plt.title(\"pm25_8_niep ~ temp\")"
   ]
  },
  {
   "cell_type": "markdown",
   "metadata": {},
   "source": [
    "Wniosek:\n",
    "* dla nizszych temperatur mamy wiecej punktow z wiekszym smogiem"
   ]
  },
  {
   "cell_type": "markdown",
   "metadata": {},
   "source": [
    "### Smog, a opady"
   ]
  },
  {
   "cell_type": "code",
   "execution_count": 187,
   "metadata": {},
   "outputs": [
    {
     "data": {
      "text/plain": [
       "<matplotlib.text.Text at 0x1cb572b0>"
      ]
     },
     "execution_count": 187,
     "metadata": {},
     "output_type": "execute_result"
    },
    {
     "data": {
      "image/png": "[encoded data removed]",
      "text/plain": [
       "<matplotlib.figure.Figure at 0x1cb64710>"
      ]
     },
     "metadata": {},
     "output_type": "display_data"
    }
   ],
   "source": [
    "plt.scatter(x=df.pm25_8_niep, y=df.suma_opad, s=6)\n",
    "plt.xlabel(\"Smog: pm25_8_niep\")\n",
    "plt.ylabel(\"suma dobowa opadów\")\n",
    "plt.title(\"pm25_8_niep ~ opady\")"
   ]
  },
  {
   "cell_type": "markdown",
   "metadata": {},
   "source": [
    "Wn:\n",
    "* smog moze byc maly dla duzych i malych opadow -0 insightow"
   ]
  },
  {
   "cell_type": "code",
   "execution_count": 188,
   "metadata": {
    "collapsed": true
   },
   "outputs": [],
   "source": [
    "### Smog, a zachmurzenie"
   ]
  },
  {
   "cell_type": "code",
   "execution_count": 190,
   "metadata": {},
   "outputs": [
    {
     "data": {
      "text/plain": [
       "0       7.1\n",
       "1       7.4\n",
       "2       7.3\n",
       "3       6.0\n",
       "4       6.3\n",
       "5       4.6\n",
       "6       7.6\n",
       "7       7.5\n",
       "8       5.8\n",
       "9       7.0\n",
       "10      8.0\n",
       "11      7.5\n",
       "12      7.8\n",
       "13      8.0\n",
       "14      7.9\n",
       "15      7.4\n",
       "16      7.0\n",
       "17      6.0\n",
       "18      7.5\n",
       "19      7.5\n",
       "20      7.9\n",
       "21      7.4\n",
       "22      7.4\n",
       "23      6.3\n",
       "24      6.8\n",
       "25      7.3\n",
       "26      7.3\n",
       "27      8.0\n",
       "28      5.8\n",
       "29      6.8\n",
       "30      7.9\n",
       "31      8.0\n",
       "32      8.0\n",
       "33      7.8\n",
       "34      7.5\n",
       "35      7.5\n",
       "36      7.4\n",
       "37      7.3\n",
       "38      5.1\n",
       "39      6.1\n",
       "40      4.5\n",
       "41      7.4\n",
       "42      5.5\n",
       "43      1.0\n",
       "44      0.0\n",
       "45      3.6\n",
       "46      3.4\n",
       "47      6.6\n",
       "48      8.0\n",
       "49      8.0\n",
       "50      7.1\n",
       "51      4.3\n",
       "52      2.6\n",
       "53      6.0\n",
       "54      2.3\n",
       "55      0.9\n",
       "56      6.4\n",
       "57      4.1\n",
       "58      0.8\n",
       "59      0.0\n",
       "60      0.0\n",
       "61      0.0\n",
       "62      1.4\n",
       "63      5.6\n",
       "64      3.8\n",
       "65      1.5\n",
       "66      3.8\n",
       "67      0.9\n",
       "68      6.9\n",
       "69      5.4\n",
       "70      2.4\n",
       "71      5.1\n",
       "72      6.0\n",
       "73      7.4\n",
       "74      6.8\n",
       "       ... \n",
       "2117    7.4\n",
       "2118    7.6\n",
       "2119    8.0\n",
       "2120    8.0\n",
       "2121    7.9\n",
       "2122    6.1\n",
       "2123    7.6\n",
       "2124    8.0\n",
       "2125    5.9\n",
       "2126    5.5\n",
       "2127    6.6\n",
       "2128    4.8\n",
       "2129    4.6\n",
       "2130    6.8\n",
       "2131    6.5\n",
       "2132    6.8\n",
       "2133    7.3\n",
       "2134    6.8\n",
       "2135    7.3\n",
       "2136    7.4\n",
       "2137    7.5\n",
       "2138    6.1\n",
       "2139    7.8\n",
       "2140    6.9\n",
       "2141    8.0\n",
       "2142    3.6\n",
       "2143    7.1\n",
       "2144    6.1\n",
       "2145    7.3\n",
       "2146    8.0\n",
       "2147    7.1\n",
       "2148    5.8\n",
       "2149    7.6\n",
       "2150    6.0\n",
       "2151    2.5\n",
       "2152    0.4\n",
       "2153    3.8\n",
       "2154    6.0\n",
       "2155    7.6\n",
       "2156    5.5\n",
       "2157    6.1\n",
       "2158    5.5\n",
       "2159    6.4\n",
       "2160    7.6\n",
       "2161    8.0\n",
       "2162    7.5\n",
       "2163    7.1\n",
       "2164    7.4\n",
       "2165    5.9\n",
       "2166    6.8\n",
       "2167    5.0\n",
       "2168    7.6\n",
       "2169    7.9\n",
       "2170    8.0\n",
       "2171    7.9\n",
       "2172    4.4\n",
       "2173    4.3\n",
       "2174    8.0\n",
       "2175    6.6\n",
       "2176    2.0\n",
       "2177    7.3\n",
       "2178    8.0\n",
       "2179    8.0\n",
       "2180    8.0\n",
       "2181    5.6\n",
       "2182    1.4\n",
       "2183    7.3\n",
       "2184    7.9\n",
       "2185    6.8\n",
       "2186    7.4\n",
       "2187    7.0\n",
       "2188    6.1\n",
       "2189    4.4\n",
       "2190    4.9\n",
       "2191    1.4\n",
       "Name: sr_zachm, Length: 2190, dtype: float64"
      ]
     },
     "execution_count": 190,
     "metadata": {},
     "output_type": "execute_result"
    }
   ],
   "source": [
    "df[\"sr_zachm\"]"
   ]
  },
  {
   "cell_type": "code",
   "execution_count": 189,
   "metadata": {},
   "outputs": [
    {
     "data": {
      "text/plain": [
       "<matplotlib.text.Text at 0x1cca44a8>"
      ]
     },
     "execution_count": 189,
     "metadata": {},
     "output_type": "execute_result"
    },
    {
     "data": {
      "image/png": "[encoded data removed]",
      "text/plain": [
       "<matplotlib.figure.Figure at 0x12823e10>"
      ]
     },
     "metadata": {},
     "output_type": "display_data"
    }
   ],
   "source": [
    "plt.scatter(x=df.pm25_8_niep, y=df.sr_zachm, s=6)\n",
    "plt.xlabel(\"Smog: pm25_8_niep\")\n",
    "plt.ylabel(\"zachmurzenie\")\n",
    "plt.title(\"pm25_8_niep ~ zachmurzenie\")"
   ]
  },
  {
   "cell_type": "markdown",
   "metadata": {},
   "source": [
    "### Smog, a predkosc wiatru"
   ]
  },
  {
   "cell_type": "code",
   "execution_count": 191,
   "metadata": {
    "scrolled": true
   },
   "outputs": [
    {
     "data": {
      "text/plain": [
       "<matplotlib.text.Text at 0x1df515c0>"
      ]
     },
     "execution_count": 191,
     "metadata": {},
     "output_type": "execute_result"
    },
    {
     "data": {
      "image/png": "[encoded data removed]",
      "text/plain": [
       "<matplotlib.figure.Figure at 0x1cfbbc18>"
      ]
     },
     "metadata": {},
     "output_type": "display_data"
    }
   ],
   "source": [
    "plt.scatter(x=df.pm25_8_niep, y=df.sr_predk_wiatr, s=6)\n",
    "plt.xlabel(\"Smog: pm25_8_niep\")\n",
    "plt.ylabel(\"predkosc wiatru\")\n",
    "plt.title(\"pm25_8_niep ~ predkosc wiatru\")"
   ]
  },
  {
   "cell_type": "markdown",
   "metadata": {},
   "source": [
    "* !!!: dla wiekszego wiatru - mniejszy smog - wywiewa"
   ]
  },
  {
   "cell_type": "markdown",
   "metadata": {},
   "source": [
    "### Smog, a wilgotnosc"
   ]
  },
  {
   "cell_type": "code",
   "execution_count": 192,
   "metadata": {
    "scrolled": true
   },
   "outputs": [
    {
     "data": {
      "text/plain": [
       "<matplotlib.text.Text at 0x1dfe4400>"
      ]
     },
     "execution_count": 192,
     "metadata": {},
     "output_type": "execute_result"
    },
    {
     "data": {
      "image/png": "[encoded data removed]",
      "text/plain": [
       "<matplotlib.figure.Figure at 0x1dfa8128>"
      ]
     },
     "metadata": {},
     "output_type": "display_data"
    }
   ],
   "source": [
    "plt.scatter(x=df.pm25_8_niep, y=df.sr_wilg, s=6)\n",
    "plt.xlabel(\"Smog: pm25_8_niep\")\n",
    "plt.ylabel(\"wilgotnosc\")\n",
    "plt.title(\"pm25_8_niep ~ wilgotnosc\")"
   ]
  },
  {
   "cell_type": "markdown",
   "metadata": {},
   "source": [
    "* lekko: wieksza wilgotnosc - wiekszy smog"
   ]
  },
  {
   "cell_type": "markdown",
   "metadata": {},
   "source": [
    "### Smog, a cisnienie"
   ]
  },
  {
   "cell_type": "code",
   "execution_count": 193,
   "metadata": {},
   "outputs": [
    {
     "data": {
      "text/plain": [
       "<matplotlib.text.Text at 0x1e07d780>"
      ]
     },
     "execution_count": 193,
     "metadata": {},
     "output_type": "execute_result"
    },
    {
     "data": {
      "image/png": "[encoded data removed]",
      "text/plain": [
       "<matplotlib.figure.Figure at 0x1e0217b8>"
      ]
     },
     "metadata": {},
     "output_type": "display_data"
    }
   ],
   "source": [
    "plt.scatter(x=df.pm25_8_niep, y=df.sr_cisn_morze, s=6)\n",
    "plt.xlabel(\"Smog: pm25_8_niep\")\n",
    "plt.ylabel(\"ciśnienie na poziomie morza\")\n",
    "plt.title(\"pm25_8_niep ~ cisnienie\")"
   ]
  },
  {
   "cell_type": "code",
   "execution_count": null,
   "metadata": {
    "collapsed": true
   },
   "outputs": [],
   "source": [
    "* 0 zalezn"
   ]
  },
  {
   "cell_type": "code",
   "execution_count": null,
   "metadata": {
    "collapsed": true
   },
   "outputs": [],
   "source": []
  },
  {
   "cell_type": "markdown",
   "metadata": {},
   "source": [
    "### Skosność zmiennych"
   ]
  },
  {
   "cell_type": "code",
   "execution_count": 102,
   "metadata": {
    "scrolled": true
   },
   "outputs": [
    {
     "data": {
      "text/plain": [
       "rok               -0.081893\n",
       "miesiac            0.052542\n",
       "dzien              0.005046\n",
       "sr_temp           -0.244950\n",
       "suma_opad          4.170671\n",
       "sr_zachm          -0.519795\n",
       "sr_predk_wiatr     1.017989\n",
       "sr_wilg           -0.340215\n",
       "sr_cisn_morze      0.058469\n",
       "pm25_sr_wok        2.341888\n",
       "pm10_8_niep        2.055596\n",
       "pm25_8_niep        2.392171\n",
       "bez_deszczu       -0.385860\n",
       "bez_wiatru        44.508426\n",
       "poprz_sr_temp     -0.244953\n",
       "dtype: float64"
      ]
     },
     "execution_count": 102,
     "metadata": {},
     "output_type": "execute_result"
    }
   ],
   "source": [
    "df.skew()"
   ]
  },
  {
   "cell_type": "markdown",
   "metadata": {},
   "source": [
    "Zobaczmy jak wygladaja przebiegi:"
   ]
  },
  {
   "cell_type": "code",
   "execution_count": 163,
   "metadata": {},
   "outputs": [
    {
     "data": {
      "text/plain": [
       "array([[<matplotlib.axes._subplots.AxesSubplot object at 0x0000000012829EF0>,\n",
       "        <matplotlib.axes._subplots.AxesSubplot object at 0x000000001C59FF98>,\n",
       "        <matplotlib.axes._subplots.AxesSubplot object at 0x000000001C1B1278>],\n",
       "       [<matplotlib.axes._subplots.AxesSubplot object at 0x000000001DB3E940>,\n",
       "        <matplotlib.axes._subplots.AxesSubplot object at 0x000000001DC36BE0>,\n",
       "        <matplotlib.axes._subplots.AxesSubplot object at 0x000000001DC36C88>],\n",
       "       [<matplotlib.axes._subplots.AxesSubplot object at 0x000000001E173860>,\n",
       "        <matplotlib.axes._subplots.AxesSubplot object at 0x000000001DECC0F0>,\n",
       "        <matplotlib.axes._subplots.AxesSubplot object at 0x000000001DCB6D30>],\n",
       "       [<matplotlib.axes._subplots.AxesSubplot object at 0x000000001DCADEF0>,\n",
       "        <matplotlib.axes._subplots.AxesSubplot object at 0x000000001DBEA7F0>,\n",
       "        <matplotlib.axes._subplots.AxesSubplot object at 0x000000001DCD6518>]], dtype=object)"
      ]
     },
     "execution_count": 163,
     "metadata": {},
     "output_type": "execute_result"
    },
    {
     "data": {
      "image/png": "[encoded data removed]",
      "text/plain": [
       "<matplotlib.figure.Figure at 0x1c9aa278>"
      ]
     },
     "metadata": {},
     "output_type": "display_data"
    }
   ],
   "source": [
    "df.hist()"
   ]
  },
  {
   "cell_type": "markdown",
   "metadata": {},
   "source": [
    "Zmienne objaśniane o rozkładach prawoskośnych:\n",
    "* suma_opad\n",
    "* sr_predk_wiatr\n",
    "\n",
    "Będę je logarytmował, aby wyrównać rozkład. Ale najpierw muszę poradzić sobie z wartościami=0.\n",
    "\n",
    "Będę sprawdzał 2 przypadki - zm obj zlogarytmowana i zwykla."
   ]
  },
  {
   "cell_type": "code",
   "execution_count": 249,
   "metadata": {
    "collapsed": true
   },
   "outputs": [],
   "source": [
    "df_log = copy.deepcopy(df)\n",
    "\n",
    "df_log.loc[ df_log[\"suma_opad\"] == 0, 'suma_opad' ] = 1.1\n",
    "opad_log = np.log(df_log[\"suma_opad\"])\n",
    "df_log[\"suma_opad\"] = opad_log\n",
    "\n",
    "df_log.loc[ df_log[\"sr_predk_wiatr\"] == 0, 'sr_predk_wiatr' ] = 1.1\n",
    "wiatr_log = np.log(df_log[\"sr_predk_wiatr\"])\n",
    "df_log[\"sr_predk_wiatr\"] = wiatr_log"
   ]
  },
  {
   "cell_type": "markdown",
   "metadata": {},
   "source": [
    "Jak wyglądają rozkłady po zlogarytmowaniu:"
   ]
  },
  {
   "cell_type": "code",
   "execution_count": 257,
   "metadata": {},
   "outputs": [
    {
     "data": {
      "image/png": "[encoded data removed]",
      "text/plain": [
       "<matplotlib.figure.Figure at 0x2504be80>"
      ]
     },
     "metadata": {},
     "output_type": "display_data"
    }
   ],
   "source": [
    "plt.figure()\n",
    "\n",
    "plt.subplot(221)\n",
    "df.suma_opad.hist()\n",
    "plt.title(\"opad df\")\n",
    "\n",
    "plt.subplot(222)\n",
    "#plt.boxplot(df.suma_opad)\n",
    "plt.hist(opad_log)\n",
    "plt.title(\"opad log\")\n",
    "\n",
    "plt.subplot(223)\n",
    "df.sr_predk_wiatr.hist()\n",
    "plt.title(\"wiatr df\")\n",
    "\n",
    "plt.subplot(224)\n",
    "plt.hist(wiatr_log)\n",
    "plt.title(\"wiatr log\")\n",
    "\n",
    "plt.show()"
   ]
  },
  {
   "cell_type": "markdown",
   "metadata": {},
   "source": [
    "### 2 podejścia:\n",
    "* logarytmowanie objasnianych - potem ...\n",
    "\n",
    "\n",
    "....."
   ]
  },
  {
   "cell_type": "markdown",
   "metadata": {},
   "source": [
    "## 4. Uczenie maszynowe"
   ]
  },
  {
   "cell_type": "markdown",
   "metadata": {},
   "source": [
    "Szybki rzut oka na obrobione dane:"
   ]
  },
  {
   "cell_type": "code",
   "execution_count": 108,
   "metadata": {},
   "outputs": [
    {
     "name": "stdout",
     "output_type": "stream",
     "text": [
      "Index(['rok', 'miesiac', 'dzien', 'sr_temp', 'suma_opad', 'sr_zachm',\n",
      "       'sr_predk_wiatr', 'sr_wilg', 'sr_cisn_morze', 'pm25_sr_wok',\n",
      "       'pm10_8_niep', 'pm25_8_niep', 'bez_deszczu', 'bez_wiatru',\n",
      "       'poprz_sr_temp'],\n",
      "      dtype='object')\n",
      "Index(['rok', 'miesiac', 'dzien', 'sr_temp', 'suma_opad', 'sr_zachm',\n",
      "       'sr_predk_wiatr', 'sr_wilg', 'sr_cisn_morze', 'pm25_sr_wok',\n",
      "       'pm10_8_niep', 'pm25_8_niep', 'bez_deszczu', 'bez_wiatru',\n",
      "       'poprz_sr_temp'],\n",
      "      dtype='object')\n",
      "(1981, 15)\n",
      "(1981, 15)\n"
     ]
    }
   ],
   "source": [
    "print(df.columns)\n",
    "print(df_log.columns)\n",
    "\n",
    "print(df.shape)\n",
    "print(df_log.shape)"
   ]
  },
  {
   "cell_type": "markdown",
   "metadata": {},
   "source": [
    "### Podział na X i y"
   ]
  },
  {
   "cell_type": "markdown",
   "metadata": {},
   "source": [
    "Tworzę osobne ramki danych i wektory objasnianych dla 3 modeli."
   ]
  },
  {
   "cell_type": "code",
   "execution_count": 109,
   "metadata": {},
   "outputs": [
    {
     "name": "stdout",
     "output_type": "stream",
     "text": [
      "rok 0\n",
      "miesiac 1\n",
      "dzien 2\n",
      "sr_temp 3\n",
      "suma_opad 4\n",
      "sr_zachm 5\n",
      "sr_predk_wiatr 6\n",
      "sr_wilg 7\n",
      "sr_cisn_morze 8\n",
      "pm25_sr_wok 9\n",
      "pm10_8_niep 10\n",
      "pm25_8_niep 11\n",
      "bez_deszczu 12\n",
      "bez_wiatru 13\n",
      "poprz_sr_temp 14\n"
     ]
    }
   ],
   "source": [
    "for i in range(len(df.columns)):\n",
    "    print(df.columns.values[i], i)"
   ]
  },
  {
   "cell_type": "markdown",
   "metadata": {},
   "source": [
    "Wektory zmiennych objasnianych dla calosci i dla \"zim\":"
   ]
  },
  {
   "cell_type": "code",
   "execution_count": 110,
   "metadata": {
    "collapsed": true
   },
   "outputs": [],
   "source": [
    "y_pm25_sr_wok = df.iloc[:,9]\n",
    "y_pm10_8_niep = df.iloc[:,10]\n",
    "y_pm25_8_niep = df.iloc[:,11]"
   ]
  },
  {
   "cell_type": "markdown",
   "metadata": {},
   "source": [
    "Usuwam zmienne kalendarzowe(oprócz miesiąca) (nimi nie wyjaśniam smogu) oraz zmienne objaśniane z ramek:"
   ]
  },
  {
   "cell_type": "code",
   "execution_count": 111,
   "metadata": {
    "collapsed": true
   },
   "outputs": [],
   "source": [
    "df_n = df.drop([\"pm25_sr_wok\", \"pm10_8_niep\", \"pm25_8_niep\", \"rok\", \"dzien\"], axis=1)\n",
    "df_log = df_log.drop([\"pm25_sr_wok\", \"pm10_8_niep\", \"pm25_8_niep\", \"rok\", \"dzien\"], axis=1)"
   ]
  },
  {
   "cell_type": "markdown",
   "metadata": {},
   "source": [
    "## Modelowanie"
   ]
  },
  {
   "cell_type": "markdown",
   "metadata": {},
   "source": [
    "Wybrałem algorytm lasów losowych dla problemu regresji, ponieważ dobrze radzi sobie zarówno ze zmiennymi ciągłymi jak i kategorycznymi. Poza tym nie wymagają skalowania żadnego typu(regularyzacja, standaryzacja itd.) i dzięki ważnościom zmiennych w intuicyjny sposób określają istotność zmiennych. Minusem jest słaba interpretowalność mapowań modelu. Najważniejsze jednak, że RandomForest tworzy mapowania o dużej dokładności w stosunku do innych tradycyjnych algorytmów uczenia maszynowego."
   ]
  },
  {
   "cell_type": "markdown",
   "metadata": {},
   "source": [
    "* Problemem jest predykcja smogu\n",
    "* Podział na zbiór treningowy i testowy: 80/20\n",
    "* \"Odpalając\" model na zbiorze testowym to tak jakbym obliczał predykcję smogu dla prognozy pogody\n",
    "\n",
    "\n",
    "Biblioteki:"
   ]
  },
  {
   "cell_type": "code",
   "execution_count": 112,
   "metadata": {
    "collapsed": true
   },
   "outputs": [],
   "source": [
    "from sklearn.model_selection import train_test_split\n",
    "from sklearn.ensemble import RandomForestRegressor\n",
    "from sklearn.metrics import r2_score\n",
    "from scipy.stats import spearmanr, pearsonr"
   ]
  },
  {
   "cell_type": "markdown",
   "metadata": {},
   "source": [
    "### Model 1 - pm25_8_niep (główny)"
   ]
  },
  {
   "cell_type": "markdown",
   "metadata": {
    "collapsed": true
   },
   "source": [
    "Podział na dane treningowe i testowe:"
   ]
  },
  {
   "cell_type": "code",
   "execution_count": 113,
   "metadata": {},
   "outputs": [
    {
     "name": "stdout",
     "output_type": "stream",
     "text": [
      "(1584, 10) (1584,)\n",
      "(397, 10) (397,)\n",
      "-----\n",
      "(1584, 10) (1584,)\n",
      "(397, 10) (397,)\n",
      "-----\n"
     ]
    }
   ],
   "source": [
    "# bez logarytmowanych zmiennych, wszystkie miesiace\n",
    "X_train1_df_n, X_test1_df_n, y_train1_df_n, y_test1_df_n = train_test_split(df_n, y_pm25_8_niep, test_size=0.2)\n",
    "\n",
    "# z logarytmowanymi zmiennymi, wszystkie miesiace\n",
    "X_train1_df_log, X_test1_df_log, y_train1_df_log, y_test1_df_log = train_test_split(df_log, y_pm25_8_niep, test_size=0.2)\n",
    "\n",
    "\n",
    "print(X_train1_df_n.shape, y_train1_df_n.shape)\n",
    "print(X_test1_df_n.shape, y_test1_df_n.shape)\n",
    "print(\"-----\")\n",
    "\n",
    "print(X_train1_df_log.shape, y_train1_df_log.shape)\n",
    "print(X_test1_df_log.shape, y_test1_df_log.shape)\n",
    "print(\"-----\")"
   ]
  },
  {
   "cell_type": "code",
   "execution_count": 114,
   "metadata": {},
   "outputs": [
    {
     "data": {
      "text/plain": [
       "RandomForestRegressor(bootstrap=True, criterion='mse', max_depth=None,\n",
       "           max_features='auto', max_leaf_nodes=None,\n",
       "           min_impurity_split=1e-07, min_samples_leaf=1,\n",
       "           min_samples_split=2, min_weight_fraction_leaf=0.0,\n",
       "           n_estimators=500, n_jobs=1, oob_score=True, random_state=0,\n",
       "           verbose=0, warm_start=False)"
      ]
     },
     "execution_count": 114,
     "metadata": {},
     "output_type": "execute_result"
    }
   ],
   "source": [
    "rf_df_n = RandomForestRegressor(n_estimators=500, oob_score=True, random_state=0)\n",
    "rf_df_log = RandomForestRegressor(n_estimators=500, oob_score=True, random_state=0)\n",
    "\n",
    "rf_df_n.fit(X_train1_df_n, y_train1_df_n)\n",
    "rf_df_log.fit(X_train1_df_log, y_train1_df_log)"
   ]
  },
  {
   "cell_type": "markdown",
   "metadata": {},
   "source": [
    "#### Wynik - df: pm25_8_niep"
   ]
  },
  {
   "cell_type": "code",
   "execution_count": 115,
   "metadata": {},
   "outputs": [
    {
     "name": "stdout",
     "output_type": "stream",
     "text": [
      "OOB R2: 0.414\n",
      "R2 na zb. testowym: 0.309\n",
      "Kor. Spearmana na zb. testowym: 0.568\n",
      "Kor. Pearsona na zb. testowym: 0.571\n",
      "-----\n",
      "Ważności zmiennych objasniajacych:\n",
      "[(0.30280000000000001, 'poprz_sr_temp'), (0.24790000000000001, 'sr_predk_wiatr'), (0.1116, 'sr_temp'), (0.087900000000000006, 'sr_wilg'), (0.084199999999999997, 'sr_cisn_morze'), (0.073999999999999996, 'sr_zachm'), (0.062300000000000001, 'miesiac'), (0.024799999999999999, 'suma_opad'), (0.0044999999999999997, 'bez_deszczu'), (0.0, 'bez_wiatru')]\n"
     ]
    }
   ],
   "source": [
    "predykcja_test = rf_df_n.predict(X_test1_df_n)\n",
    "\n",
    "r2s = r2_score(y_test1_df_n, predykcja_test)\n",
    "spearman = spearmanr(y_test1_df_n, predykcja_test)\n",
    "pearson = pearsonr(y_test1_df_n, predykcja_test)\n",
    "\n",
    "print(f'OOB R2: {rf_df_n.oob_score_:>5.3}')\n",
    "print(f'R2 na zb. testowym: {r2s:>5.3}')\n",
    "print(f'Kor. Spearmana na zb. testowym: {spearman[0]:.3}')\n",
    "print(f'Kor. Pearsona na zb. testowym: {pearson[0]:.3}')\n",
    "print(\"-----\")\n",
    "\n",
    "print(\"Ważności zmiennych objasniajacych:\")\n",
    "print(sorted(zip(map(lambda x: round(x, 4), rf_df_n.feature_importances_), df_n.columns.values), reverse=True))"
   ]
  },
  {
   "cell_type": "markdown",
   "metadata": {
    "collapsed": true
   },
   "source": [
    "#### Wynik - df_log: pm25_8_niep"
   ]
  },
  {
   "cell_type": "code",
   "execution_count": 116,
   "metadata": {},
   "outputs": [
    {
     "name": "stdout",
     "output_type": "stream",
     "text": [
      "OOB R2: 0.344\n",
      "R2 na zb. testowym: 0.501\n",
      "Kor. Spearmana na zb. testowym: 0.646\n",
      "Kor. Pearsona na zb. testowym: 0.709\n",
      "-----\n",
      "Ważności zmiennych objasniajacych:\n",
      "[(0.27179999999999999, 'poprz_sr_temp'), (0.251, 'sr_predk_wiatr'), (0.1132, 'sr_temp'), (0.090899999999999995, 'sr_wilg'), (0.089599999999999999, 'sr_cisn_morze'), (0.078899999999999998, 'sr_zachm'), (0.067500000000000004, 'miesiac'), (0.029999999999999999, 'suma_opad'), (0.0070000000000000001, 'bez_deszczu'), (0.0001, 'bez_wiatru')]\n"
     ]
    }
   ],
   "source": [
    "predykcja_test = rf_df_log.predict(X_test1_df_log)\n",
    "\n",
    "r2s = r2_score(y_test1_df_log, predykcja_test)\n",
    "spearman = spearmanr(y_test1_df_log, predykcja_test)\n",
    "pearson = pearsonr(y_test1_df_log, predykcja_test)\n",
    "\n",
    "print(f'OOB R2: {rf_df_log.oob_score_:>5.3}')\n",
    "print(f'R2 na zb. testowym: {r2s:>5.3}')\n",
    "print(f'Kor. Spearmana na zb. testowym: {spearman[0]:.3}')\n",
    "print(f'Kor. Pearsona na zb. testowym: {pearson[0]:.3}')\n",
    "print(\"-----\")\n",
    "\n",
    "print(\"Ważności zmiennych objasniajacych:\")\n",
    "print(sorted(zip(map(lambda x: round(x, 4), rf_df_log.feature_importances_), df_log.columns.values), reverse=True))"
   ]
  }
 ],
 "metadata": {
  "kernelspec": {
   "display_name": "Python 3",
   "language": "python",
   "name": "python3"
  },
  "language_info": {
   "codemirror_mode": {
    "name": "ipython",
    "version": 3
   },
   "file_extension": ".py",
   "mimetype": "text/x-python",
   "name": "python",
   "nbconvert_exporter": "python",
   "pygments_lexer": "ipython3",
   "version": "3.6.5"
  }
 },
 "nbformat": 4,
 "nbformat_minor": 2
}
